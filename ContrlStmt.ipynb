{
 "cells": [
  {
   "cell_type": "code",
   "execution_count": 5,
   "id": "d3899b78-8342-451f-a63c-0ef24b5e3604",
   "metadata": {},
   "outputs": [
    {
     "name": "stdin",
     "output_type": "stream",
     "text": [
      "Please provide an input: 79\n"
     ]
    },
    {
     "name": "stdout",
     "output_type": "stream",
     "text": [
      "Odd\n"
     ]
    }
   ],
   "source": [
    "num=int(input(\"Please provide an input:\"))\n",
    "rem = num%2\n",
    "if rem==0:\n",
    "    print(\"Even\")\n",
    "else:\n",
    "    print(\"Odd\")"
   ]
  },
  {
   "cell_type": "code",
   "execution_count": 15,
   "id": "2d5d7997-b129-49e0-9af8-dedba84b9d9f",
   "metadata": {},
   "outputs": [
    {
     "name": "stdin",
     "output_type": "stream",
     "text": [
      "Enter first number: 5\n"
     ]
    }
   ],
   "source": [
    "x = int(input(\"Enter first number:\"))"
   ]
  },
  {
   "cell_type": "code",
   "execution_count": 17,
   "id": "44fdf138-0cb8-494c-be9a-79793c4e05bf",
   "metadata": {},
   "outputs": [
    {
     "name": "stdin",
     "output_type": "stream",
     "text": [
      "Enter second number: 88\n"
     ]
    }
   ],
   "source": [
    "y = int(input(\"Enter second number:\"))"
   ]
  },
  {
   "cell_type": "code",
   "execution_count": 19,
   "id": "c12ef618-04de-4f57-b985-dc12c629cb8c",
   "metadata": {},
   "outputs": [
    {
     "name": "stdin",
     "output_type": "stream",
     "text": [
      "Enter third number: 1\n"
     ]
    }
   ],
   "source": [
    "z = int(input(\"Enter third number:\"))"
   ]
  },
  {
   "cell_type": "code",
   "execution_count": 21,
   "id": "44abcfeb-3242-4baa-ae1d-be22dc5494e0",
   "metadata": {},
   "outputs": [
    {
     "name": "stdout",
     "output_type": "stream",
     "text": [
      "Largest of 5,88, and 1 is 88\n"
     ]
    }
   ],
   "source": [
    "large = 0\n",
    "if x>y and x>z:\n",
    "    large = x\n",
    "elif y>x and y>z:\n",
    "    large=y\n",
    "else:\n",
    "    large=z\n",
    "print(\"Largest of {},{}, and {} is {}\".format(x,y,z,large))"
   ]
  },
  {
   "cell_type": "markdown",
   "id": "c1d2eb37-2f0f-4c25-b5c1-04f092f31b67",
   "metadata": {},
   "source": [
    "Prgm to accept a 4 digit year and a month between 1 and 12. Find number of days in the month for the year."
   ]
  },
  {
   "cell_type": "code",
   "execution_count": 59,
   "id": "7d63751c-584f-48eb-877c-23d7a70d2df7",
   "metadata": {},
   "outputs": [
    {
     "name": "stdin",
     "output_type": "stream",
     "text": [
      "Provide a year: 2012\n",
      "Provide a month: 2\n"
     ]
    },
    {
     "name": "stdout",
     "output_type": "stream",
     "text": [
      "Its a leap year!\n",
      "Number of days for the month 2 of year 2012 is 29\n"
     ]
    }
   ],
   "source": [
    "year = int(input(\"Provide a year:\"))\n",
    "month = int(input(\"Provide a month:\"))\n",
    "if year in range(1900,2100) and month in range(1,13):\n",
    "    if month ==2:                # Check if month is Feb\n",
    "        if year % 4==0:          # Leap year such as 2008, 2012\n",
    "            print(\"Its a leap year!\")\n",
    "            days = 29\n",
    "        else:\n",
    "            days =28\n",
    "    elif month in [4,6,9,11]:\n",
    "        days = 30\n",
    "    else:\n",
    "        days =31\n",
    "    print(\"Number of days for the month {} of year {} is {}\".format(month, year, days))    \n",
    "else:\n",
    "    print(\"Invalid year/month\")"
   ]
  },
  {
   "cell_type": "code",
   "execution_count": 65,
   "id": "1f82d8d8-2784-41a7-a3d6-2cb81f9ffd38",
   "metadata": {},
   "outputs": [
    {
     "name": "stdout",
     "output_type": "stream",
     "text": [
      "I don't know you!\n"
     ]
    }
   ],
   "source": [
    "print(\"I don't know you!\")"
   ]
  },
  {
   "cell_type": "markdown",
   "id": "49eea027-4d1c-4372-8a1b-f0a43be89d48",
   "metadata": {},
   "source": [
    "Largest of N decimal numbers"
   ]
  },
  {
   "cell_type": "code",
   "execution_count": 3,
   "id": "639a6dc8-a9bf-4977-848d-9bdf730651eb",
   "metadata": {},
   "outputs": [
    {
     "name": "stdin",
     "output_type": "stream",
     "text": [
      "How many numbers? 5\n"
     ]
    },
    {
     "name": "stdout",
     "output_type": "stream",
     "text": [
      "Enter 5 numbers:\n"
     ]
    },
    {
     "name": "stdin",
     "output_type": "stream",
     "text": [
      " 3\n",
      " 4.22\n",
      " 78.6\n",
      " 100.1\n",
      " 5.678\n"
     ]
    },
    {
     "name": "stdout",
     "output_type": "stream",
     "text": [
      "Largest is  100.1\n"
     ]
    }
   ],
   "source": [
    "n = int(input(\"How many numbers?\"))\n",
    "print(\"Enter {} numbers:\".format(n))\n",
    "largest =0\n",
    "i = 1\n",
    "while i<=n:\n",
    "    x = float(input())\n",
    "    if x > largest:\n",
    "        largest = x\n",
    "    i+=1\n",
    "print(\"Largest is \", largest)    \n",
    "    "
   ]
  },
  {
   "cell_type": "markdown",
   "id": "b2acd4e5-b92a-41cf-98f2-369c6a5a1439",
   "metadata": {},
   "source": [
    "Accept N numbers and find sum and average of even and odd numbers separately."
   ]
  },
  {
   "cell_type": "code",
   "execution_count": 13,
   "id": "010fbe52-8c6d-4a08-b593-a9b7c6ac7de3",
   "metadata": {},
   "outputs": [
    {
     "name": "stdin",
     "output_type": "stream",
     "text": [
      "How many numbers? 5\n"
     ]
    },
    {
     "name": "stdout",
     "output_type": "stream",
     "text": [
      "Enter 5 numbers:\n"
     ]
    },
    {
     "name": "stdin",
     "output_type": "stream",
     "text": [
      " 3\n"
     ]
    },
    {
     "name": "stdout",
     "output_type": "stream",
     "text": [
      "Odd number: 3\n"
     ]
    },
    {
     "name": "stdin",
     "output_type": "stream",
     "text": [
      " 4\n"
     ]
    },
    {
     "name": "stdout",
     "output_type": "stream",
     "text": [
      "Even number: 4\n"
     ]
    },
    {
     "name": "stdin",
     "output_type": "stream",
     "text": [
      " 5\n"
     ]
    },
    {
     "name": "stdout",
     "output_type": "stream",
     "text": [
      "Odd number: 5\n"
     ]
    },
    {
     "name": "stdin",
     "output_type": "stream",
     "text": [
      " 7\n"
     ]
    },
    {
     "name": "stdout",
     "output_type": "stream",
     "text": [
      "Odd number: 7\n"
     ]
    },
    {
     "name": "stdin",
     "output_type": "stream",
     "text": [
      " 8\n"
     ]
    },
    {
     "name": "stdout",
     "output_type": "stream",
     "text": [
      "Even number: 8\n",
      "Sum and Average of even numbers are 12 and 6.0\n",
      "Sum and Average of odd numbers are 15 and 5.0\n"
     ]
    }
   ],
   "source": [
    "n = int(input(\"How many numbers?\"))\n",
    "print(\"Enter {} numbers:\".format(n))\n",
    "i =1\n",
    "sum_even = sum_odd = 0\n",
    "avg_even = avg_odd = 0\n",
    "count_even = count_odd =0\n",
    "while i<=n:\n",
    "    x = int(input())\n",
    "    if x%2 ==0:\n",
    "        print(\"Even number:\", x)\n",
    "        sum_even +=x\n",
    "        count_even +=1\n",
    "    else:\n",
    "        print(\"Odd number:\",x)\n",
    "        sum_odd +=x\n",
    "        count_odd +=1\n",
    "    i+=1\n",
    "print(\"Sum and Average of even numbers are {} and {}\". format (sum_even, round(sum_even/count_even,2)))    \n",
    "print(\"Sum and Average of odd numbers are {} and {}\". format (sum_odd, round(sum_odd/count_odd,2)))"
   ]
  },
  {
   "cell_type": "markdown",
   "id": "c893bbee-3fb4-4d94-9353-0048bac2c4d1",
   "metadata": {},
   "source": [
    "Using Lists - find sum and average of n numbers"
   ]
  },
  {
   "cell_type": "code",
   "execution_count": 6,
   "id": "f940ee38-4eb2-49e7-b3b8-396ee63fbcba",
   "metadata": {},
   "outputs": [
    {
     "name": "stdin",
     "output_type": "stream",
     "text": [
      "How many numbers? 5\n"
     ]
    },
    {
     "name": "stdout",
     "output_type": "stream",
     "text": [
      "Enter 5 numbers:\n"
     ]
    },
    {
     "name": "stdin",
     "output_type": "stream",
     "text": [
      " 4\n",
      " 2\n",
      " 3\n",
      " 1\n",
      " 6\n"
     ]
    },
    {
     "name": "stdout",
     "output_type": "stream",
     "text": [
      "Even numbers: \n",
      "4\n",
      "2\n",
      "6\n",
      "Sum and Average of even numbers are 12 and 4.0\n",
      "Odd numbers:\n",
      "3\n",
      "1\n",
      "Sum and Average of odd numbers are 4 and 2.0\n"
     ]
    }
   ],
   "source": [
    "n = int(input(\"How many numbers?\"))\n",
    "print(\"Enter {} numbers:\".format(n))\n",
    "i =1\n",
    "l1 = []\n",
    "l2 = []\n",
    "while i<=n:\n",
    "    x = int(input())\n",
    "    if x%2 ==0:\n",
    "        l1.append(x)\n",
    "    else:\n",
    "        l2.append(x)\n",
    "    i+=1\n",
    "print(\"Even numbers: \")\n",
    "for j in l1:\n",
    "    print(j)\n",
    "print(\"Sum and Average of even numbers are {} and {}\". format (sum(l1), round(sum(l1)/len(l1),2)))   \n",
    "print(\"Odd numbers:\")\n",
    "for j in l2:\n",
    "    print(j)\n",
    "print(\"Sum and Average of odd numbers are {} and {}\". format (sum(l2), round(sum(l2)/len(l2),2)))"
   ]
  },
  {
   "cell_type": "markdown",
   "id": "f4a81527-cb2a-444b-af62-31b82a2259e8",
   "metadata": {},
   "source": [
    "Program to accept name and marks of 3 subjects for a student. Find total marks, final result (passed/failed) and grade."
   ]
  },
  {
   "cell_type": "code",
   "execution_count": 29,
   "id": "1ad20db4-0fa6-4c7c-a23f-ba6c4f88c3b8",
   "metadata": {},
   "outputs": [
    {
     "name": "stdin",
     "output_type": "stream",
     "text": [
      "What is your name? titu\n",
      "Give first marks: 34\n",
      "Give second marks: 45\n",
      "Give third marks: 68\n"
     ]
    },
    {
     "name": "stdout",
     "output_type": "stream",
     "text": [
      "titu has Failed the exam with 147 total marks and Nil grade\n"
     ]
    }
   ],
   "source": [
    "name =input(\"What is your name?\")\n",
    "mark1 = int(input(\"Give first marks:\"))\n",
    "mark2 = int(input(\"Give second marks:\"))\n",
    "mark3 = int(input(\"Give third marks:\"))\n",
    "if mark1 not in range(0,101) or mark2 not in range(0,101) or mark3 not in range(0,101):\n",
    "    print(\"You have entered invalid marks!!\")\n",
    "else:     \n",
    "    total = mark1 + mark2 + mark3\n",
    "    if mark1 < 35 or mark2 < 35 or mark3 < 35 or total < 120:\n",
    "        result = \"Failed\"\n",
    "    else:\n",
    "        result = \"Passed\"\n",
    "    #grade\n",
    "    if result ==\"Passed\":\n",
    "        if total>=240:\n",
    "            grade = \"Outstanding\"\n",
    "        elif total >=180:\n",
    "            grade = \"Excellent\"\n",
    "        elif total >= 150:\n",
    "            grade = \"Good\"\n",
    "        else:\n",
    "            grade = \"Average\"\n",
    "    else:\n",
    "        grade = \"Nil\"\n",
    "    print (\"{} has {} the exam with {} total marks and {} grade\".format(name,result,total,grade))    "
   ]
  },
  {
   "cell_type": "markdown",
   "id": "b4181909-fc84-4bde-92f8-aee306ccc3c7",
   "metadata": {},
   "source": [
    "Factorial of a number"
   ]
  },
  {
   "cell_type": "code",
   "execution_count": 43,
   "id": "eb88189f-d121-43c2-b22a-2c37d67438f3",
   "metadata": {},
   "outputs": [
    {
     "name": "stdin",
     "output_type": "stream",
     "text": [
      "Provide a number: 6\n"
     ]
    },
    {
     "name": "stdout",
     "output_type": "stream",
     "text": [
      "Factorial of 6 is 720\n"
     ]
    }
   ],
   "source": [
    "n = int(input(\"Provide a number:\"))\n",
    "fact =1\n",
    "i=1\n",
    "while i<=n:\n",
    "    if n==0 or n==1:\n",
    "        fact = 1\n",
    "    else:    \n",
    "        fact = fact * i\n",
    "        i+=1\n",
    "print(\"Factorial of {} is {}\".format(n,fact))\n",
    "    "
   ]
  },
  {
   "cell_type": "markdown",
   "id": "177e19dd-e229-4878-a728-84da3b9bf3ad",
   "metadata": {},
   "source": [
    "Find Sum of first N +ve numbers"
   ]
  },
  {
   "cell_type": "code",
   "execution_count": 50,
   "id": "20ce2e49-bdc3-4d6d-b8ab-a3d8bfa0424b",
   "metadata": {},
   "outputs": [
    {
     "name": "stdin",
     "output_type": "stream",
     "text": [
      "Enter a number: 7\n"
     ]
    },
    {
     "name": "stdout",
     "output_type": "stream",
     "text": [
      "Sum of first 7 natural numbers is 28 \n"
     ]
    }
   ],
   "source": [
    "n=int(input(\"Enter how many numbers:\"))\n",
    "sum =0\n",
    "i =1\n",
    "while i<=n:\n",
    "    sum =sum+i\n",
    "    i+=1\n",
    "print(\"Sum of first {} natural numbers is {} \".format(n,sum))    "
   ]
  },
  {
   "cell_type": "markdown",
   "id": "b5203b35-9f02-47c2-ad95-0491354d33d3",
   "metadata": {},
   "source": [
    "Find Sum and Average of any N numbers; read decimals also"
   ]
  },
  {
   "cell_type": "code",
   "execution_count": 55,
   "id": "64610518-baad-43bc-bb31-6a7db9c2343a",
   "metadata": {},
   "outputs": [
    {
     "name": "stdin",
     "output_type": "stream",
     "text": [
      "Enter how many numbers: 4\n"
     ]
    },
    {
     "name": "stdout",
     "output_type": "stream",
     "text": [
      "Enter the input numbers:\n"
     ]
    },
    {
     "name": "stdin",
     "output_type": "stream",
     "text": [
      " 2.3\n",
      " 3\n",
      " 2.4\n",
      " 1.5\n"
     ]
    },
    {
     "name": "stdout",
     "output_type": "stream",
     "text": [
      "Sum and average of 4 numbers entered are 9.2 and 2.3 respectively\n"
     ]
    }
   ],
   "source": [
    "n = int(input(\"Enter how many numbers:\"))\n",
    "sum=0\n",
    "average =0\n",
    "i =1\n",
    "print(\"Enter the input numbers:\")\n",
    "while i<=n:\n",
    "    a = float(input())\n",
    "    sum =sum + a\n",
    "    i+=1\n",
    "average = round(sum/n,2)\n",
    "print(\"Sum and average of {} numbers entered are {} and {} respectively\".format(n, sum, average))"
   ]
  },
  {
   "cell_type": "markdown",
   "id": "dd5c118d-c95d-4cfe-8d43-157efbe819a5",
   "metadata": {},
   "source": [
    "Display the Multiplication table of a number"
   ]
  },
  {
   "cell_type": "code",
   "execution_count": 60,
   "id": "21252307-44ca-4cd5-b16c-dbea3e3497e4",
   "metadata": {},
   "outputs": [
    {
     "name": "stdin",
     "output_type": "stream",
     "text": [
      "Enter a number: 7\n"
     ]
    },
    {
     "name": "stdout",
     "output_type": "stream",
     "text": [
      " 7 * 1 = 7\n",
      " 7 * 2 = 14\n",
      " 7 * 3 = 21\n",
      " 7 * 4 = 28\n",
      " 7 * 5 = 35\n",
      " 7 * 6 = 42\n",
      " 7 * 7 = 49\n",
      " 7 * 8 = 56\n",
      " 7 * 9 = 63\n",
      " 7 * 10 = 70\n"
     ]
    }
   ],
   "source": [
    "n = int(input(\"Enter a number:\"))\n",
    "prdt =1\n",
    "i=1\n",
    "while i<=10:\n",
    "    prdct = n*i\n",
    "    print(\" {} * {} = {}\".format(n,i,prdct))\n",
    "    i+=1\n",
    "    "
   ]
  },
  {
   "cell_type": "markdown",
   "id": "421e6660-0568-4349-b642-bfedb678c9d4",
   "metadata": {},
   "source": [
    "Reverse of a number"
   ]
  },
  {
   "cell_type": "code",
   "execution_count": 10,
   "id": "5a7accc9-6cc6-4732-b8e0-2908240ddf5d",
   "metadata": {},
   "outputs": [
    {
     "name": "stdin",
     "output_type": "stream",
     "text": [
      "Enter any number: 5673\n"
     ]
    },
    {
     "name": "stdout",
     "output_type": "stream",
     "text": [
      "3\n",
      "37\n",
      "376\n",
      "3765\n",
      "Reverse of the entered number is  3765\n"
     ]
    }
   ],
   "source": [
    "n = int(input(\"Enter any number:\"))\n",
    "rev =0\n",
    "rem = 0\n",
    "while n !=0:\n",
    "    rem = n % 10\n",
    "    rev = rev * 10 + rem\n",
    "    print(rev)\n",
    "    n //= 10\n",
    "print(\"Reverse of the entered number is \", rev)"
   ]
  },
  {
   "cell_type": "markdown",
   "id": "dfd0ac6c-3eae-47d3-8686-e2dabf71dafe",
   "metadata": {},
   "source": [
    "Sum of digits of a number accepted from console"
   ]
  },
  {
   "cell_type": "code",
   "execution_count": 20,
   "id": "2c3a2e52-e0ea-401e-8820-4dd506ffeb9a",
   "metadata": {},
   "outputs": [
    {
     "name": "stdin",
     "output_type": "stream",
     "text": [
      "Enter any number: 46571\n"
     ]
    },
    {
     "name": "stdout",
     "output_type": "stream",
     "text": [
      "Sum of digits of the entered number is  23\n"
     ]
    }
   ],
   "source": [
    "n = int(input(\"Enter any number:\"))\n",
    "sum =0\n",
    "while n !=0:\n",
    "    digit = n % 10\n",
    "    sum = sum + digit\n",
    "    n = n // 10\n",
    "print(\"Sum of digits of the entered number is \", sum)    "
   ]
  },
  {
   "cell_type": "markdown",
   "id": "26e8a706-8a84-4db1-8fbf-f070ce5f5ba4",
   "metadata": {},
   "source": [
    "Palindrome or not"
   ]
  },
  {
   "cell_type": "code",
   "execution_count": 32,
   "id": "b94925b2-a46f-4f6e-b8c4-bf39db2e6cd2",
   "metadata": {},
   "outputs": [
    {
     "name": "stdin",
     "output_type": "stream",
     "text": [
      "Enter any number: 343\n"
     ]
    },
    {
     "name": "stdout",
     "output_type": "stream",
     "text": [
      "Reverse is 343\n",
      "Its a palindrome number\n"
     ]
    }
   ],
   "source": [
    "n = int(input(\"Enter any number:\"))\n",
    "rev =0\n",
    "rem = 0\n",
    "original = n\n",
    "while n!=0:\n",
    "    rem = n% 10\n",
    "    rev = rev*10 + rem\n",
    "    n = n //10\n",
    "print(\"Reverse is\", rev)\n",
    "if rev == original:\n",
    "    print(\"Its a palindrome number\")\n",
    "else:\n",
    "    print(\"Its not a palindrome number\")"
   ]
  },
  {
   "cell_type": "markdown",
   "id": "3704c3ce-a5db-459c-b86c-cd274b14b1fb",
   "metadata": {},
   "source": [
    "Prime numbers between 1 and 100"
   ]
  },
  {
   "cell_type": "code",
   "execution_count": 5,
   "id": "717f76ef-0301-4828-9042-284e48f0774c",
   "metadata": {},
   "outputs": [
    {
     "name": "stdout",
     "output_type": "stream",
     "text": [
      "1\t2\t3\t5\t7\t11\t13\t17\t19\t23\t29\t31\t37\t41\t43\t47\t53\t59\t61\t67\t71\t73\t79\t83\t89\t97\t"
     ]
    }
   ],
   "source": [
    "i =1\n",
    "while i <=100:\n",
    "    j=2\n",
    "    flag =0\n",
    "    while j <= i//2:\n",
    "        if i%j == 0:\n",
    "            flag = 1\n",
    "            break\n",
    "        j+=1\n",
    "    if flag==0:\n",
    "       print(i, end='\\t')\n",
    "    i +=1"
   ]
  },
  {
   "cell_type": "code",
   "execution_count": 11,
   "id": "a90cbbdc-bc11-4287-9330-3ec7b131265c",
   "metadata": {},
   "outputs": [
    {
     "name": "stdout",
     "output_type": "stream",
     "text": [
      "0\t1\t2\t3\t4\t5\t6\t7\t8\t9\t10\t"
     ]
    }
   ],
   "source": [
    "for i in range(11):\n",
    "    print(i, end='\\t')"
   ]
  },
  {
   "cell_type": "code",
   "execution_count": 15,
   "id": "02a107f4-0100-4bf5-8853-2404b6c91c4c",
   "metadata": {},
   "outputs": [
    {
     "name": "stdout",
     "output_type": "stream",
     "text": [
      "1\t2\t3\t4\t5\t6\t7\t8\t9\t10\t"
     ]
    }
   ],
   "source": [
    "for i in range(1,11):\n",
    "    print(i, end='\\t')"
   ]
  },
  {
   "cell_type": "code",
   "execution_count": 17,
   "id": "4aa63323-c859-4118-bfe7-945661a8631a",
   "metadata": {},
   "outputs": [
    {
     "name": "stdout",
     "output_type": "stream",
     "text": [
      "1\t3\t5\t7\t9\t11\t13\t15\t17\t19\t21\t23\t25\t27\t29\t31\t33\t35\t37\t39\t41\t43\t45\t47\t49\t"
     ]
    }
   ],
   "source": [
    "for i in range(1,50,2):\n",
    "    print(i, end='\\t')"
   ]
  },
  {
   "cell_type": "code",
   "execution_count": 21,
   "id": "623b40ee-2da5-4a5b-ba95-047fcc84dad3",
   "metadata": {},
   "outputs": [
    {
     "name": "stdout",
     "output_type": "stream",
     "text": [
      "50\t48\t46\t44\t42\t40\t38\t36\t34\t32\t30\t28\t26\t24\t22\t20\t18\t16\t14\t12\t10\t8\t6\t4\t2\t"
     ]
    }
   ],
   "source": [
    "# even numbers below 50\n",
    "for i in range(50,1,-2):\n",
    "    print(i, end='\\t')"
   ]
  },
  {
   "cell_type": "code",
   "execution_count": 25,
   "id": "03f5db68-fb5d-4bb1-8a0b-e0187cdf8be5",
   "metadata": {},
   "outputs": [
    {
     "name": "stdout",
     "output_type": "stream",
     "text": [
      "10\t9\t8\t7\t6\t5\t4\t3\t2\t1\t"
     ]
    }
   ],
   "source": [
    "for i in range(10,0,-1):\n",
    "    print(i, end='\\t')"
   ]
  },
  {
   "cell_type": "code",
   "execution_count": 27,
   "id": "369c5aee-c474-4756-8d23-737db65432b1",
   "metadata": {},
   "outputs": [
    {
     "name": "stdout",
     "output_type": "stream",
     "text": [
      "10\t9\t8\t7\t6\t5\t4\t3\t2\t1\t0\t"
     ]
    }
   ],
   "source": [
    "for i in range(10,-1,-1):\n",
    "    print(i, end='\\t')"
   ]
  },
  {
   "cell_type": "code",
   "execution_count": null,
   "id": "8b6db8ba-c299-4bbd-934a-f829f96ed5c7",
   "metadata": {},
   "outputs": [],
   "source": []
  }
 ],
 "metadata": {
  "kernelspec": {
   "display_name": "Python 3 (ipykernel)",
   "language": "python",
   "name": "python3"
  },
  "language_info": {
   "codemirror_mode": {
    "name": "ipython",
    "version": 3
   },
   "file_extension": ".py",
   "mimetype": "text/x-python",
   "name": "python",
   "nbconvert_exporter": "python",
   "pygments_lexer": "ipython3",
   "version": "3.12.4"
  }
 },
 "nbformat": 4,
 "nbformat_minor": 5
}
