{
 "cells": [
  {
   "cell_type": "markdown",
   "id": "1de8dbb4-546f-43ef-a887-d7706d83aa42",
   "metadata": {},
   "source": [
    "Tuples in Python"
   ]
  },
  {
   "cell_type": "code",
   "execution_count": 1,
   "id": "d6001f36-907d-4c00-87c8-ec267e9a6208",
   "metadata": {},
   "outputs": [],
   "source": [
    "# A tuple is a one-dimensional, IMMUTABLE, ORDERED sequence of items which can be of mixed data types."
   ]
  },
  {
   "cell_type": "code",
   "execution_count": 3,
   "id": "54620924-e25c-4f32-9e03-6e064a0dd862",
   "metadata": {},
   "outputs": [],
   "source": [
    "first_tuple = (12,'Jack',45.6, 'new', (3,2), 'test')"
   ]
  },
  {
   "cell_type": "code",
   "execution_count": 5,
   "id": "deea88cd-f038-47b2-aee2-48a02ea766ea",
   "metadata": {},
   "outputs": [
    {
     "data": {
      "text/plain": [
       "(12, 'Jack', 45.6, 'new', (3, 2), 'test')"
      ]
     },
     "execution_count": 5,
     "metadata": {},
     "output_type": "execute_result"
    }
   ],
   "source": [
    "first_tuple"
   ]
  },
  {
   "cell_type": "code",
   "execution_count": 7,
   "id": "b0148f06-a84f-4cc4-8114-1066d5af203b",
   "metadata": {},
   "outputs": [
    {
     "data": {
      "text/plain": [
       "'Jack'"
      ]
     },
     "execution_count": 7,
     "metadata": {},
     "output_type": "execute_result"
    }
   ],
   "source": [
    "first_tuple[1]"
   ]
  },
  {
   "cell_type": "code",
   "execution_count": 11,
   "id": "c407ca7e-a0f4-409b-9370-4fadd382bf75",
   "metadata": {},
   "outputs": [
    {
     "ename": "TypeError",
     "evalue": "'tuple' object does not support item assignment",
     "output_type": "error",
     "traceback": [
      "\u001b[1;31m---------------------------------------------------------------------------\u001b[0m",
      "\u001b[1;31mTypeError\u001b[0m                                 Traceback (most recent call last)",
      "Cell \u001b[1;32mIn[11], line 1\u001b[0m\n\u001b[1;32m----> 1\u001b[0m first_tuple[\u001b[38;5;241m1\u001b[39m] \u001b[38;5;241m=\u001b[39m \u001b[38;5;124m'\u001b[39m\u001b[38;5;124mJonas\u001b[39m\u001b[38;5;124m'\u001b[39m\n",
      "\u001b[1;31mTypeError\u001b[0m: 'tuple' object does not support item assignment"
     ]
    }
   ],
   "source": [
    "first_tuple[1] = 'Jonas'    # IMMUTABLE Tuple object"
   ]
  },
  {
   "cell_type": "code",
   "execution_count": 13,
   "id": "c40186fd-ede2-437e-89b5-0672905366a7",
   "metadata": {},
   "outputs": [
    {
     "data": {
      "text/plain": [
       "'new'"
      ]
     },
     "execution_count": 13,
     "metadata": {},
     "output_type": "execute_result"
    }
   ],
   "source": [
    "first_tuple[-3]"
   ]
  },
  {
   "cell_type": "code",
   "execution_count": 15,
   "id": "23a74ca0-5eb5-4321-bce8-19482f96e7b8",
   "metadata": {},
   "outputs": [
    {
     "data": {
      "text/plain": [
       "(3, 2)"
      ]
     },
     "execution_count": 15,
     "metadata": {},
     "output_type": "execute_result"
    }
   ],
   "source": [
    "first_tuple[-2]"
   ]
  },
  {
   "cell_type": "code",
   "execution_count": 17,
   "id": "e82f4943-4383-49dc-bb1c-9737b055cd46",
   "metadata": {},
   "outputs": [
    {
     "data": {
      "text/plain": [
       "('Jack', 45.6, 'new')"
      ]
     },
     "execution_count": 17,
     "metadata": {},
     "output_type": "execute_result"
    }
   ],
   "source": [
    "# Creating a Subset / Slice of the tuple\n",
    "first_tuple[1:4]"
   ]
  },
  {
   "cell_type": "code",
   "execution_count": 19,
   "id": "26633d90-f92b-4acd-893b-a8b25aaf5d5c",
   "metadata": {},
   "outputs": [
    {
     "data": {
      "text/plain": [
       "('Jack', 45.6, 'new', (3, 2))"
      ]
     },
     "execution_count": 19,
     "metadata": {},
     "output_type": "execute_result"
    }
   ],
   "source": [
    "first_tuple[1:-1]"
   ]
  },
  {
   "cell_type": "code",
   "execution_count": 21,
   "id": "bfb67898-aa43-493e-b601-4b8abaf3e96b",
   "metadata": {},
   "outputs": [
    {
     "ename": "AttributeError",
     "evalue": "'tuple' object has no attribute 'append'",
     "output_type": "error",
     "traceback": [
      "\u001b[1;31m---------------------------------------------------------------------------\u001b[0m",
      "\u001b[1;31mAttributeError\u001b[0m                            Traceback (most recent call last)",
      "Cell \u001b[1;32mIn[21], line 1\u001b[0m\n\u001b[1;32m----> 1\u001b[0m first_tuple\u001b[38;5;241m.\u001b[39mappend(\u001b[38;5;124m\"\u001b[39m\u001b[38;5;124mKJ\u001b[39m\u001b[38;5;124m\"\u001b[39m)\n",
      "\u001b[1;31mAttributeError\u001b[0m: 'tuple' object has no attribute 'append'"
     ]
    }
   ],
   "source": [
    "first_tuple.append(\"KJ\")"
   ]
  },
  {
   "cell_type": "code",
   "execution_count": 33,
   "id": "0e60c9b8-b29e-4bf7-a7b8-22cd4bbde668",
   "metadata": {},
   "outputs": [
    {
     "name": "stdin",
     "output_type": "stream",
     "text": [
      "How many elements? 4\n"
     ]
    },
    {
     "name": "stdout",
     "output_type": "stream",
     "text": [
      "Enter 4 elements..OR Press Return key to exit\n"
     ]
    },
    {
     "name": "stdin",
     "output_type": "stream",
     "text": [
      " car\n",
      " 67\n",
      " 3.5\n",
      " bike\n"
     ]
    },
    {
     "name": "stdout",
     "output_type": "stream",
     "text": [
      "Tuple created dynamically :  ('car', '67', '3.5', 'bike')\n"
     ]
    }
   ],
   "source": [
    "# Program to accept N elements into a tuple and print the same. Tuple will not allow accept values , so use a temperory list \n",
    "# for the same\n",
    "# DYNAMICALLY Adding values to a Tuple\n",
    "n = int(input(\"How many elements?\"))\n",
    "tlist = []\n",
    "mytuple = ()\n",
    "i=1\n",
    "print(f\"Enter {n} elements..OR Press Return key to exit\")\n",
    "while i<=n:\n",
    "    ele = input()\n",
    "    if ele ==\"\":\n",
    "        break\n",
    "    tlist.append(ele)    \n",
    "    i+=1\n",
    "mytuple = tuple(tlist)\n",
    "del tlist\n",
    "print(\"Tuple created dynamically : \", mytuple)\n"
   ]
  },
  {
   "cell_type": "code",
   "execution_count": 39,
   "id": "ede78588-fad0-44b9-a4ae-b87f7aa54b43",
   "metadata": {},
   "outputs": [
    {
     "name": "stdout",
     "output_type": "stream",
     "text": [
      "Pre-defined Tuple: ('Egypt', 'Italy', 'Iran', 'Austria', 'Australia', 'Japan', 'Maldives', 'SriLanka')\n"
     ]
    },
    {
     "name": "stdin",
     "output_type": "stream",
     "text": [
      "Which value to replace? iran\n",
      "Enter the new value : usa\n"
     ]
    },
    {
     "name": "stdout",
     "output_type": "stream",
     "text": [
      "Iran has been replaced with Usa\n",
      "Updated tuple: ('Egypt', 'Italy', 'Usa', 'Austria', 'Australia', 'Japan', 'Maldives', 'SriLanka')\n"
     ]
    }
   ],
   "source": [
    "# Program replace a value in the tuple of pre-defined values, accepted from the console.\n",
    "\n",
    "mytuple = ('Egypt','Italy','Iran','Austria','Australia','Japan','Maldives','SriLanka')\n",
    "print(\"Pre-defined Tuple:\", mytuple)\n",
    "old = input(\"Which value to replace?\").title()\n",
    "if old in mytuple:\n",
    "    new = input(\"Enter the new value :\").title()\n",
    "    pos = mytuple.index(old)\n",
    "    tlist = list(mytuple)\n",
    "    tlist[pos] = new\n",
    "    mytuple = tuple(tlist)\n",
    "    del tlist\n",
    "    print (f\"{old} has been replaced with {new}\") \n",
    "    print(\"Updated tuple:\", mytuple)\n",
    "else:\n",
    "    print(\"Sorry....this value is not found in the Tuple. Try again...\") \n"
   ]
  },
  {
   "cell_type": "code",
   "execution_count": 5,
   "id": "20b49d89-d7fc-4e10-89ad-6b1b0833f0f1",
   "metadata": {},
   "outputs": [
    {
     "name": "stdout",
     "output_type": "stream",
     "text": [
      "Pre-defined Tuple: ('Egypt', 'Italy', 'Iran', 'Austria', 'Australia', 'Japan', 'Maldives', 'SriLanka')\n"
     ]
    },
    {
     "name": "stdin",
     "output_type": "stream",
     "text": [
      "Which value to delete? maldives\n"
     ]
    },
    {
     "name": "stdout",
     "output_type": "stream",
     "text": [
      "Updated tuple ['Australia', 'Austria', 'Egypt', 'Iran', 'Italy', 'Japan', 'SriLanka']\n"
     ]
    }
   ],
   "source": [
    "# Try deleting a value from a pre-defined tuple. accept the value from the console\n",
    "\n",
    "mytuple = ('Egypt','Italy','Iran','Austria','Australia','Japan','Maldives','SriLanka')\n",
    "print(\"Pre-defined Tuple:\", mytuple)\n",
    "tlist = []\n",
    "old = input(\"Which value to delete?\").title()\n",
    "if old in mytuple:\n",
    "        pos = mytuple.index(old)\n",
    "        tlist = list(mytuple)\n",
    "        tlist.remove(old)\n",
    "        mytuple = tuple(tlist)\n",
    "        del tlist\n",
    "else:\n",
    "    print(\"Value not present in tuple...\")\n",
    "print(\"Updated tuple\", sorted(mytuple))\n"
   ]
  },
  {
   "cell_type": "code",
   "execution_count": 20,
   "id": "0507c4b1-8577-47aa-8a98-0736b74891c4",
   "metadata": {},
   "outputs": [
    {
     "name": "stdout",
     "output_type": "stream",
     "text": [
      "Pre-defined Tuple: (12, 44, 33, 76)\n"
     ]
    },
    {
     "name": "stdin",
     "output_type": "stream",
     "text": [
      "Which value to delete? Type 0 to exit 12\n"
     ]
    },
    {
     "name": "stdout",
     "output_type": "stream",
     "text": [
      "Updated tuple [33, 44, 76]\n"
     ]
    },
    {
     "name": "stdin",
     "output_type": "stream",
     "text": [
      "Which value to delete? Type 0 to exit 33\n"
     ]
    },
    {
     "name": "stdout",
     "output_type": "stream",
     "text": [
      "Updated tuple [44, 76]\n"
     ]
    },
    {
     "name": "stdin",
     "output_type": "stream",
     "text": [
      "Which value to delete? Type 0 to exit 44\n"
     ]
    },
    {
     "name": "stdout",
     "output_type": "stream",
     "text": [
      "Updated tuple [76]\n"
     ]
    },
    {
     "name": "stdin",
     "output_type": "stream",
     "text": [
      "Which value to delete? Type 0 to exit 76\n"
     ]
    },
    {
     "name": "stdout",
     "output_type": "stream",
     "text": [
      "Updated tuple []\n",
      "Caution ...Tuple is empty now\n"
     ]
    }
   ],
   "source": [
    "# Update above program to delete elements continuously, from user. Check if tuple becomes empty, alarm the user then.\n",
    "\n",
    "mytuple = (12,44,33,76)\n",
    "print(\"Pre-defined Tuple:\", mytuple)\n",
    "tlist = []\n",
    "while mytuple:\n",
    "    old = int(input(\"Which value to delete? Type 0 to exit\"))\n",
    "    if old ==0:\n",
    "        print(\"Exiting..\")\n",
    "        break\n",
    "        \n",
    "    if old in mytuple:\n",
    "        pos = mytuple.index(old)\n",
    "        tlist = list(mytuple)\n",
    "        tlist.remove(old)\n",
    "        mytuple = tuple(tlist)\n",
    "        print(\"Updated tuple\", sorted(mytuple))\n",
    "    else:\n",
    "        print(\"Value not present in tuple...\")\n",
    "        \n",
    "    if not mytuple:\n",
    "        print(\"Caution ...Tuple is empty now\")\n",
    "del tlist\n"
   ]
  },
  {
   "cell_type": "code",
   "execution_count": null,
   "id": "95cb47df-76c5-4cd2-95f9-e7195f18377b",
   "metadata": {},
   "outputs": [],
   "source": []
  },
  {
   "cell_type": "code",
   "execution_count": null,
   "id": "469adbe7-3f97-4e8a-9096-936ffea586bb",
   "metadata": {},
   "outputs": [],
   "source": []
  }
 ],
 "metadata": {
  "kernelspec": {
   "display_name": "Python 3 (ipykernel)",
   "language": "python",
   "name": "python3"
  },
  "language_info": {
   "codemirror_mode": {
    "name": "ipython",
    "version": 3
   },
   "file_extension": ".py",
   "mimetype": "text/x-python",
   "name": "python",
   "nbconvert_exporter": "python",
   "pygments_lexer": "ipython3",
   "version": "3.12.4"
  }
 },
 "nbformat": 4,
 "nbformat_minor": 5
}
