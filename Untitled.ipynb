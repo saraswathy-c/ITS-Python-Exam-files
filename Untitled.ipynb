{
 "cells": [
  {
   "cell_type": "code",
   "execution_count": 7,
   "id": "d652a5ed-bafb-4162-b769-6eb7b7a739ab",
   "metadata": {},
   "outputs": [],
   "source": [
    "import unittest\n",
    "\n",
    "# Code to be tested\n",
    "def add(a, b):\n",
    "    return a + b\n",
    "\n",
    "def subtract(a, b):\n",
    "    return a - b\n",
    "\n",
    "# Creating a Test Case class\n",
    "class TestMathOperations(unittest.TestCase):\n",
    "\n",
    "    # Test method for add function\n",
    "    def test_add(self):\n",
    "        self.assertEqual(add(2, 3), 5)   # Passes\n",
    "        self.assertEqual(add(-1, 1), 0)  # Passes\n",
    "        self.assertEqual(add(0, 0), 0)   # Passes\n",
    "\n",
    "    # Test method for subtract function\n",
    "    def test_subtract(self):\n",
    "        self.assertEqual(subtract(5, 3), 2)    # Passes\n",
    "        self.assertEqual(subtract(10, 5), 5)   # Passes\n",
    "        self.assertNotEqual(subtract(2, 1), 0) # Passes\n",
    "\n",
    "    # Using setUp and tearDown for preparation and cleanup\n",
    "    def setUp(self):\n",
    "        print(\"Setting up before a test\")\n",
    "\n",
    "    def tearDown(self):\n",
    "        print(\"Cleaning up after a test\")\n",
    "\n",
    "# Running the tests directly, like python prgmname.py, then _name_ is set to \"_main_\"\n",
    "# Running the test suite\n",
    "#if __name__ == '__main__':\n",
    " #   unittest.main()\n"
   ]
  },
  {
   "cell_type": "code",
   "execution_count": 10,
   "id": "c5cc32fc-a6d9-4053-af75-70a214903f6c",
   "metadata": {},
   "outputs": [
    {
     "name": "stdout",
     "output_type": "stream",
     "text": [
      "[10, 12, 14, 16, 18, 20]\n",
      "Tested Okay\n",
      "3 tests where successful\n"
     ]
    }
   ],
   "source": [
    "from unittest import TestCase\n",
    "#function to check whether the number is odd or even\n",
    "def is_even(n): #function defnition\n",
    "    if n%2==0 :\n",
    "        return True\n",
    "    else:\n",
    "        return False\n",
    "#A function to generate even number between the given\n",
    "#range\n",
    "def even_numbers(m,n):\n",
    "    evenlist=[] #list to store even numbers\n",
    "    if m%2!=0: #if start is odd\n",
    "        m+=1\n",
    "    if n%2==0: #if end is even number , ie. if 20 set to 21\n",
    "        n+=1\n",
    "    for i in range(m,n,2):#generating even numbers between M and N\n",
    "        evenlist.append(i) #adding to the list\n",
    "    return evenlist #returning the even list\n",
    "\n",
    "print(even_numbers(10,20)) #function called with 2 parameterw\n",
    "tc=TestCase() #defining a new testcase\n",
    "sucess=0 #to count the successful cases\n",
    "tc.assertFalse(is_even(17)) #False\n",
    "sucess+=1\n",
    "tc.assertTrue(is_even(30))\n",
    "sucess+=1\n",
    "tc.assertIn(18,even_numbers(10,20))\n",
    "sucess+=1\n",
    "print(\"Tested Okay\")\n",
    "print(\"{} tests where successful\".format(sucess))"
   ]
  },
  {
   "cell_type": "code",
   "execution_count": 20,
   "id": "42d9c4f1-da7d-42bd-b4db-a1cdb69fc919",
   "metadata": {},
   "outputs": [
    {
     "name": "stderr",
     "output_type": "stream",
     "text": [
      "C:\\Users\\saras\\AppData\\Local\\Temp\\ipykernel_12296\\1325517595.py:9: DeprecationWarning: unittest.makeSuite() is deprecated and will be removed in Python 3.13. Please use unittest.TestLoader.loadTestsFromTestCase() instead.\n",
      "  unittest.TextTestRunner().run(unittest.makeSuite(TestExample))\n",
      "F\n",
      "======================================================================\n",
      "FAIL: test_rect (__main__.TestExample.test_rect)\n",
      "----------------------------------------------------------------------\n",
      "Traceback (most recent call last):\n",
      "  File \"C:\\Users\\saras\\AppData\\Local\\Temp\\ipykernel_12296\\1325517595.py\", line 5, in test_rect\n",
      "    self.assertEqual(5*4,21,\"Not Equal\")\n",
      "AssertionError: 20 != 21 : Not Equal\n",
      "\n",
      "----------------------------------------------------------------------\n",
      "Ran 1 test in 0.035s\n",
      "\n",
      "FAILED (failures=1)\n"
     ]
    },
    {
     "data": {
      "text/plain": [
       "<unittest.runner.TextTestResult run=1 errors=0 failures=1>"
      ]
     },
     "execution_count": 20,
     "metadata": {},
     "output_type": "execute_result"
    }
   ],
   "source": [
    "import unittest\n",
    "\n",
    "class TestExample(unittest.TestCase):\n",
    "    def test_rect(self):\n",
    "        self.assertEqual(5*4,21,\"Not Equal\")\n",
    "\n",
    "#te = TestExample()\n",
    "# Create a test suite and run it\n",
    "unittest.TextTestRunner().run(unittest.makeSuite(TestExample))"
   ]
  },
  {
   "cell_type": "code",
   "execution_count": 22,
   "id": "596486f3-d282-437b-ad47-be761881b18a",
   "metadata": {},
   "outputs": [
    {
     "name": "stdout",
     "output_type": "stream",
     "text": [
      "Returned argument a is squared.\n",
      "Help on function square in module __main__:\n",
      "\n",
      "square(a)\n",
      "    Returned argument a is squared.\n",
      "\n"
     ]
    }
   ],
   "source": [
    "def square(a):\n",
    "    'Returned argument a is squared.'\n",
    "    return a**a\n",
    "\n",
    "print (square.__doc__)\n",
    "help(square)"
   ]
  },
  {
   "cell_type": "code",
   "execution_count": 34,
   "id": "7cf6fcab-9250-47be-8d8c-c2976428ca2c",
   "metadata": {},
   "outputs": [
    {
     "name": "stdout",
     "output_type": "stream",
     "text": [
      "Sums up the two given arguments \n",
      "\n",
      "Help on function sum in module __main__:\n",
      "\n",
      "sum(a, b)\n",
      "    Sums up the two given arguments\n",
      "\n"
     ]
    }
   ],
   "source": [
    "def sum(a,b):\n",
    "    '''Sums up the two given arguments '''\n",
    "    return a+b\n",
    "\n",
    "print(sum.__doc__)\n",
    "print()\n",
    "help(sum)"
   ]
  },
  {
   "cell_type": "code",
   "execution_count": 1,
   "id": "0e0c2843-7c5b-4b17-8ec5-1115a362928c",
   "metadata": {},
   "outputs": [
    {
     "name": "stdout",
     "output_type": "stream",
     "text": [
      "The price for clutch is 80.00 dollars\n"
     ]
    }
   ],
   "source": [
    "price =80\n",
    "print(f\"The price for clutch is {price:.2f} dollars\")"
   ]
  },
  {
   "cell_type": "code",
   "execution_count": 5,
   "id": "40ec1b90-a12c-4fe2-b519-0c1000e55bed",
   "metadata": {},
   "outputs": [
    {
     "name": "stdout",
     "output_type": "stream",
     "text": [
      "The price is 80.00 dollars\n"
     ]
    }
   ],
   "source": [
    "print(f\"The price is {80:.2f} dollars\")"
   ]
  },
  {
   "cell_type": "code",
   "execution_count": 9,
   "id": "3b193d76-3671-4004-862e-8e5435d83dba",
   "metadata": {},
   "outputs": [
    {
     "name": "stdout",
     "output_type": "stream",
     "text": [
      "The price is Rs 59,000\n"
     ]
    }
   ],
   "source": [
    "print(f\"The price is Rs {59000:,}\")"
   ]
  },
  {
   "cell_type": "code",
   "execution_count": 11,
   "id": "98d8a088-82e0-49b3-9625-d867a3a3169e",
   "metadata": {},
   "outputs": [
    {
     "name": "stdout",
     "output_type": "stream",
     "text": [
      "I want 3 pieces of item number 567 for 49.00 dollars.\n"
     ]
    }
   ],
   "source": [
    "quantity = 3\n",
    "itemno = 567\n",
    "price = 49\n",
    "myorder = \"I want {} pieces of item number {} for {:.2f} dollars.\"\n",
    "print(myorder.format(quantity, itemno, price))"
   ]
  },
  {
   "cell_type": "code",
   "execution_count": 13,
   "id": "c2bf22d9-4036-44ca-8609-1f350a40ede4",
   "metadata": {},
   "outputs": [
    {
     "name": "stdout",
     "output_type": "stream",
     "text": [
      "I want 3 pieces of item number 567 for 49.00 dollars.\n"
     ]
    }
   ],
   "source": [
    "quantity = 3\n",
    "itemno = 567\n",
    "price = 49\n",
    "myorder = \"I want {0} pieces of item number {1} for {2:.2f} dollars.\"\n",
    "print(myorder.format(quantity, itemno, price))"
   ]
  },
  {
   "cell_type": "code",
   "execution_count": 15,
   "id": "f0e57b95-6795-458a-b167-d172632207ec",
   "metadata": {},
   "outputs": [
    {
     "name": "stdout",
     "output_type": "stream",
     "text": [
      "His name is John. John is 36 years old.\n",
      "Hey John, you are 36\n"
     ]
    }
   ],
   "source": [
    "age = 36\n",
    "name = \"John\"\n",
    "txt = \"His name is {1}. {1} is {0} years old.\"\n",
    "print(txt.format(age, name))\n",
    "print(\"Hey {1}, you are {0}\".format(age,name))"
   ]
  },
  {
   "cell_type": "code",
   "execution_count": 23,
   "id": "4a50713e-9ebc-47a7-a861-8fd970e4b0be",
   "metadata": {},
   "outputs": [
    {
     "name": "stdin",
     "output_type": "stream",
     "text": [
      "Enter employee number (ddd-dd-dddd):  123-45-6789\n"
     ]
    },
    {
     "name": "stdout",
     "output_type": "stream",
     "text": [
      "['123', '45', '6789']\n",
      "True\n"
     ]
    },
    {
     "name": "stdin",
     "output_type": "stream",
     "text": [
      "Enter employee number (ddd-dd-dddd):  \n"
     ]
    },
    {
     "name": "stdout",
     "output_type": "stream",
     "text": [
      "['']\n",
      "False\n"
     ]
    },
    {
     "name": "stdin",
     "output_type": "stream",
     "text": [
      "Enter employee number (ddd-dd-dddd):  sentinel\n"
     ]
    },
    {
     "name": "stdout",
     "output_type": "stream",
     "text": [
      "['sentinel']\n",
      "False\n"
     ]
    }
   ],
   "source": [
    "employee_number = \"\"\n",
    "parts = \"\"\n",
    "\n",
    "while employee_number != \"sentinel\":\n",
    "    valid = False\n",
    "    employee_number = input(\"Enter employee number (ddd-dd-dddd): \")\n",
    "    parts = employee_number.split('-')\n",
    "    print(parts)\n",
    "    if len(parts) == 3:\n",
    "        if len(parts[0]) == 3 and len(parts[1]) == 2 and len(parts[2]) == 4:\n",
    "            if parts[0].isdigit() and parts[1].isdigit() and parts[2].isdigit():\n",
    "                valid = True\n",
    "    print(valid)"
   ]
  },
  {
   "cell_type": "code",
   "execution_count": 29,
   "id": "235e147c-952f-46d8-b2f3-1fe8f02a983d",
   "metadata": {},
   "outputs": [
    {
     "name": "stdout",
     "output_type": "stream",
     "text": [
      "April-07-17\n",
      "1,234,567.8900 \n"
     ]
    }
   ],
   "source": [
    "import datetime \n",
    "d = datetime.datetime(2017, 4, 7)\n",
    "print(\"{:%B-%d-%y}\".format(d)) \n",
    "num = 1234567.890\n",
    "print(\"{:,.4f} \".format(num))"
   ]
  },
  {
   "cell_type": "code",
   "execution_count": 33,
   "id": "c148b328-fb1f-464c-92a5-3a2cc58c41d9",
   "metadata": {},
   "outputs": [
    {
     "data": {
      "text/plain": [
       "45"
      ]
     },
     "execution_count": 33,
     "metadata": {},
     "output_type": "execute_result"
    }
   ],
   "source": [
    "import random\n",
    "random.randrange(5, 100, 5)"
   ]
  },
  {
   "cell_type": "code",
   "execution_count": 35,
   "id": "d7d6da9b-26fe-4cf3-9bb4-e2f10060068c",
   "metadata": {},
   "outputs": [
    {
     "data": {
      "text/plain": [
       "3"
      ]
     },
     "execution_count": 35,
     "metadata": {},
     "output_type": "execute_result"
    }
   ],
   "source": [
    "random.randrange(5)"
   ]
  },
  {
   "cell_type": "code",
   "execution_count": 49,
   "id": "85f45d5d-1994-4ad3-8e85-c49b05f8157c",
   "metadata": {},
   "outputs": [
    {
     "data": {
      "text/plain": [
       "13"
      ]
     },
     "execution_count": 49,
     "metadata": {},
     "output_type": "execute_result"
    }
   ],
   "source": [
    "random.randrange(5,15) # stop exclusive. Only stop argument is mandatory"
   ]
  },
  {
   "cell_type": "code",
   "execution_count": 41,
   "id": "30e39d38-2c6c-45cb-935a-0c0c0d147447",
   "metadata": {},
   "outputs": [
    {
     "name": "stdout",
     "output_type": "stream",
     "text": [
      "60\n"
     ]
    }
   ],
   "source": [
    "print(random.randrange(5, 100,5))"
   ]
  },
  {
   "cell_type": "code",
   "execution_count": 43,
   "id": "fd8ddaeb-d8a9-432f-9974-a29e8d58633b",
   "metadata": {},
   "outputs": [
    {
     "name": "stdout",
     "output_type": "stream",
     "text": [
      "45\n"
     ]
    }
   ],
   "source": [
    "print(random.randrange(10,50,5))"
   ]
  },
  {
   "cell_type": "code",
   "execution_count": 47,
   "id": "25b809c2-bba4-4be2-9e1a-b70cf2163fde",
   "metadata": {},
   "outputs": [
    {
     "name": "stdout",
     "output_type": "stream",
     "text": [
      "30\n",
      "34\n",
      "14\n",
      "22\n",
      "34\n"
     ]
    }
   ],
   "source": [
    "for i in range(5):\n",
    "    print(random.randrange(10,50,4))"
   ]
  },
  {
   "cell_type": "code",
   "execution_count": 55,
   "id": "cc01c7c1-bf5c-4a31-b53b-42f5251d6989",
   "metadata": {},
   "outputs": [
    {
     "name": "stdout",
     "output_type": "stream",
     "text": [
      "4\n"
     ]
    }
   ],
   "source": [
    "print(random.randrange(10)) # 0 to 9 included, step=1 default"
   ]
  },
  {
   "cell_type": "code",
   "execution_count": 57,
   "id": "16d38c70-39e3-403a-9079-877e496cbb56",
   "metadata": {},
   "outputs": [
    {
     "name": "stdout",
     "output_type": "stream",
     "text": [
      "Done\n"
     ]
    },
    {
     "ename": "ZeroDivisionError",
     "evalue": "division by zero",
     "output_type": "error",
     "traceback": [
      "\u001b[1;31m---------------------------------------------------------------------------\u001b[0m",
      "\u001b[1;31mZeroDivisionError\u001b[0m                         Traceback (most recent call last)",
      "Cell \u001b[1;32mIn[57], line 2\u001b[0m\n\u001b[0;32m      1\u001b[0m \u001b[38;5;28;01mtry\u001b[39;00m:\n\u001b[1;32m----> 2\u001b[0m     \u001b[38;5;28mprint\u001b[39m(\u001b[38;5;241m1\u001b[39m\u001b[38;5;241m/\u001b[39m\u001b[38;5;241m0\u001b[39m)\n\u001b[0;32m      3\u001b[0m \u001b[38;5;28;01mfinally\u001b[39;00m:\n\u001b[0;32m      4\u001b[0m     \u001b[38;5;28mprint\u001b[39m(\u001b[38;5;124m\"\u001b[39m\u001b[38;5;124mDone\u001b[39m\u001b[38;5;124m\"\u001b[39m)\n",
      "\u001b[1;31mZeroDivisionError\u001b[0m: division by zero"
     ]
    }
   ],
   "source": [
    "try:\n",
    "    print(1/0)\n",
    "finally:\n",
    "    print(\"Done\")"
   ]
  },
  {
   "cell_type": "code",
   "execution_count": 61,
   "id": "453ecc98-8171-4086-bcf7-dbf56cead1a6",
   "metadata": {},
   "outputs": [
    {
     "name": "stdout",
     "output_type": "stream",
     "text": [
      "0.1\n",
      "Else\n",
      "Done\n"
     ]
    }
   ],
   "source": [
    "try:\n",
    "    print(1/10)\n",
    "except:\n",
    "    print(\"Zero-division error\")\n",
    "else:\n",
    "    print(\"Else\")\n",
    "finally:\n",
    "    print(\"Done\")"
   ]
  },
  {
   "cell_type": "code",
   "execution_count": 63,
   "id": "59634f58-3d39-4a95-b1bb-a1995ce97ad4",
   "metadata": {},
   "outputs": [
    {
     "name": "stdout",
     "output_type": "stream",
     "text": [
      "Zero-division error\n",
      "Done\n"
     ]
    }
   ],
   "source": [
    "try:\n",
    "    print(1/0)\n",
    "except:\n",
    "    print(\"Zero-division error\")\n",
    "else:\n",
    "    print(\"Else\")\n",
    "finally:\n",
    "    print(\"Done\")"
   ]
  },
  {
   "cell_type": "code",
   "execution_count": 79,
   "id": "9b7e31b2-a184-470d-b20c-84cb22d3bbda",
   "metadata": {},
   "outputs": [
    {
     "name": "stdout",
     "output_type": "stream",
     "text": [
      "6\n",
      "10\n",
      "5\n",
      "7\n",
      "5\n",
      "7\n",
      "11\n"
     ]
    }
   ],
   "source": [
    "for i in range(7):\n",
    "    print(random.randrange(5,12,1))\n"
   ]
  },
  {
   "cell_type": "code",
   "execution_count": 87,
   "id": "85889e96-062b-43a2-967d-3fa6d7708ddf",
   "metadata": {},
   "outputs": [
    {
     "name": "stdout",
     "output_type": "stream",
     "text": [
      "11\n",
      "7\n",
      "10\n",
      "8\n",
      "5\n",
      "6\n",
      "7\n"
     ]
    }
   ],
   "source": [
    "for i in range(7):\n",
    "    print(random.randint(5,11))"
   ]
  },
  {
   "cell_type": "code",
   "execution_count": 89,
   "id": "5f94bf5b-dda2-4f04-bc40-7d5d5a9b77c2",
   "metadata": {},
   "outputs": [
    {
     "data": {
      "text/plain": [
       "'sdfd'"
      ]
     },
     "execution_count": 89,
     "metadata": {},
     "output_type": "execute_result"
    }
   ],
   "source": [
    "'sdfd'"
   ]
  },
  {
   "cell_type": "code",
   "execution_count": 91,
   "id": "29348a05-eb42-411b-999d-3e0d4f6b0f4c",
   "metadata": {},
   "outputs": [
    {
     "ename": "SyntaxError",
     "evalue": "invalid syntax (4036973532.py, line 1)",
     "output_type": "error",
     "traceback": [
      "\u001b[1;36m  Cell \u001b[1;32mIn[91], line 1\u001b[1;36m\u001b[0m\n\u001b[1;33m    *(daadfd*/)\u001b[0m\n\u001b[1;37m             ^\u001b[0m\n\u001b[1;31mSyntaxError\u001b[0m\u001b[1;31m:\u001b[0m invalid syntax\n"
     ]
    }
   ],
   "source": [
    "/* daadfd*/"
   ]
  },
  {
   "cell_type": "code",
   "execution_count": 93,
   "id": "80eea709-929f-4d09-a01e-6cd5a9f178fb",
   "metadata": {},
   "outputs": [
    {
     "name": "stdout",
     "output_type": "stream",
     "text": [
      "False\n",
      "False\n"
     ]
    }
   ],
   "source": [
    "a = [1,2,3]\n",
    "b = [\"a\",\"b\",\"c\"]\n",
    "print(a is b)\n",
    "print(a==b)"
   ]
  },
  {
   "cell_type": "code",
   "execution_count": 97,
   "id": "3c8767af-8a26-44b8-8908-a0c6b4fd2cfd",
   "metadata": {},
   "outputs": [
    {
     "name": "stdout",
     "output_type": "stream",
     "text": [
      "['a', 'b', 'c']\n",
      "['a', 'b', 'c']\n",
      "True\n",
      "True\n"
     ]
    }
   ],
   "source": [
    "a=b\n",
    "print(a)\n",
    "print(b)\n",
    "print(a is b)\n",
    "print(a==b)"
   ]
  },
  {
   "cell_type": "code",
   "execution_count": 121,
   "id": "19770e27-655d-4989-a4bf-5dea63539cf5",
   "metadata": {},
   "outputs": [
    {
     "name": "stdout",
     "output_type": "stream",
     "text": [
      "10\n"
     ]
    }
   ],
   "source": [
    "def example_function(param1, param2, p3=10):\n",
    "    return param1 + param2 +p3\n",
    "\n",
    "# The following line will raise an error because param2 has no default value\n",
    "print(example_function(4,3,3))  # TypeError: example_function() missing 1 required positional argument: 'param2'\n"
   ]
  },
  {
   "cell_type": "code",
   "execution_count": 127,
   "id": "32aadcb8-f632-4a5a-bb9d-656b5dfb7cfd",
   "metadata": {},
   "outputs": [
    {
     "name": "stdout",
     "output_type": "stream",
     "text": [
      "[1, 2, 3, 4]\n",
      "[1, 2, 3, 4, 1, 2, 3, 4, 1, 2, 3, 4]\n"
     ]
    }
   ],
   "source": [
    "l1 =[1,2]\n",
    "l2=[3,4]\n",
    "l3 = l1 +l2\n",
    "print(l3)\n",
    "l4 = l3 *3\n",
    "print(l4)"
   ]
  },
  {
   "cell_type": "code",
   "execution_count": 131,
   "id": "b23c5118-df10-460c-837c-06a1ac102b2f",
   "metadata": {},
   "outputs": [
    {
     "name": "stdout",
     "output_type": "stream",
     "text": [
      "['hello', 'kkk', 'hello', 'kkk', 'hello', 'kkk']\n"
     ]
    }
   ],
   "source": [
    "l5 = [\"hello\",\"kkk\"]\n",
    "print(l5*3)"
   ]
  },
  {
   "cell_type": "code",
   "execution_count": 135,
   "id": "aac03117-12d4-4a95-9a2a-94389226a87d",
   "metadata": {},
   "outputs": [
    {
     "name": "stdout",
     "output_type": "stream",
     "text": [
      "66.43\n",
      "66\n"
     ]
    }
   ],
   "source": [
    "import math  \n",
    "\n",
    "#Remove - sign of given n\n",
    "x= math.fabs(-66.43)\n",
    "print(x)\n",
    "print(math.floor(x))"
   ]
  },
  {
   "cell_type": "code",
   "execution_count": 139,
   "id": "2668650e-c056-4d36-a272-b50d84b83595",
   "metadata": {},
   "outputs": [
    {
     "data": {
      "text/plain": [
       "float"
      ]
     },
     "execution_count": 139,
     "metadata": {},
     "output_type": "execute_result"
    }
   ],
   "source": [
    "\n",
    "type(+1E10)\t"
   ]
  },
  {
   "cell_type": "code",
   "execution_count": 141,
   "id": "0ef83727-8048-4745-b95e-c9add08ff709",
   "metadata": {},
   "outputs": [
    {
     "data": {
      "text/plain": [
       "float"
      ]
     },
     "execution_count": 141,
     "metadata": {},
     "output_type": "execute_result"
    }
   ],
   "source": [
    "type(8.0)"
   ]
  },
  {
   "cell_type": "code",
   "execution_count": 143,
   "id": "a6d9f64c-0df8-42ce-bd9f-dbb12d6a2af6",
   "metadata": {},
   "outputs": [
    {
     "data": {
      "text/plain": [
       "str"
      ]
     },
     "execution_count": 143,
     "metadata": {},
     "output_type": "execute_result"
    }
   ],
   "source": [
    "type(\"True\")"
   ]
  },
  {
   "cell_type": "code",
   "execution_count": 145,
   "id": "6f5356a7-7b8b-4d42-960e-d462cf8fc94d",
   "metadata": {},
   "outputs": [
    {
     "data": {
      "text/plain": [
       "bool"
      ]
     },
     "execution_count": 145,
     "metadata": {},
     "output_type": "execute_result"
    }
   ],
   "source": [
    "type(False)"
   ]
  },
  {
   "cell_type": "code",
   "execution_count": 157,
   "id": "eba3c0d6-c0b7-4312-946e-3c842772d0d9",
   "metadata": {},
   "outputs": [
    {
     "name": "stdout",
     "output_type": "stream",
     "text": [
      "4 6 8 10 12 14 16 18 20 22 24 \n",
      "6 9 12 15 18 21 24 27 30 33 36 \n",
      "8 12 16 20 24 28 32 36 40 44 48 \n",
      "10 15 20 25 30 35 40 45 50 55 60 \n",
      "12 18 24 30 36 42 48 54 60 66 72 \n",
      "14 21 28 35 42 49 56 63 70 77 84 \n",
      "16 24 32 40 48 56 64 72 80 88 96 \n",
      "18 27 36 45 54 63 72 81 90 99 108 \n",
      "20 30 40 50 60 70 80 90 100 110 120 \n",
      "22 33 44 55 66 77 88 99 110 121 132 \n",
      "24 36 48 60 72 84 96 108 120 132 144 \n"
     ]
    }
   ],
   "source": [
    "def multipli():\n",
    "    for col in range(2,13):\n",
    "        #print(col)\n",
    "        for row in range(2,13):\n",
    "            print(row*col,end=\" \")\n",
    "        print()\n",
    "\n",
    "multipli()"
   ]
  },
  {
   "cell_type": "code",
   "execution_count": null,
   "id": "e35f25c3-30ce-451c-b9a8-024f1c2964ed",
   "metadata": {},
   "outputs": [],
   "source": []
  }
 ],
 "metadata": {
  "kernelspec": {
   "display_name": "Python 3 (ipykernel)",
   "language": "python",
   "name": "python3"
  },
  "language_info": {
   "codemirror_mode": {
    "name": "ipython",
    "version": 3
   },
   "file_extension": ".py",
   "mimetype": "text/x-python",
   "name": "python",
   "nbconvert_exporter": "python",
   "pygments_lexer": "ipython3",
   "version": "3.12.4"
  }
 },
 "nbformat": 4,
 "nbformat_minor": 5
}
