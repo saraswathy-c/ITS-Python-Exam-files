{
 "cells": [
  {
   "cell_type": "code",
   "execution_count": null,
   "id": "ec11be7b-1c4e-455e-8a1e-69eaf2866310",
   "metadata": {},
   "outputs": [],
   "source": [
    "# Dictionary: Each element of a dictionary is a key-value pair, first element will be the key and the second element will be the value , key is used to identify each value\n",
    "# the key must be unique and cannot be duplicated\n",
    "# Syntax: <variable>={<key>:<value>,...}"
   ]
  },
  {
   "cell_type": "code",
   "execution_count": 1,
   "id": "23e3b2c7-1861-4350-bda0-43f5eb86b8f4",
   "metadata": {},
   "outputs": [],
   "source": [
    "TT = {'Mon':'Eng','Wed':'Hindi','Fri':'Evs','Mon2':'Mal','Wed2':'Mat'}"
   ]
  },
  {
   "cell_type": "code",
   "execution_count": 3,
   "id": "2f6d14ea-527f-403a-b038-76642d45ce3c",
   "metadata": {},
   "outputs": [
    {
     "name": "stdout",
     "output_type": "stream",
     "text": [
      "dict_keys(['Mon', 'Wed', 'Fri', 'Mon2', 'Wed2'])\n"
     ]
    }
   ],
   "source": [
    "print(TT.keys())"
   ]
  },
  {
   "cell_type": "code",
   "execution_count": 5,
   "id": "c637d1fb-b64d-44bb-9416-26d8ab438366",
   "metadata": {},
   "outputs": [
    {
     "name": "stdout",
     "output_type": "stream",
     "text": [
      "dict_values(['Eng', 'Hindi', 'Evs', 'Mal', 'Mat'])\n"
     ]
    }
   ],
   "source": [
    "print(TT.values())"
   ]
  },
  {
   "cell_type": "code",
   "execution_count": 11,
   "id": "c523c081-5800-4310-bcc6-5d1ebe65441d",
   "metadata": {},
   "outputs": [
    {
     "name": "stdout",
     "output_type": "stream",
     "text": [
      "dict_items([('Mon', 'Eng'), ('Wed', 'Hindi'), ('Fri', 'Evs'), ('Mon2', 'Mal'), ('Wed2', 'Mat')])\n"
     ]
    }
   ],
   "source": [
    "print(TT.items())   # returns as tuples in a list"
   ]
  },
  {
   "cell_type": "code",
   "execution_count": 17,
   "id": "273dd4e6-5316-4b8a-bde8-45fb8890493a",
   "metadata": {},
   "outputs": [
    {
     "name": "stdout",
     "output_type": "stream",
     "text": [
      "Mon -> Eng\n",
      "Wed -> Hindi\n",
      "Fri -> Evs\n",
      "Mon2 -> Mal\n",
      "Wed2 -> Mat\n"
     ]
    }
   ],
   "source": [
    "for i in TT.keys():\n",
    "    print(f\"{i} -> {TT[i]}\")"
   ]
  },
  {
   "cell_type": "code",
   "execution_count": 29,
   "id": "a51f49af-30c3-4457-b44a-7ee3ac475617",
   "metadata": {},
   "outputs": [
    {
     "name": "stdout",
     "output_type": "stream",
     "text": [
      "{'name': 'Kashinath', 'age': 7, 'std': 2, 'school': 'BNV'}\n"
     ]
    }
   ],
   "source": [
    "# Using dict() constructor\n",
    "\n",
    "thisdict = dict(name='Kashinath',age= 7, std = 2,school = 'BNV')\n",
    "print(thisdict)"
   ]
  },
  {
   "cell_type": "code",
   "execution_count": 31,
   "id": "04f680fc-4448-4fe6-b79d-3d1f982cea78",
   "metadata": {},
   "outputs": [
    {
     "name": "stdout",
     "output_type": "stream",
     "text": [
      "{'name': 'Devdutt', 'age': 7, 'std': 2, 'school': 'BVG'}\n"
     ]
    }
   ],
   "source": [
    "mydict = dict(name = 'Devdutt', age =7, std =2, school='BVG')\n",
    "print(mydict)"
   ]
  },
  {
   "cell_type": "code",
   "execution_count": 47,
   "id": "6a64e40a-d834-475c-8eab-5b88af80c628",
   "metadata": {},
   "outputs": [
    {
     "name": "stdout",
     "output_type": "stream",
     "text": [
      "['kj', 'abram', 'kj', 'devu', 'jay']\n"
     ]
    }
   ],
   "source": [
    "plist =['kj','abram','kj','devu','jay']\n",
    "print(plist)                                # Duplicates in List are allowed"
   ]
  },
  {
   "cell_type": "code",
   "execution_count": 45,
   "id": "425f68dc-b5f4-4db2-8152-faeceb9c7af1",
   "metadata": {},
   "outputs": [
    {
     "name": "stdout",
     "output_type": "stream",
     "text": [
      "('kj', 'abram', 'kj', 'devu', 'jay')\n"
     ]
    }
   ],
   "source": [
    "ptuple =('kj','abram','kj','devu','jay')\n",
    "print(ptuple)                               # Duplicates in tuples are allowed"
   ]
  },
  {
   "cell_type": "code",
   "execution_count": 43,
   "id": "022fddc2-f89b-4ab6-9aed-b00f6c69714e",
   "metadata": {},
   "outputs": [
    {
     "name": "stdout",
     "output_type": "stream",
     "text": [
      "{1: 'kj', 2: 'abram', 3: 'kj', 4: 'devu', 5: 'jay'}\n"
     ]
    }
   ],
   "source": [
    "pdict ={1:'kj',2:'abram',3:'kj',4:'devu',5:'jay'}\n",
    "print(pdict)                                 # Duplicates in Dictionary Values are allowed"
   ]
  },
  {
   "cell_type": "code",
   "execution_count": 49,
   "id": "824ea94d-f4b9-47b9-978d-e03c5b9f5bc2",
   "metadata": {},
   "outputs": [
    {
     "name": "stdout",
     "output_type": "stream",
     "text": [
      "{1: 'kj', 2: 'abram', 4: 'devu', 5: 'jay'}\n"
     ]
    }
   ],
   "source": [
    "# Duplicates in Dictionary Keys NOT allowed\n",
    "\n",
    "pdict ={1:'kj',2:'abram',1:'kj',4:'devu',5:'jay'}\n",
    "print(pdict) "
   ]
  },
  {
   "cell_type": "code",
   "execution_count": 51,
   "id": "9e34e784-091f-48b8-b9b0-4a8e2bd6d83c",
   "metadata": {},
   "outputs": [
    {
     "name": "stdout",
     "output_type": "stream",
     "text": [
      "<class 'dict'>\n"
     ]
    }
   ],
   "source": [
    "print(type(pdict))"
   ]
  },
  {
   "cell_type": "markdown",
   "id": "a53367ab-d7b0-4f13-bafb-3f773efd0567",
   "metadata": {},
   "source": [
    "'''\n",
    "Program to accept the name and marks of several students , store the\n",
    "values into a dictionary and print it\n",
    "accept the name and marks in a single line comma seprated i.e\n",
    "<name>,<marks>\n",
    "enter a blank line to stop the data entry\n",
    "'''"
   ]
  },
  {
   "cell_type": "code",
   "execution_count": 21,
   "id": "6adab5fe-747b-4fd8-a25f-fd6687e71acd",
   "metadata": {},
   "outputs": [
    {
     "name": "stdout",
     "output_type": "stream",
     "text": [
      "Enter the name and marks of each student as comma-separated; Enter blank line to stop\n"
     ]
    },
    {
     "name": "stdin",
     "output_type": "stream",
     "text": [
      " kashi,4\n"
     ]
    },
    {
     "name": "stdout",
     "output_type": "stream",
     "text": [
      "Enter the name and marks of each student as comma-separated; Enter blank line to stop\n"
     ]
    },
    {
     "name": "stdin",
     "output_type": "stream",
     "text": [
      " rr,3\n"
     ]
    },
    {
     "name": "stdout",
     "output_type": "stream",
     "text": [
      "Enter the name and marks of each student as comma-separated; Enter blank line to stop\n"
     ]
    },
    {
     "name": "stdin",
     "output_type": "stream",
     "text": [
      " devu,6\n"
     ]
    },
    {
     "name": "stdout",
     "output_type": "stream",
     "text": [
      "Enter the name and marks of each student as comma-separated; Enter blank line to stop\n"
     ]
    },
    {
     "name": "stdin",
     "output_type": "stream",
     "text": [
      " \n"
     ]
    },
    {
     "name": "stdout",
     "output_type": "stream",
     "text": [
      "Data in dictionary:\n"
     ]
    },
    {
     "data": {
      "text/plain": [
       "dict_items([('kashi', 4), ('rr', 3), ('devu', 6)])"
      ]
     },
     "execution_count": 21,
     "metadata": {},
     "output_type": "execute_result"
    }
   ],
   "source": [
    "mydict = {}\n",
    "while True:\n",
    "    print(\"Enter the name and marks of each student as comma-separated; Enter blank line to stop\")\n",
    "    line = input()\n",
    "    if line.strip() ==\"\":                              #empty string; strip off white spaces, in case space and enter key are pressed. Otherwise, will not recognize blank i/p if Spacebar&Enter are pressed\n",
    "        break\n",
    "    name, marks = line.split(',')\n",
    "    marks = int(marks)\n",
    "    mydict[name]=marks\n",
    "print(\"Data in dictionary:\")\n",
    "mydict.items()"
   ]
  },
  {
   "cell_type": "code",
   "execution_count": 5,
   "id": "0ae079be-d49d-453f-8b21-ab2c511957de",
   "metadata": {},
   "outputs": [
    {
     "name": "stdout",
     "output_type": "stream",
     "text": [
      "kashi - > 19\n",
      "devu - > 19\n",
      "devina - > 18\n",
      "ithal - > 20\n"
     ]
    }
   ],
   "source": [
    "for name in mydict.keys():\n",
    "    print(f\"{name} - > {mydict[name]}\")"
   ]
  },
  {
   "cell_type": "code",
   "execution_count": 7,
   "id": "15c859b6-4f9b-4730-a0f9-2b40299ffd85",
   "metadata": {},
   "outputs": [
    {
     "name": "stdout",
     "output_type": "stream",
     "text": [
      "kashi : 19\n",
      "devu : 19\n",
      "devina : 18\n",
      "ithal : 20\n"
     ]
    }
   ],
   "source": [
    "for name, marks in mydict.items():\n",
    "    print(f\"{name} : {marks}\")"
   ]
  },
  {
   "cell_type": "code",
   "execution_count": 9,
   "id": "a42dfcd3-db60-4400-a24f-d9830db4023c",
   "metadata": {},
   "outputs": [
    {
     "name": "stdin",
     "output_type": "stream",
     "text": [
      "Enter student's name and marks (comma-separated), or press Enter to stop:  kashi, 20\n",
      "Enter student's name and marks (comma-separated), or press Enter to stop:  devu, 20\n",
      "Enter student's name and marks (comma-separated), or press Enter to stop:  devarsh, 19\n",
      "Enter student's name and marks (comma-separated), or press Enter to stop:  \n"
     ]
    },
    {
     "name": "stdout",
     "output_type": "stream",
     "text": [
      "\n",
      "Student Marks:\n",
      "kashi: 20\n",
      "devu: 20\n",
      "devarsh: 19\n"
     ]
    }
   ],
   "source": [
    "# Initialize an empty dictionary to store student data\n",
    "students = {}\n",
    "\n",
    "while True:\n",
    "    # Accept input from the user\n",
    "    data = input(\"Enter student's name and marks (comma-separated), or press Enter to stop: \")\n",
    "    \n",
    "    # Break the loop if the input is a blank line\n",
    "    if not data.strip():\n",
    "        break\n",
    "    \n",
    "    try:\n",
    "        # Split the input into name and marks\n",
    "        name, marks = data.split(',')\n",
    "        # Remove any extra spaces and store the values\n",
    "        students[name.strip()] = int(marks.strip())\n",
    "    except ValueError:\n",
    "        print(\"Invalid input. Please enter data in the format: name, marks\")\n",
    "\n",
    "# Print the dictionary of student data\n",
    "print(\"\\nStudent Marks:\")\n",
    "for name, marks in students.items():\n",
    "    print(f\"{name}: {marks}\")\n"
   ]
  },
  {
   "cell_type": "code",
   "execution_count": 3,
   "id": "a360c656-3592-46b7-ad7e-4bc199c35c20",
   "metadata": {},
   "outputs": [
    {
     "name": "stdin",
     "output_type": "stream",
     "text": [
      "Enter details as name,marks comma-separated...else blank line to stop rohit,55\n",
      "Enter details as name,marks comma-separated...else blank line to stop riya, 60\n",
      "Enter details as name,marks comma-separated...else blank line to stop abhi, 79\n",
      "Enter details as name,marks comma-separated...else blank line to stop leenu,70\n",
      "Enter details as name,marks comma-separated...else blank line to stop \n"
     ]
    },
    {
     "name": "stdout",
     "output_type": "stream",
     "text": [
      "Student details\n",
      "rohit : 55\n",
      "riya : 60\n",
      "abhi : 79\n",
      "leenu : 70\n"
     ]
    },
    {
     "name": "stdin",
     "output_type": "stream",
     "text": [
      "Which student's marks to replace? riya \n",
      "Enter the updated marks: 71\n"
     ]
    },
    {
     "name": "stdout",
     "output_type": "stream",
     "text": [
      "Final Students details {'rohit': 55, 'riya': 71, 'abhi': 79, 'leenu': 70}\n"
     ]
    }
   ],
   "source": [
    "# Program to replace the marks of a student , the student name and marks are stored in a dictionary with name as key and marks as value.\n",
    "\n",
    "students = {}\n",
    "\n",
    "while True:\n",
    "    line = input(\"Enter details as name,marks comma-separated...else blank line to stop\")\n",
    "    if not line.strip():\n",
    "        break\n",
    "\n",
    "    try:\n",
    "        name,marks = line.split(',')\n",
    "        students[name.strip()] = int(marks.strip())\n",
    "    except ValueError:\n",
    "        print(\"Invalidformat data. Enter in name,marks format..pls\")\n",
    "\n",
    "print(\"Student details\")\n",
    "for i,j in students.items():\n",
    "    print(f\"{i} : {j}\")\n",
    "\n",
    "sname = input(\"Which student's marks to replace?\").strip()\n",
    "if sname in students.keys():\n",
    "    smark = int(input(\"Enter the updated marks:\").strip())\n",
    "    students[sname]=smark\n",
    "else:\n",
    "    print(f\"{sname} is not in students list.\")\n",
    "\n",
    "print(\"Final Students details\", students)"
   ]
  },
  {
   "cell_type": "markdown",
   "id": "f195b369-428b-43b3-9529-d1a729b3e07e",
   "metadata": {},
   "source": [
    "Read employee details from the user"
   ]
  },
  {
   "cell_type": "code",
   "execution_count": 2,
   "id": "ea1f988e-ef0f-4d9f-abef-8c13f509f06c",
   "metadata": {},
   "outputs": [
    {
     "name": "stdin",
     "output_type": "stream",
     "text": [
      "Enter employee's name ( Or press Enter to stop) :  kashi\n",
      "Enter kashi's department: marketing\n",
      "Enter kashi's job role: manager\n",
      "Enter kashi's salary: 40000\n",
      "Enter employee's name ( Or press Enter to stop) :  devu\n",
      "Enter devu's department: sales\n",
      "Enter devu's job role: manager\n",
      "Enter devu's salary: 40000\n",
      "Enter employee's name ( Or press Enter to stop) :  \n"
     ]
    },
    {
     "name": "stdout",
     "output_type": "stream",
     "text": [
      "Employees details:\n",
      "Name : kashi, Department : marketing, Job : manager, Salary : 40000\n",
      "Name : devu, Department : sales, Job : manager, Salary : 40000\n"
     ]
    }
   ],
   "source": [
    "employees = {}\n",
    "\n",
    "while True:\n",
    "    name = input(\"Enter employee's name ( Or press Enter to stop) : \").strip()\n",
    "    if not name:                                                                # empty string input\n",
    "        break\n",
    "\n",
    "    dept = input(f\"Enter {name}'s department:\").strip()\n",
    "    job = input(f\"Enter {name}'s job role:\").strip()\n",
    "    salary = int(input(f\"Enter {name}'s salary:\").strip())\n",
    "    \n",
    "    # Add employee details as a List to the Dict\n",
    "    employees[name]=[dept,job, salary]\n",
    "\n",
    "print(\"Employees details:\")\n",
    "for i,j in employees.items():\n",
    "    print(f\"Name : {i}, Department : {j[0]}, Job : {j[1]}, Salary : {j[2]}\")\n",
    "    "
   ]
  },
  {
   "cell_type": "markdown",
   "id": "9de1ecde-ae2c-4534-be9d-e7595b243b88",
   "metadata": {},
   "source": [
    "Program to remove the details of an employee stored in a dictionary of pre-defined values (dept,job,salary), please confirm\n",
    "before deletion"
   ]
  },
  {
   "cell_type": "code",
   "execution_count": 4,
   "id": "b6fc60b9-04d9-47d2-a71f-f311a21860f8",
   "metadata": {},
   "outputs": [
    {
     "name": "stdout",
     "output_type": "stream",
     "text": [
      "{'kashi': ['marketing', 'manager', 40000], 'devu': ['sales', 'manager', 40000]}\n"
     ]
    }
   ],
   "source": [
    "print(employees)"
   ]
  },
  {
   "cell_type": "code",
   "execution_count": 8,
   "id": "dc9f18bc-7c5a-44dd-b171-723909593088",
   "metadata": {},
   "outputs": [
    {
     "name": "stdin",
     "output_type": "stream",
     "text": [
      "Enter employee's name ( Or press Enter to stop) :  roby\n",
      "Enter roby's department: sales\n",
      "Enter roby's job role: intern\n",
      "Enter roby's salary: 15000\n",
      "Enter employee's name ( Or press Enter to stop) :  ann\n",
      "Enter ann's department: design\n",
      "Enter ann's job role: jrf\n",
      "Enter ann's salary: 32000\n",
      "Enter employee's name ( Or press Enter to stop) :  aleena\n",
      "Enter aleena's department: sales\n",
      "Enter aleena's job role: manager\n",
      "Enter aleena's salary: 55000\n",
      "Enter employee's name ( Or press Enter to stop) :  \n"
     ]
    },
    {
     "name": "stdout",
     "output_type": "stream",
     "text": [
      "Employees details:\n",
      "Name : roby, Department : sales, Job : intern, Salary : 15000\n",
      "Name : ann, Department : design, Job : jrf, Salary : 32000\n",
      "Name : aleena, Department : sales, Job : manager, Salary : 55000\n"
     ]
    },
    {
     "name": "stdin",
     "output_type": "stream",
     "text": [
      "Which employee to edit? roby\n"
     ]
    },
    {
     "name": "stdout",
     "output_type": "stream",
     "text": [
      "['sales', 'intern', 15000]\n"
     ]
    },
    {
     "name": "stdin",
     "output_type": "stream",
     "text": [
      "Are you sure you want to delete this employee? (Y/N) y\n"
     ]
    },
    {
     "name": "stdout",
     "output_type": "stream",
     "text": [
      "Final list of employees:\n",
      "Name : ann, Department : design, Job : jrf , Salary : 32000\n",
      "Name : aleena, Department : sales, Job : manager , Salary : 55000\n"
     ]
    }
   ],
   "source": [
    "employees = {}\n",
    "\n",
    "while True:\n",
    "    name = input(\"Enter employee's name ( Or press Enter to stop) : \").strip()\n",
    "    if not name:                                                                # empty string input\n",
    "        break\n",
    "\n",
    "    dept = input(f\"Enter {name}'s department:\").strip()\n",
    "    job = input(f\"Enter {name}'s job role:\").strip()\n",
    "    salary = int(input(f\"Enter {name}'s salary:\").strip())\n",
    "    \n",
    "    # Add employee details as a List to the Dict\n",
    "    employees[name]=[dept,job, salary]\n",
    "\n",
    "print(\"Employees details:\")\n",
    "for i,j in employees.items():\n",
    "    print(f\"Name : {i}, Department : {j[0]}, Job : {j[1]}, Salary : {j[2]}\")\n",
    "\n",
    "ename = input(\"Which employee to edit?\")\n",
    "if ename in employees.keys():\n",
    "    print(employees[ename])\n",
    "    choice = input(\"Are you sure you want to delete this employee? (Y/N)\").strip()\n",
    "    if choice.upper() =='Y':\n",
    "        employees.pop(ename)\n",
    "    else:\n",
    "        print(\"Action cancelled..\")\n",
    "else:\n",
    "    print(f\"{ename} not in the employees list..Pls check.\") \n",
    "print(\"Final list of employees:\")\n",
    "for name, details in employees.items():\n",
    "    print(\"Name : {}, Department : {}, Job : {} , Salary : {}\".format(name, details[0], details[1], details[2]))"
   ]
  },
  {
   "cell_type": "code",
   "execution_count": 10,
   "id": "38b71f13-dbf2-45b9-bbc2-76140d2aa2ac",
   "metadata": {},
   "outputs": [
    {
     "name": "stdout",
     "output_type": "stream",
     "text": [
      "70000\n",
      "{'name': 'Alice', 'department': 'IT'}\n",
      "Not Assigned\n",
      "{'name': 'Alice', 'department': 'IT'}\n"
     ]
    }
   ],
   "source": [
    "# Dict pop() method illustration\n",
    "\n",
    "employee = {'name': 'Alice', 'department': 'IT', 'salary': 70000}\n",
    "\n",
    "# Removing a specific key-value pair using pop()\n",
    "salary = employee.pop('salary')\n",
    "print(salary)         # Output: 70000\n",
    "print(employee)       # Output: {'name': 'Alice', 'department': 'IT'}\n",
    "\n",
    "# Using pop with a default value if key is not found\n",
    "job = employee.pop('job', 'Not Assigned')\n",
    "print(job)            # Output: Not Assigned\n",
    "print(employee)       # Output: {'name': 'Alice', 'department': 'IT'}\n"
   ]
  },
  {
   "cell_type": "code",
   "execution_count": 14,
   "id": "3b468040-4052-41c4-9d02-bdc98f7b2639",
   "metadata": {},
   "outputs": [
    {
     "name": "stdout",
     "output_type": "stream",
     "text": [
      "('salary', 70000)\n",
      "{'name': 'Alice', 'department': 'IT'}\n",
      "('department', 'IT')\n",
      "{'name': 'Alice'}\n"
     ]
    }
   ],
   "source": [
    "# Dict popitem() method illustration\n",
    "\n",
    "employee = {'name': 'Alice', 'department': 'IT', 'salary': 70000}\n",
    "\n",
    "# Removing the last inserted key-value pair and return it as a TUPLE\n",
    "last_item = employee.popitem()\n",
    "print(last_item)      # Output: ('salary', 70000)\n",
    "print(employee)       # Output: {'name': 'Alice', 'department': 'IT'}\n",
    "\n",
    "# Removing another key-value pair\n",
    "another_item = employee.popitem()\n",
    "print(another_item)   # Output: ('department', 'IT')\n",
    "print(employee)       # Output: {'name': 'Alice'}\n"
   ]
  },
  {
   "cell_type": "code",
   "execution_count": 22,
   "id": "acf7dd15-ae55-4026-87be-b4b2ba403876",
   "metadata": {},
   "outputs": [
    {
     "name": "stdout",
     "output_type": "stream",
     "text": [
      "Alice\n"
     ]
    }
   ],
   "source": [
    "# Dict method get(key, default=None)\n",
    "\n",
    "print(employee.get('name'))"
   ]
  },
  {
   "cell_type": "code",
   "execution_count": 26,
   "id": "5b3e288b-bc85-4a75-afe3-1e3c72898c5b",
   "metadata": {},
   "outputs": [
    {
     "name": "stdout",
     "output_type": "stream",
     "text": [
      "0\n"
     ]
    }
   ],
   "source": [
    "print(employee.get('salary',0))             # default value given as 0, since Key not found"
   ]
  },
  {
   "cell_type": "code",
   "execution_count": 28,
   "id": "32be50d9-f82e-4294-b021-8390cf73f5a7",
   "metadata": {},
   "outputs": [
    {
     "name": "stdout",
     "output_type": "stream",
     "text": [
      "Alice\n"
     ]
    }
   ],
   "source": [
    "print(employee.setdefault('name'))"
   ]
  },
  {
   "cell_type": "code",
   "execution_count": 32,
   "id": "df4f1f85-9187-414e-aeae-e832191b2986",
   "metadata": {},
   "outputs": [
    {
     "name": "stdout",
     "output_type": "stream",
     "text": [
      "0\n"
     ]
    }
   ],
   "source": [
    "print(employee.setdefault('phone',0))    # default value given as 0, since Key not found"
   ]
  },
  {
   "cell_type": "code",
   "execution_count": 40,
   "id": "ac5d4244-a4e5-4368-ac4b-af6c53a7af60",
   "metadata": {},
   "outputs": [
    {
     "name": "stdout",
     "output_type": "stream",
     "text": [
      "{'a': 100, 'b': 200, 'c': 300}\n",
      "{'a': 100, 'b': 200, 'c': 300, 'e': 400, 'f': 500, 'g': 600}\n",
      "{'a': 100, 'b': 200, 'c': 300, 'e': 400, 'f': 500, 'g': 600, 'h': 700}\n"
     ]
    }
   ],
   "source": [
    "# Add a new key-value pair/pairs to a dict\n",
    "\n",
    "d ={'a':100,'b':200}\n",
    "\n",
    "#Using Assignment\n",
    "d['c'] = 300\n",
    "print(d)\n",
    "\n",
    "#Using update() fn add multiple k-v pairs at once\n",
    "d.update({'e':400, 'f':500,'g':600})\n",
    "print(d)\n",
    "\n",
    "d.update({'h':700})\n",
    "print(d)"
   ]
  },
  {
   "cell_type": "code",
   "execution_count": 46,
   "id": "56ace288-9c31-423c-9f73-caaec20e430b",
   "metadata": {},
   "outputs": [
    {
     "name": "stdout",
     "output_type": "stream",
     "text": [
      "{'a': 100, 'b': 200, 'x': 300, 'y': 200}\n",
      "{'a': 100, 'b': 200}\n",
      "{'x': 300, 'y': 200}\n"
     ]
    }
   ],
   "source": [
    "# Merge 2 dicts using Unpacking(**) op; old dicts are not modiified\n",
    "\n",
    "d1 = {'a':100,'b':200}\n",
    "d2 = {'x':300, 'y':200}\n",
    "new_dict = {**d1, **d2}\n",
    "print(new_dict)\n",
    "print(d1)\n",
    "print(d2)"
   ]
  },
  {
   "cell_type": "code",
   "execution_count": 48,
   "id": "44e59549-d007-4792-b5e2-efa0b6b67d9e",
   "metadata": {},
   "outputs": [
    {
     "name": "stdout",
     "output_type": "stream",
     "text": [
      "{'a': 100, 'b': 200, 'x': 300, 'y': 200}\n",
      "{'a': 100, 'b': 200}\n",
      "{'x': 300, 'y': 200}\n"
     ]
    }
   ],
   "source": [
    "# Merge 2 dicts using update()\n",
    "\n",
    "d1 = {'a':100,'b':200}\n",
    "d2 = {'x':300, 'y':200}\n",
    "new_dict = d1.copy()\n",
    "new_dict.update(d2)\n",
    "print(new_dict)\n",
    "print(d1)\n",
    "print(d2)"
   ]
  },
  {
   "cell_type": "code",
   "execution_count": null,
   "id": "af32b27d-bcbe-497b-8a49-81d5dd3b07ac",
   "metadata": {},
   "outputs": [],
   "source": []
  }
 ],
 "metadata": {
  "kernelspec": {
   "display_name": "Python 3 (ipykernel)",
   "language": "python",
   "name": "python3"
  },
  "language_info": {
   "codemirror_mode": {
    "name": "ipython",
    "version": 3
   },
   "file_extension": ".py",
   "mimetype": "text/x-python",
   "name": "python",
   "nbconvert_exporter": "python",
   "pygments_lexer": "ipython3",
   "version": "3.12.4"
  }
 },
 "nbformat": 4,
 "nbformat_minor": 5
}
