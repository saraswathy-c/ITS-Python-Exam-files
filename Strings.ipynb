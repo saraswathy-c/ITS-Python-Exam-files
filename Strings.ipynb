{
 "cells": [
  {
   "cell_type": "markdown",
   "id": "f2a13eb0-e2e1-46e9-aa35-b3ecf72d7f4b",
   "metadata": {},
   "source": [
    "Strings - Strings are data types in python used to store text values.\n",
    "A constant string value must be enclosed within double quotes \"\" , or single quotes ''.\n",
    "There is no character data type in python as in C/C++/Java , multiline text are defined within a pair using 3 sucessive single or double\n",
    "quotes i.e. ' ' ' or \" \" \" ."
   ]
  },
  {
   "cell_type": "code",
   "execution_count": 3,
   "id": "918e31d0-0ff3-4c33-ab79-52b559bfe7aa",
   "metadata": {},
   "outputs": [],
   "source": [
    "str1 = '''\n",
    "Kashi is a good boy.\n",
    "Kashi is mischievous\n",
    "'''"
   ]
  },
  {
   "cell_type": "code",
   "execution_count": 5,
   "id": "81321aa1-2462-4a4b-8ff5-35ec2e198061",
   "metadata": {},
   "outputs": [
    {
     "name": "stdout",
     "output_type": "stream",
     "text": [
      "\n",
      "Kashi is a good boy.\n",
      "Kashi is mischievous\n",
      "\n"
     ]
    }
   ],
   "source": [
    "print(str1)"
   ]
  },
  {
   "cell_type": "code",
   "execution_count": 8,
   "id": "7676e3e6-fae1-47d1-80a0-ac7c304505eb",
   "metadata": {},
   "outputs": [
    {
     "name": "stdout",
     "output_type": "stream",
     "text": [
      "\n",
      "\n",
      "K\n",
      "a\n",
      "s\n",
      "h\n",
      "i\n",
      " \n",
      "i\n",
      "s\n",
      " \n",
      "a\n",
      " \n",
      "g\n",
      "o\n",
      "o\n",
      "d\n",
      " \n",
      "b\n",
      "o\n",
      "y\n",
      ".\n",
      "\n",
      "\n",
      "K\n",
      "a\n",
      "s\n",
      "h\n",
      "i\n",
      " \n",
      "i\n",
      "s\n",
      " \n",
      "m\n",
      "i\n",
      "s\n",
      "c\n",
      "h\n",
      "i\n",
      "e\n",
      "v\n",
      "o\n",
      "u\n",
      "s\n",
      "\n",
      "\n"
     ]
    }
   ],
   "source": [
    "for i in str1:\n",
    "    print(i)"
   ]
  },
  {
   "cell_type": "markdown",
   "id": "6d56c02a-ccde-4a0a-880d-e659d1f3bfb0",
   "metadata": {},
   "source": [
    "Program to find the number of vowels in a string, the string must be accepted from the console."
   ]
  },
  {
   "cell_type": "code",
   "execution_count": 10,
   "id": "7cff8628-b0a1-4acb-ae51-6d28019ec9b0",
   "metadata": {},
   "outputs": [
    {
     "name": "stdin",
     "output_type": "stream",
     "text": [
      "Enter your text: kashinath jayasankar\n"
     ]
    },
    {
     "name": "stdout",
     "output_type": "stream",
     "text": [
      "There are 7 vowels in the give string kashinath jayasankar\n"
     ]
    }
   ],
   "source": [
    "str_input = input(\"Enter your text:\")\n",
    "count =0\n",
    "for i in str_input:\n",
    "    if i.upper() in ['A','E','I','O','U']:\n",
    "        count+=1\n",
    "print(f\"There are {count} vowels in the give string {str_input}\")\n",
    "    "
   ]
  },
  {
   "cell_type": "markdown",
   "id": "8d7254aa-79cb-4e7d-aa2f-ef0c8d93791d",
   "metadata": {},
   "source": [
    "Program to find the number of consonents in a text accepted from  the console , A consonet is opposite of vowels , i.e, all other 21 letters "
   ]
  },
  {
   "cell_type": "code",
   "execution_count": 15,
   "id": "805cc53b-f16f-4b22-ab98-744d36106bf3",
   "metadata": {},
   "outputs": [
    {
     "name": "stdin",
     "output_type": "stream",
     "text": [
      "Enter your text: hello java\n"
     ]
    },
    {
     "name": "stdout",
     "output_type": "stream",
     "text": [
      "There are 6 consonants in the string hello java\n"
     ]
    }
   ],
   "source": [
    "str_input = input(\"Enter your text:\")\n",
    "count =0\n",
    "for i in str_input:\n",
    "    if i.upper() not in ['A','E','I','O','U']:\n",
    "        count+=1\n",
    "print(\"There are {} consonants in the string {}\".format(count, str_input))"
   ]
  },
  {
   "cell_type": "markdown",
   "id": "166a541f-1472-46cb-a951-8ed0b4e3e13f",
   "metadata": {},
   "source": [
    "Program to find the number of alphabets (upper and lower seperatly ), digits from 0-9 , spaces , other symbols"
   ]
  },
  {
   "cell_type": "code",
   "execution_count": 18,
   "id": "0e46e3f6-ca55-4d06-bf5e-a13b2c603b97",
   "metadata": {},
   "outputs": [
    {
     "name": "stdin",
     "output_type": "stream",
     "text": [
      "Enter your text: As you sow, so shall you reap\n"
     ]
    },
    {
     "name": "stdout",
     "output_type": "stream",
     "text": [
      "There are 1 upper case letters, 21 lower case letters, 0 digits, 6 spaces and 1 symbols in the given string\n"
     ]
    }
   ],
   "source": [
    "str_input = input(\"Enter your text:\")\n",
    "ucount = lcount = digt = spaces = symbols = 0\n",
    "for i in str_input:\n",
    "    if i.isupper():\n",
    "        ucount+=1\n",
    "    elif i.islower():\n",
    "        lcount+=1\n",
    "    elif i.isdigit():\n",
    "        digt+=1\n",
    "    elif i.isspace():\n",
    "        spaces+=1\n",
    "    else:\n",
    "        symbols+=1\n",
    "print(\"There are {} upper case letters, {} lower case letters, {} digits, {} spaces and {} symbols in the given string\".format(ucount, lcount,digt,spaces,symbols))\n",
    "        "
   ]
  },
  {
   "cell_type": "markdown",
   "id": "96be7b14-d1fb-4a51-a5d7-cfcc30563424",
   "metadata": {},
   "source": [
    "Write a program in python , to accept a text from the console and replace a word in the text with another word.\n",
    "The main text , the word to be replaced and the new word must be accepted from the console."
   ]
  },
  {
   "cell_type": "code",
   "execution_count": 5,
   "id": "00bf6c8b-dc35-4a19-8369-1dd3aa0e8302",
   "metadata": {},
   "outputs": [
    {
     "name": "stdin",
     "output_type": "stream",
     "text": [
      "Enter your text: im in love\n",
      "Enter word to replace: in\n",
      "Enter the new word: lost\n"
     ]
    },
    {
     "name": "stdout",
     "output_type": "stream",
     "text": [
      "New text: im lost love\n"
     ]
    }
   ],
   "source": [
    "str_input = input(\"Enter your text:\")\n",
    "old = input(\"Enter word to replace:\")\n",
    "new = input(\"Enter the new word:\")\n",
    "if old in str_input:\n",
    "    str_input = str_input.replace(old,new)\n",
    "print(\"New text:\", str_input)"
   ]
  },
  {
   "cell_type": "markdown",
   "id": "561e4979-20af-429f-b71c-7495293e42de",
   "metadata": {},
   "source": [
    "Program to delete a pattern from an pre-defined text , the text and the pattern must be accepted from the console \n",
    "hint: - there is no built-in function to delete a pattern from a string "
   ]
  },
  {
   "cell_type": "code",
   "execution_count": 13,
   "id": "2c7688bc-9910-48d7-a8a4-476d840477cf",
   "metadata": {},
   "outputs": [
    {
     "name": "stdin",
     "output_type": "stream",
     "text": [
      "Enter your text: im in **$ area of vietnam and missing the cookies made in **$ bakery. Oh my **\n",
      "Enter pattern to delete: **\n"
     ]
    },
    {
     "name": "stdout",
     "output_type": "stream",
     "text": [
      "New text: im in $ area of vietnam and missing the cookies made in $ bakery. Oh my \n"
     ]
    }
   ],
   "source": [
    "# Replace pattern with an empty string to delete it\n",
    "str_input = input(\"Enter your text:\")\n",
    "pat = input(\"Enter pattern to delete:\")\n",
    "if pat in str_input:\n",
    "    str_input = str_input.replace(pat, \"\")\n",
    "print(\"New text:\", str_input)"
   ]
  },
  {
   "cell_type": "markdown",
   "id": "59f8591d-7049-4169-b1a0-bf1870b451b4",
   "metadata": {},
   "source": [
    "Slicing:\n",
    "In python a collection data type and strings can be split into multiple strings using slice feature\n",
    "syntax: string[start value: stop value: step value]\n",
    "note: Slicing can be applied to all collection types.\n",
    "The slicing logic in Python is that if the start index is greater than the stop index, it results in an empty string.\n",
    "In Python, indexing starts at 0."
   ]
  },
  {
   "cell_type": "code",
   "execution_count": 35,
   "id": "f086ac05-3dcf-456d-bb70-fee136d40125",
   "metadata": {},
   "outputs": [
    {
     "name": "stdout",
     "output_type": "stream",
     "text": [
      "Entire Text: Manorama Horizon - Python Training Oct 2024\n",
      "From 5th character to 10th character: rama H\n",
      "First 10 characters of the text: Manorama H\n",
      "Last 8 characters of the text: Oct 2024\n",
      "Alternate characters of the text: Mnrm oio  yhnTann c 04\n",
      "Alternate from 2nd character of the text: aoaaHrzn-Pto riigOt22\n",
      "The text in reverse order: 4202 tcO gniniarT nohtyP - noziroH amaronaM\n"
     ]
    }
   ],
   "source": [
    "str1=\"Manorama Horizon - Python Training Oct 2024\"\n",
    "print(\"Entire Text:\",str1)\n",
    "print(\"From 5th character to 10th character:\",str1[4:10])\n",
    "print(\"First 10 characters of the text:\",str1[:10])\n",
    "print(\"Last 8 characters of the text:\",str1[-8:])\n",
    "print(\"Alternate characters of the text:\",str1[::2])\n",
    "print(\"Alternate from 2nd character of the text:\",str1[1::2])\n",
    "print(\"The text in reverse order:\",str1[::-1])"
   ]
  },
  {
   "cell_type": "code",
   "execution_count": 31,
   "id": "72931d0c-4ad0-45ef-8b0b-8aceb76a97b2",
   "metadata": {},
   "outputs": [
    {
     "name": "stdout",
     "output_type": "stream",
     "text": [
      "M\n"
     ]
    }
   ],
   "source": [
    "print(str1[0])"
   ]
  },
  {
   "cell_type": "code",
   "execution_count": 33,
   "id": "7cc09c0a-8e85-4c30-b82c-1a8064dae0a7",
   "metadata": {},
   "outputs": [
    {
     "name": "stdout",
     "output_type": "stream",
     "text": [
      "From 5th character to 10th character: rama H\n"
     ]
    }
   ],
   "source": [
    "print(\"From 5th character to 10th character:\",str1[4:10])"
   ]
  },
  {
   "cell_type": "code",
   "execution_count": 37,
   "id": "65daffdc-6224-4397-91e3-a2cebb8d156c",
   "metadata": {},
   "outputs": [
    {
     "name": "stdout",
     "output_type": "stream",
     "text": [
      "First 10 characters of the text: Manorama H\n"
     ]
    }
   ],
   "source": [
    "print(\"First 10 characters of the text:\",str1[:10])"
   ]
  },
  {
   "cell_type": "code",
   "execution_count": 47,
   "id": "3ddf1e95-99f0-4423-9f78-e6e69388f101",
   "metadata": {},
   "outputs": [
    {
     "name": "stdout",
     "output_type": "stream",
     "text": [
      "Last 8 characters of the text: Oct 2024\n"
     ]
    }
   ],
   "source": [
    "print(\"Last 8 characters of the text:\",str1[-8:])"
   ]
  },
  {
   "cell_type": "code",
   "execution_count": 49,
   "id": "467f115f-60bc-4f3f-ab0a-625e40f5acc6",
   "metadata": {},
   "outputs": [
    {
     "name": "stdout",
     "output_type": "stream",
     "text": [
      "Alternate characters of the text: Mnrm oio  yhnTann c 04\n"
     ]
    }
   ],
   "source": [
    "print(\"Alternate characters of the text:\",str1[::2])"
   ]
  },
  {
   "cell_type": "code",
   "execution_count": 51,
   "id": "55c8686a-6691-40c4-9b01-c5ddb8a2ed5d",
   "metadata": {},
   "outputs": [
    {
     "name": "stdout",
     "output_type": "stream",
     "text": [
      "Alternate from 2nd character of the text: aoaaHrzn-Pto riigOt22\n"
     ]
    }
   ],
   "source": [
    "print(\"Alternate from 2nd character of the text:\",str1[1::2])"
   ]
  },
  {
   "cell_type": "code",
   "execution_count": 55,
   "id": "e814e96e-a40a-42e3-86a9-f0607bbf7415",
   "metadata": {},
   "outputs": [
    {
     "name": "stdout",
     "output_type": "stream",
     "text": [
      "The text in reverse order: 4202 tcO gniniarT nohtyP - noziroH amaronaM\n"
     ]
    }
   ],
   "source": [
    "print(\"The text in reverse order:\",str1[::-1])"
   ]
  },
  {
   "cell_type": "markdown",
   "id": "1c990015-b43b-4d94-bd31-352cca320a7f",
   "metadata": {},
   "source": [
    "Program to accept a string from the console and check whether the string is a palindrome or not , i.e. the string and the \n",
    "reversed string must be equal "
   ]
  },
  {
   "cell_type": "code",
   "execution_count": 70,
   "id": "7813af34-8c4d-4ef2-b81b-f55b08366771",
   "metadata": {},
   "outputs": [
    {
     "name": "stdin",
     "output_type": "stream",
     "text": [
      "Enter any string: Racecar\n"
     ]
    },
    {
     "name": "stdout",
     "output_type": "stream",
     "text": [
      "You entered a palindrome!!\n"
     ]
    }
   ],
   "source": [
    "str_input = input(\"Enter any string:\").lower()\n",
    "rev = str_input[::-1]\n",
    "if rev == str_input:\n",
    "    print(\"You entered a palindrome!!\")\n",
    "else:\n",
    "    print(\"Oops its not a palindrome!!\")"
   ]
  },
  {
   "cell_type": "code",
   "execution_count": 82,
   "id": "b37ed285-b9e7-4e81-844f-12678a6c6208",
   "metadata": {},
   "outputs": [
    {
     "name": "stdin",
     "output_type": "stream",
     "text": [
      "Enter any string: race, car\n"
     ]
    },
    {
     "name": "stdout",
     "output_type": "stream",
     "text": [
      "You entered a palindrome!!\n"
     ]
    }
   ],
   "source": [
    "# Palindrome, ignoring spaces and punctuations\n",
    "import re\n",
    "str_input = input(\"Enter any string:\")\n",
    "str_clean = re.sub(r'[^a-zA-Z0-9]','',str_input).lower()\n",
    "rev = str_clean[::-1]\n",
    "if rev == str_clean:\n",
    "    print(\"You entered a palindrome!!\")\n",
    "else:\n",
    "    print(\"Oops its not a palindrome!!\")"
   ]
  },
  {
   "cell_type": "code",
   "execution_count": null,
   "id": "5fda36da-ea30-461a-95fd-ec15bf037a16",
   "metadata": {},
   "outputs": [],
   "source": []
  }
 ],
 "metadata": {
  "kernelspec": {
   "display_name": "Python 3 (ipykernel)",
   "language": "python",
   "name": "python3"
  },
  "language_info": {
   "codemirror_mode": {
    "name": "ipython",
    "version": 3
   },
   "file_extension": ".py",
   "mimetype": "text/x-python",
   "name": "python",
   "nbconvert_exporter": "python",
   "pygments_lexer": "ipython3",
   "version": "3.12.4"
  }
 },
 "nbformat": 4,
 "nbformat_minor": 5
}
