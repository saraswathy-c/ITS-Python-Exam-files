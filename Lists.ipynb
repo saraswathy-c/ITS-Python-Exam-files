{
 "cells": [
  {
   "cell_type": "markdown",
   "id": "bf0f7eb3-a98b-4123-a456-2233aee91a31",
   "metadata": {},
   "source": [
    "Lists in Python"
   ]
  },
  {
   "cell_type": "code",
   "execution_count": 34,
   "id": "57b2fb50-35da-4f38-81eb-af2f03fa7937",
   "metadata": {},
   "outputs": [],
   "source": [
    "# declaring a Static List\n",
    "mylist = [10, 4+5j, \"Kashi\", \"Keshu\",4.55,True, 18]"
   ]
  },
  {
   "cell_type": "code",
   "execution_count": 36,
   "id": "8968f58e-dc83-42f2-9bc3-bd9ccb6ed5ba",
   "metadata": {},
   "outputs": [
    {
     "data": {
      "text/plain": [
       "[10, (4+5j), 'Kashi', 'Keshu', 4.55, True, 18]"
      ]
     },
     "execution_count": 36,
     "metadata": {},
     "output_type": "execute_result"
    }
   ],
   "source": [
    "mylist"
   ]
  },
  {
   "cell_type": "code",
   "execution_count": 38,
   "id": "f76e78ff-6833-4d50-9830-49fa2327538e",
   "metadata": {},
   "outputs": [
    {
     "data": {
      "text/plain": [
       "10"
      ]
     },
     "execution_count": 38,
     "metadata": {},
     "output_type": "execute_result"
    }
   ],
   "source": [
    "mylist[0]"
   ]
  },
  {
   "cell_type": "code",
   "execution_count": 40,
   "id": "6b1575d4-5bbc-4b3c-96dc-aa9503dabc8c",
   "metadata": {},
   "outputs": [
    {
     "data": {
      "text/plain": [
       "'Keshu'"
      ]
     },
     "execution_count": 40,
     "metadata": {},
     "output_type": "execute_result"
    }
   ],
   "source": [
    "mylist[3]"
   ]
  },
  {
   "cell_type": "code",
   "execution_count": 42,
   "id": "9739a731-74ef-4cfe-b8e3-f316851ae0db",
   "metadata": {},
   "outputs": [
    {
     "data": {
      "text/plain": [
       "True"
      ]
     },
     "execution_count": 42,
     "metadata": {},
     "output_type": "execute_result"
    }
   ],
   "source": [
    "mylist[-2]"
   ]
  },
  {
   "cell_type": "code",
   "execution_count": 44,
   "id": "bd36a070-3233-4abf-b0b6-ef4ad6230c3f",
   "metadata": {},
   "outputs": [
    {
     "data": {
      "text/plain": [
       "10"
      ]
     },
     "execution_count": 44,
     "metadata": {},
     "output_type": "execute_result"
    }
   ],
   "source": [
    "mylist[-7]"
   ]
  },
  {
   "cell_type": "code",
   "execution_count": 46,
   "id": "1ca67b18-f4e6-47ef-b319-6e1465e06251",
   "metadata": {},
   "outputs": [
    {
     "data": {
      "text/plain": [
       "10"
      ]
     },
     "execution_count": 46,
     "metadata": {},
     "output_type": "execute_result"
    }
   ],
   "source": [
    "mylist[0]"
   ]
  },
  {
   "cell_type": "code",
   "execution_count": 48,
   "id": "73166848-de91-4800-a026-4bb3656e72d5",
   "metadata": {},
   "outputs": [
    {
     "name": "stdout",
     "output_type": "stream",
     "text": [
      "[10, (4+5j), 'Kashi', 'Keshu', 4.55, True, 18]\n"
     ]
    }
   ],
   "source": [
    "print(mylist)"
   ]
  },
  {
   "cell_type": "code",
   "execution_count": 50,
   "id": "0b417f2b-12e5-41ff-b5ca-4ea9d9c6e32b",
   "metadata": {},
   "outputs": [
    {
     "name": "stdout",
     "output_type": "stream",
     "text": [
      "10\n",
      "(4+5j)\n",
      "Kashi\n",
      "Keshu\n",
      "4.55\n",
      "True\n",
      "18\n"
     ]
    }
   ],
   "source": [
    "for i in mylist:       # Iterate through List (Iterate each value)\n",
    "    print(i)"
   ]
  },
  {
   "cell_type": "code",
   "execution_count": 52,
   "id": "24cb433f-3603-4436-bc69-ab9bd4f52c57",
   "metadata": {},
   "outputs": [],
   "source": [
    "mylist.append(\"Smriti\")           # Adding value"
   ]
  },
  {
   "cell_type": "code",
   "execution_count": 54,
   "id": "46568450-765c-4262-827c-61314f852903",
   "metadata": {},
   "outputs": [
    {
     "name": "stdout",
     "output_type": "stream",
     "text": [
      "[10, (4+5j), 'Kashi', 'Keshu', 4.55, True, 18, 'Smriti']\n"
     ]
    }
   ],
   "source": [
    "print(mylist)"
   ]
  },
  {
   "cell_type": "code",
   "execution_count": 56,
   "id": "e7cc6c84-2607-4683-a9ea-ebbe9498d0f5",
   "metadata": {},
   "outputs": [],
   "source": [
    "mylist[3] = 33             # Updating value"
   ]
  },
  {
   "cell_type": "code",
   "execution_count": 58,
   "id": "7dbc7e25-4231-41c3-a8cd-04ba0c423f24",
   "metadata": {},
   "outputs": [
    {
     "name": "stdout",
     "output_type": "stream",
     "text": [
      "[10, (4+5j), 'Kashi', 33, 4.55, True, 18, 'Smriti']\n"
     ]
    }
   ],
   "source": [
    "print(mylist)"
   ]
  },
  {
   "cell_type": "code",
   "execution_count": 60,
   "id": "03a2dd7e-c782-43f1-a988-16b3d1d261b2",
   "metadata": {},
   "outputs": [
    {
     "name": "stdout",
     "output_type": "stream",
     "text": [
      "10\n",
      "(4+5j)\n",
      "Kashi\n",
      "33\n",
      "4.55\n",
      "True\n",
      "18\n",
      "Smriti\n"
     ]
    }
   ],
   "source": [
    "# Iterate using Index numbers\n",
    "for i in range(len(mylist)):\n",
    "    print(mylist[i])"
   ]
  },
  {
   "cell_type": "code",
   "execution_count": 80,
   "id": "9cf9779a-7a67-47ef-b04e-6ee799d4fff3",
   "metadata": {},
   "outputs": [
    {
     "name": "stdout",
     "output_type": "stream",
     "text": [
      "Enter the values in each line:\n"
     ]
    },
    {
     "name": "stdin",
     "output_type": "stream",
     "text": [
      " 34\n",
      " 3\n",
      " 33.213\n",
      " fdtyfuy\n",
      " erret\n",
      " 56\n",
      " \n"
     ]
    },
    {
     "name": "stdout",
     "output_type": "stream",
     "text": [
      "Elements in the list: ['34', '3', '33.213', 'fdtyfuy', 'erret', '56']\n"
     ]
    }
   ],
   "source": [
    "# Printing a Dynamic List\n",
    "list1 = []\n",
    "print(\"Enter the values in each line:\")\n",
    "#print(\"Press Return Key twice to stop the input entry\")\n",
    "while True:\n",
    "    n = input()\n",
    "    if n ==\"\":\n",
    "        break\n",
    "    list1.append(n) \n",
    "print(\"Elements in the list:\",list1)"
   ]
  },
  {
   "cell_type": "code",
   "execution_count": 82,
   "id": "45f9401c-4ec4-4459-aacd-084957777af4",
   "metadata": {},
   "outputs": [],
   "source": [
    "list1.reverse()"
   ]
  },
  {
   "cell_type": "code",
   "execution_count": 84,
   "id": "22fcf528-9e85-41f5-b76a-08c6169bc4dd",
   "metadata": {},
   "outputs": [
    {
     "name": "stdout",
     "output_type": "stream",
     "text": [
      "['56', 'erret', 'fdtyfuy', '33.213', '3', '34']\n"
     ]
    }
   ],
   "source": [
    "print(list1)                             # Dont give reverse() fn inside print(). It wont work."
   ]
  },
  {
   "cell_type": "code",
   "execution_count": 114,
   "id": "66d204bb-15c1-486d-96fa-11f1b426b5fb",
   "metadata": {},
   "outputs": [],
   "source": [
    "lucky_numbers = [4,8,15,67,89,34]\n",
    "friends = [\"kevin\", \"Ram\", \"Jim\", \"Oscar\",  \"tom\"]"
   ]
  },
  {
   "cell_type": "code",
   "execution_count": 116,
   "id": "b0cbc6b6-86d7-492a-a100-17370dab19ad",
   "metadata": {},
   "outputs": [],
   "source": [
    "friends.extend(lucky_numbers)        #append a list to another"
   ]
  },
  {
   "cell_type": "code",
   "execution_count": 118,
   "id": "80b95de0-0e2b-43f0-8b5e-3c476d3f6565",
   "metadata": {},
   "outputs": [
    {
     "name": "stdout",
     "output_type": "stream",
     "text": [
      "['kevin', 'Ram', 'Jim', 'Oscar', 'tom', 4, 8, 15, 67, 89, 34]\n"
     ]
    }
   ],
   "source": [
    "print(friends)"
   ]
  },
  {
   "cell_type": "code",
   "execution_count": 120,
   "id": "c860ed49-cd32-444d-a927-f403f04bb290",
   "metadata": {},
   "outputs": [],
   "source": [
    "friends.append(\"Crees\")"
   ]
  },
  {
   "cell_type": "code",
   "execution_count": 122,
   "id": "85253dda-02b6-4f42-8bb8-d31674b08f53",
   "metadata": {},
   "outputs": [
    {
     "name": "stdout",
     "output_type": "stream",
     "text": [
      "['kevin', 'Ram', 'Jim', 'Oscar', 'tom', 4, 8, 15, 67, 89, 34, 'Crees']\n"
     ]
    }
   ],
   "source": [
    "print(friends)"
   ]
  },
  {
   "cell_type": "code",
   "execution_count": 124,
   "id": "736f9123-04d6-4abc-9000-5d6a95f034cd",
   "metadata": {},
   "outputs": [],
   "source": [
    "friends.insert(1,\"Ramanujam\")    #insert in between"
   ]
  },
  {
   "cell_type": "code",
   "execution_count": 126,
   "id": "0b3b49f6-bd4d-4bd3-b8ab-3b8ac8d3426e",
   "metadata": {},
   "outputs": [
    {
     "name": "stdout",
     "output_type": "stream",
     "text": [
      "['kevin', 'Ramanujam', 'Ram', 'Jim', 'Oscar', 'tom', 4, 8, 15, 67, 89, 34, 'Crees']\n"
     ]
    }
   ],
   "source": [
    "print(friends)"
   ]
  },
  {
   "cell_type": "code",
   "execution_count": 128,
   "id": "778ba063-4bb1-4083-80b5-5797728630a1",
   "metadata": {},
   "outputs": [],
   "source": [
    "friends.remove(\"Jim\")          # remove an element from list"
   ]
  },
  {
   "cell_type": "code",
   "execution_count": 130,
   "id": "96081ff5-0e6c-492b-9146-e00b31572607",
   "metadata": {},
   "outputs": [
    {
     "name": "stdout",
     "output_type": "stream",
     "text": [
      "['kevin', 'Ramanujam', 'Ram', 'Oscar', 'tom', 4, 8, 15, 67, 89, 34, 'Crees']\n"
     ]
    }
   ],
   "source": [
    "print(friends)"
   ]
  },
  {
   "cell_type": "code",
   "execution_count": 132,
   "id": "be51a2ac-7b9d-4f9a-8baf-833ee6749da4",
   "metadata": {},
   "outputs": [
    {
     "name": "stdout",
     "output_type": "stream",
     "text": [
      "['kevin', 'Ramanujam', 'Ram', 'Oscar', 'tom', 4, 8, 15, 67, 89, 34]\n"
     ]
    }
   ],
   "source": [
    "friends.pop()                  #remove last element from list\n",
    "print(friends)"
   ]
  },
  {
   "cell_type": "code",
   "execution_count": 134,
   "id": "10663350-8c50-4203-9da6-fdfa2644e0a7",
   "metadata": {},
   "outputs": [
    {
     "name": "stdout",
     "output_type": "stream",
     "text": [
      "3\n"
     ]
    }
   ],
   "source": [
    "print(friends.index(\"Oscar\"))"
   ]
  },
  {
   "cell_type": "code",
   "execution_count": 136,
   "id": "d683baad-5637-4502-a12a-1fe6e26d4cf2",
   "metadata": {},
   "outputs": [
    {
     "name": "stdout",
     "output_type": "stream",
     "text": [
      "67\n"
     ]
    }
   ],
   "source": [
    "print(friends[-3])"
   ]
  },
  {
   "cell_type": "code",
   "execution_count": 142,
   "id": "0fddb825-5b6b-429c-ac92-2aa33bbc173f",
   "metadata": {},
   "outputs": [],
   "source": [
    "people = [\"Hanna\", \"Lousia\",\"Claudia\",\"Angela\",\"Geoffrey\",\"aparna\"]"
   ]
  },
  {
   "cell_type": "code",
   "execution_count": 144,
   "id": "98fca47e-7ae0-467f-9100-0358713c1a1a",
   "metadata": {},
   "outputs": [
    {
     "name": "stdout",
     "output_type": "stream",
     "text": [
      "['Hannah', 'Lousia', 'Claudia', 'Angela', 'Geoffrey', 'aparna']\n"
     ]
    }
   ],
   "source": [
    "people[0] = \"Hannah\"\n",
    "print(people)"
   ]
  },
  {
   "cell_type": "code",
   "execution_count": 146,
   "id": "53d01d26-9bf7-43bd-9ca2-8b3389f906da",
   "metadata": {},
   "outputs": [
    {
     "name": "stdout",
     "output_type": "stream",
     "text": [
      "['Hannah', 'Lousia', 'Claudia', 'Angela', 'Jeffrey', 'aparna']\n"
     ]
    }
   ],
   "source": [
    "people[-2]=\"Jeffrey\"\n",
    "print(people)"
   ]
  },
  {
   "cell_type": "code",
   "execution_count": 200,
   "id": "90e03aef-007f-44fd-8912-88b123a87595",
   "metadata": {},
   "outputs": [],
   "source": [
    "#Change 'aparna' to 'Aparna'\n",
    "\n",
    "\n",
    "# WHy list always return all strings? Dynamic lists\n",
    "\n",
    "#Does list do sorting originally..by index? Sorted, but no need to store it"
   ]
  },
  {
   "cell_type": "code",
   "execution_count": 166,
   "id": "73612fd1-a6ca-4ef2-88c7-1ec898ca9224",
   "metadata": {},
   "outputs": [],
   "source": [
    "friends = [\"kevin\",\"Ram\", \"Jim\", \"Jim\",\"Oscar\", \"tom\"]\n",
    "friends.sort()"
   ]
  },
  {
   "cell_type": "code",
   "execution_count": 168,
   "id": "43580fa4-e4bb-48b4-9468-49efb6abbf5f",
   "metadata": {},
   "outputs": [
    {
     "name": "stdout",
     "output_type": "stream",
     "text": [
      "['Jim', 'Jim', 'Oscar', 'Ram', 'kevin', 'tom']\n"
     ]
    }
   ],
   "source": [
    "print(friends)"
   ]
  },
  {
   "cell_type": "code",
   "execution_count": 170,
   "id": "dc99ddff-83bd-4329-a8eb-4e82b1d7a337",
   "metadata": {},
   "outputs": [
    {
     "name": "stdout",
     "output_type": "stream",
     "text": [
      "2\n"
     ]
    }
   ],
   "source": [
    "print(friends.count(\"Jim\"))"
   ]
  },
  {
   "cell_type": "code",
   "execution_count": 172,
   "id": "ca84b212-ac1a-473c-837b-f8d0a7ae3187",
   "metadata": {},
   "outputs": [
    {
     "name": "stdout",
     "output_type": "stream",
     "text": [
      "['Jim', 'Jim', 'Oscar', 'Ram', 'kevin', 'tom']\n",
      "['Jim', 'Jim', 'Oscar', 'Ram', 'kevin', 'tom']\n"
     ]
    }
   ],
   "source": [
    "friends2 = friends.copy()\n",
    "print(friends2)\n",
    "print(friends)"
   ]
  },
  {
   "cell_type": "code",
   "execution_count": 174,
   "id": "9fba9214-ecda-452f-9e12-96b57e8b6cfe",
   "metadata": {},
   "outputs": [
    {
     "name": "stdout",
     "output_type": "stream",
     "text": [
      "['tom', 'kevin', 'Ram', 'Oscar', 'Jim', 'Jim']\n"
     ]
    }
   ],
   "source": [
    "friends.reverse()\n",
    "print(friends)"
   ]
  },
  {
   "cell_type": "code",
   "execution_count": 176,
   "id": "b136367f-fc0b-405b-b662-70f62ee5c9d0",
   "metadata": {},
   "outputs": [],
   "source": [
    "list = ['ABC', 1234, 2.34, \"Gyan\", 71.2]\n",
    "tinylist = [123, 'John']"
   ]
  },
  {
   "cell_type": "code",
   "execution_count": 178,
   "id": "bf938db9-613c-4631-a0c6-c37fdf99a13c",
   "metadata": {},
   "outputs": [
    {
     "name": "stdout",
     "output_type": "stream",
     "text": [
      "['ABC', 1234, 2.34, 'Gyan', 71.2]\n"
     ]
    }
   ],
   "source": [
    "print(list)"
   ]
  },
  {
   "cell_type": "code",
   "execution_count": 180,
   "id": "973eaaf8-285c-4c49-8402-9cdaf1597f59",
   "metadata": {},
   "outputs": [
    {
     "name": "stdout",
     "output_type": "stream",
     "text": [
      "Gyan\n"
     ]
    }
   ],
   "source": [
    "print(list[-2])"
   ]
  },
  {
   "cell_type": "code",
   "execution_count": 182,
   "id": "9fbb777b-1a55-405a-8b21-066e51d06d05",
   "metadata": {},
   "outputs": [
    {
     "name": "stdout",
     "output_type": "stream",
     "text": [
      "[1234, 2.34]\n"
     ]
    }
   ],
   "source": [
    "print(list[1:3])"
   ]
  },
  {
   "cell_type": "code",
   "execution_count": 184,
   "id": "5be67cbc-c980-40ec-8660-d0b310ebb06a",
   "metadata": {},
   "outputs": [
    {
     "name": "stdout",
     "output_type": "stream",
     "text": [
      "[2.34, 'Gyan', 71.2]\n"
     ]
    }
   ],
   "source": [
    "print(list[2:])"
   ]
  },
  {
   "cell_type": "code",
   "execution_count": 190,
   "id": "46c354b9-9cdf-4c35-9b7a-c987432138d7",
   "metadata": {},
   "outputs": [
    {
     "name": "stdout",
     "output_type": "stream",
     "text": [
      "[123, 'John', 123, 'John']\n"
     ]
    }
   ],
   "source": [
    "print(tinylist * 2)           #repeat twice"
   ]
  },
  {
   "cell_type": "code",
   "execution_count": 194,
   "id": "b340b1c1-f7f6-4403-a25c-634907609a17",
   "metadata": {},
   "outputs": [
    {
     "name": "stdout",
     "output_type": "stream",
     "text": [
      "['ABC', 1234, 2.34, 'Gyan', 71.2, 123, 'John']\n"
     ]
    }
   ],
   "source": [
    "print(list + tinylist)          # concatenation, or merging two lists"
   ]
  },
  {
   "cell_type": "code",
   "execution_count": 196,
   "id": "02a17a8b-d4a1-4411-a01a-7974bd9adbb8",
   "metadata": {},
   "outputs": [
    {
     "data": {
      "text/plain": [
       "71.2"
      ]
     },
     "execution_count": 196,
     "metadata": {},
     "output_type": "execute_result"
    }
   ],
   "source": [
    "list.pop(-1)              # remove elt using index"
   ]
  },
  {
   "cell_type": "code",
   "execution_count": 198,
   "id": "a57cb48e-26be-4d82-a27d-e774b5544cf7",
   "metadata": {},
   "outputs": [
    {
     "data": {
      "text/plain": [
       "['ABC', 1234, 2.34, 'Gyan']"
      ]
     },
     "execution_count": 198,
     "metadata": {},
     "output_type": "execute_result"
    }
   ],
   "source": [
    "list"
   ]
  },
  {
   "cell_type": "code",
   "execution_count": 202,
   "id": "9a11aba5-4895-465f-a7e0-e40104d9e850",
   "metadata": {},
   "outputs": [
    {
     "data": {
      "text/plain": [
       "[2.34]"
      ]
     },
     "execution_count": 202,
     "metadata": {},
     "output_type": "execute_result"
    }
   ],
   "source": [
    "list[2:3]"
   ]
  },
  {
   "cell_type": "code",
   "execution_count": 204,
   "id": "8308ba14-131b-4f64-87ff-285c8d02ca30",
   "metadata": {},
   "outputs": [
    {
     "data": {
      "text/plain": [
       "[1234, 2.34]"
      ]
     },
     "execution_count": 204,
     "metadata": {},
     "output_type": "execute_result"
    }
   ],
   "source": [
    "list[1:3]"
   ]
  },
  {
   "cell_type": "code",
   "execution_count": 206,
   "id": "ef7c522b-0bec-4799-986b-4bea1730bd0a",
   "metadata": {},
   "outputs": [
    {
     "data": {
      "text/plain": [
       "[2.34, 'Gyan']"
      ]
     },
     "execution_count": 206,
     "metadata": {},
     "output_type": "execute_result"
    }
   ],
   "source": [
    "list[2:]"
   ]
  },
  {
   "cell_type": "code",
   "execution_count": 208,
   "id": "3e9784e5-2d6e-44d8-8671-0ac371c42ede",
   "metadata": {},
   "outputs": [
    {
     "data": {
      "text/plain": [
       "[1234, 2.34]"
      ]
     },
     "execution_count": 208,
     "metadata": {},
     "output_type": "execute_result"
    }
   ],
   "source": [
    "list[1:-1]"
   ]
  },
  {
   "cell_type": "code",
   "execution_count": null,
   "id": "a0b2ddb3-e95d-4d21-80f6-a01300d6b857",
   "metadata": {},
   "outputs": [],
   "source": [
    "'''\n",
    "Program to remove a name form a list of pre-defined names\n",
    "the name to be deleted must be accepted from the console\n",
    "provide a final confirmation before deleting the element\n",
    "'''"
   ]
  },
  {
   "cell_type": "code",
   "execution_count": 37,
   "id": "5527c811-22d8-48ab-ad6b-a1b6a079898f",
   "metadata": {},
   "outputs": [
    {
     "name": "stdout",
     "output_type": "stream",
     "text": [
      "Original List of names: ['Kashi', 'Keshu', 'Aarya', 'Aavani', 'Maya', 'Meera', 'Smrithi', 'Rathore', 'Zen', 'Yen', 'Ryan']\n"
     ]
    }
   ],
   "source": [
    "mylist = [\"Kashi\", \"Keshu\", \"Aarya\",\"Aavani\", \"Maya\", \"Meera\", \"Smrithi\",\"Rathore\",\"Zen\",\"Yen\",\"Ryan\"]\n",
    "print(\"Original List of names:\", mylist)"
   ]
  },
  {
   "cell_type": "code",
   "execution_count": 39,
   "id": "eebe6658-bac7-477b-af13-701053fcbd77",
   "metadata": {},
   "outputs": [
    {
     "name": "stdin",
     "output_type": "stream",
     "text": [
      "Which name to remove:  ryan\n",
      "Remove Ryan from original list of names? [Y/N] y\n"
     ]
    },
    {
     "name": "stdout",
     "output_type": "stream",
     "text": [
      "Ryan removed from list\n",
      "Final list ['Kashi', 'Keshu', 'Aarya', 'Aavani', 'Maya', 'Meera', 'Smrithi', 'Rathore', 'Zen', 'Yen']\n"
     ]
    }
   ],
   "source": [
    "old_name = input(\"Which name to remove: \")\n",
    "old_name = old_name.title()\n",
    "if old_name in mylist:\n",
    "    choice = input(\"Remove {} from original list of names? [Y/N]\".format(old_name))\n",
    "    if choice.upper() ==\"Y\":\n",
    "        mylist.remove(old_name)\n",
    "        print(\"{} removed from list\".format(old_name))\n",
    "    else:\n",
    "        print(\"Action cancelled...\")\n",
    "else:\n",
    "    print(\"{} not in the list.Pls provide another name...\".format(old_name))\n",
    "print(\"Final list\",mylist)  "
   ]
  },
  {
   "cell_type": "code",
   "execution_count": 11,
   "id": "677a8fe6-abe5-45e6-a644-102d851499e4",
   "metadata": {},
   "outputs": [
    {
     "data": {
      "text/plain": [
       "'Hello'"
      ]
     },
     "execution_count": 11,
     "metadata": {},
     "output_type": "execute_result"
    }
   ],
   "source": [
    "m = \"hello\"\n",
    "m.title()"
   ]
  },
  {
   "cell_type": "code",
   "execution_count": 13,
   "id": "827ccda0-61c2-462d-a6d0-48ebceb54bcb",
   "metadata": {},
   "outputs": [
    {
     "data": {
      "text/plain": [
       "'HELLO'"
      ]
     },
     "execution_count": 13,
     "metadata": {},
     "output_type": "execute_result"
    }
   ],
   "source": [
    "m.upper()"
   ]
  },
  {
   "cell_type": "code",
   "execution_count": 9,
   "id": "8656bb6f-9008-4615-b14b-e4460f241f1a",
   "metadata": {},
   "outputs": [
    {
     "name": "stdout",
     "output_type": "stream",
     "text": [
      "Original List of names: ['Kashi', 'Keshu', 'Aarya']\n"
     ]
    },
    {
     "name": "stdin",
     "output_type": "stream",
     "text": [
      "Which name to remove (Or type exit to stop) : kashi\n",
      "Remove Kashi from original list of names? [Y/N]: y\n"
     ]
    },
    {
     "name": "stdout",
     "output_type": "stream",
     "text": [
      "Kashi removed from list\n",
      "Current list: ['Keshu', 'Aarya']\n"
     ]
    },
    {
     "name": "stdin",
     "output_type": "stream",
     "text": [
      "Which name to remove (Or type exit to stop) : keshu\n",
      "Remove Keshu from original list of names? [Y/N]: y\n"
     ]
    },
    {
     "name": "stdout",
     "output_type": "stream",
     "text": [
      "Keshu removed from list\n",
      "Current list: ['Aarya']\n"
     ]
    },
    {
     "name": "stdin",
     "output_type": "stream",
     "text": [
      "Which name to remove (Or type exit to stop) : aarya\n",
      "Remove Aarya from original list of names? [Y/N]: y\n"
     ]
    },
    {
     "name": "stdout",
     "output_type": "stream",
     "text": [
      "Aarya removed from list\n",
      "Current list: []\n",
      "Action cancelled...List is empty now\n"
     ]
    }
   ],
   "source": [
    "# Modify above program to include delete action in loop. If all elements of loop are deleted, then that action should stop automatically.\n",
    "mylist = [\"Kashi\", \"Keshu\", \"Aarya\"]\n",
    "print(\"Original List of names:\", mylist)\n",
    "# Start a loop to repeatedly ask for names to delete\n",
    "while mylist:\n",
    "    old_name = input(\"Which name to remove (Or type exit to stop) :\").title()\n",
    "    \n",
    "    # option to exit loop manually\n",
    "    if old_name.lower() == \"exit\":\n",
    "        print(\"Exiting delete action.\")\n",
    "        break\n",
    "    # Check if name exists in list    \n",
    "    if old_name in mylist:\n",
    "        choice = input(f\"Remove {old_name} from original list of names? [Y/N]:\")\n",
    "        if choice.upper()== \"Y\":\n",
    "            mylist.remove(old_name)\n",
    "            print(f\"{old_name} removed from list\")\n",
    "        else:\n",
    "            print(\"Action cancelled.\")\n",
    "    else:\n",
    "         print(f\"{old_name} not in the list.Pls provide another name...\")\n",
    "    \n",
    "    print(\"Current list:\", mylist)\n",
    "    # If list becomes empty\n",
    "    if not mylist:\n",
    "            print(\"Action cancelled...List is empty now\")"
   ]
  },
  {
   "cell_type": "code",
   "execution_count": 23,
   "id": "443715cf-4e40-4977-a2d8-13f681984bc7",
   "metadata": {},
   "outputs": [
    {
     "name": "stdin",
     "output_type": "stream",
     "text": [
      "Enter the lower limit: 25\n",
      "Enter the upper limit: 100\n"
     ]
    },
    {
     "name": "stdout",
     "output_type": "stream",
     "text": [
      "[29, 31, 37, 41, 43, 47, 53, 59, 61, 67, 71, 73, 79, 83, 89, 97]\n"
     ]
    }
   ],
   "source": [
    "#Program to generate prime numbers from M to N and store the same into a list and print later\n",
    "m = int(input(\"Enter the lower limit:\"))\n",
    "n = int(input(\"Enter the upper limit:\"))\n",
    "\n",
    "mylist = []\n",
    "for i in range(m,n + 1):\n",
    "    flag =0\n",
    "    for j in range(2,i//2 + 1):\n",
    "        if i%j ==0:\n",
    "            flag = 1\n",
    "            break\n",
    "    if flag ==0:\n",
    "        mylist.append(i)\n",
    "print(mylist)         "
   ]
  },
  {
   "cell_type": "code",
   "execution_count": 29,
   "id": "79df06a9-7cda-4ff4-81aa-4adccb8de886",
   "metadata": {},
   "outputs": [
    {
     "name": "stdin",
     "output_type": "stream",
     "text": [
      "Enter the lower limit: 3\n",
      "Enter the upper limit: 49\n"
     ]
    },
    {
     "name": "stdout",
     "output_type": "stream",
     "text": [
      "Final list: [3, 5, 7, 9, 11, 13, 15, 17, 19, 21, 23, 25, 27, 29, 31, 33, 35, 37, 39, 41, 43, 45, 47, 49]\n"
     ]
    }
   ],
   "source": [
    "# Program to generate odd numbers between M and N and store it in a list  and print it later\n",
    "m = int(input(\"Enter the lower limit:\"))\n",
    "n = int(input(\"Enter the upper limit:\"))\n",
    "\n",
    "mylist = []\n",
    "for i in range(m, n+1):\n",
    "    if i%2 != 0:\n",
    "        mylist.append(i)\n",
    "print(\"Final list:\", mylist)\n",
    "        "
   ]
  },
  {
   "cell_type": "code",
   "execution_count": 39,
   "id": "faa3fbbd-6628-4536-ab57-fda1655df808",
   "metadata": {},
   "outputs": [
    {
     "name": "stdout",
     "output_type": "stream",
     "text": [
      "Original List of fruits: ['Mango', 'Pear', 'Apple', 'Strawberry', 'Raspberry', 'Kiwi']\n"
     ]
    },
    {
     "name": "stdin",
     "output_type": "stream",
     "text": [
      "Which fruit to replace? pear\n",
      "Are you sure you wanna replace? [Y/N] y\n"
     ]
    },
    {
     "name": "stdout",
     "output_type": "stream",
     "text": [
      "Replacing Pear ....\n"
     ]
    },
    {
     "name": "stdin",
     "output_type": "stream",
     "text": [
      "Give the new fruit: jamun\n"
     ]
    },
    {
     "name": "stdout",
     "output_type": "stream",
     "text": [
      "Updated list: ['Mango', 'Jamun', 'Apple', 'Strawberry', 'Raspberry', 'Kiwi']\n"
     ]
    }
   ],
   "source": [
    "# Program to replace a value in the list of pre-defined values; the existing value and the new value must be accepted from\n",
    "# the console.\n",
    "alist = [\"Mango\",\"Pear\",\"Apple\", \"Strawberry\",\"Raspberry\",\"Kiwi\"]\n",
    "print(\"Original List of fruits:\", alist)\n",
    "old = input(\"Which fruit to replace?\").title()\n",
    "if old in alist:\n",
    "    choice = input(\"Are you sure you wanna replace? [Y/N]\")\n",
    "    if choice.upper()=='Y':\n",
    "        print(f\"Replacing {old} ....\")\n",
    "        pos = alist.index(old)\n",
    "        new = input(\"Give the new fruit:\").title()\n",
    "        alist[pos] = new\n",
    "        print(\"Updated list:\", alist)\n",
    "    else:\n",
    "        print(\"Replacement cancelled!\")\n",
    "        \n",
    "else:\n",
    "    print(\"This fruit is not in the list. Try any other!\")    "
   ]
  },
  {
   "cell_type": "code",
   "execution_count": 47,
   "id": "7eb0b2ff-e1ba-45a8-b0fd-b0d397ae3505",
   "metadata": {},
   "outputs": [
    {
     "name": "stdout",
     "output_type": "stream",
     "text": [
      "Original List of fruits: ['Mango', 'Pear', 'Apple', 'Strawberry', 'Raspberry', 'Kiwi']\n"
     ]
    },
    {
     "name": "stdin",
     "output_type": "stream",
     "text": [
      "Which fruit to replace? (or type exit to stop) pear\n",
      "Are you sure you wanna replace? [Y/N] n\n"
     ]
    },
    {
     "name": "stdout",
     "output_type": "stream",
     "text": [
      "Replacement cancelled!\n"
     ]
    },
    {
     "name": "stdin",
     "output_type": "stream",
     "text": [
      "Which fruit to replace? (or type exit to stop) pear\n",
      "Are you sure you wanna replace? [Y/N] y\n"
     ]
    },
    {
     "name": "stdout",
     "output_type": "stream",
     "text": [
      "Replacing Pear ....\n"
     ]
    },
    {
     "name": "stdin",
     "output_type": "stream",
     "text": [
      "Give the new fruit: banana\n"
     ]
    },
    {
     "name": "stdout",
     "output_type": "stream",
     "text": [
      "Updated list: ['Mango', 'Banana', 'Apple', 'Strawberry', 'Raspberry', 'Kiwi']\n"
     ]
    },
    {
     "name": "stdin",
     "output_type": "stream",
     "text": [
      "Which fruit to replace? (or type exit to stop) raspberry\n",
      "Are you sure you wanna replace? [Y/N] y\n"
     ]
    },
    {
     "name": "stdout",
     "output_type": "stream",
     "text": [
      "Replacing Raspberry ....\n"
     ]
    },
    {
     "name": "stdin",
     "output_type": "stream",
     "text": [
      "Give the new fruit: cherry\n"
     ]
    },
    {
     "name": "stdout",
     "output_type": "stream",
     "text": [
      "Updated list: ['Mango', 'Banana', 'Apple', 'Strawberry', 'Cherry', 'Kiwi']\n"
     ]
    },
    {
     "name": "stdin",
     "output_type": "stream",
     "text": [
      "Which fruit to replace? (or type exit to stop) exit\n"
     ]
    },
    {
     "name": "stdout",
     "output_type": "stream",
     "text": [
      "Exiting from input\n"
     ]
    }
   ],
   "source": [
    "# Program to replace a value in the list of pre-defined values; the existing value and the new value must be accepted from\n",
    "# the console. Keep asking for more replacements.\n",
    "alist = [\"Mango\",\"Pear\",\"Apple\",\"Strawberry\",\"Raspberry\",\"Kiwi\"]\n",
    "print(\"Original List of fruits:\", alist)\n",
    "\n",
    "while True:\n",
    "    old = input(\"Which fruit to replace? (or type exit to stop)\").title()\n",
    "    if old.lower()==\"exit\":\n",
    "        print(\"Exiting from input\")\n",
    "        break\n",
    "        \n",
    "    if old in alist:\n",
    "        choice = input(\"Are you sure you wanna replace? [Y/N]\")\n",
    "        if choice.upper()=='Y':\n",
    "            print(f\"Replacing {old} ....\")\n",
    "            pos = alist.index(old)\n",
    "            new = input(\"Give the new fruit:\").title()\n",
    "            alist[pos] = new\n",
    "            print(\"Updated list:\", alist)\n",
    "        else:\n",
    "            print(\"Replacement cancelled!\")\n",
    "    else:\n",
    "        print(\"This fruit is not in the list. Try any other!\") \n"
   ]
  },
  {
   "cell_type": "code",
   "execution_count": 5,
   "id": "77cc407c-b72e-4d95-b3d1-e2f9f904e5d0",
   "metadata": {},
   "outputs": [
    {
     "name": "stdout",
     "output_type": "stream",
     "text": [
      "Original matrix rows:\n",
      "[1, 3, 5]\n",
      "[2, 4, 6]\n",
      "[8, 10, 12]\n",
      "Accessing element-wise:\n",
      "1\t3\t5\t\n",
      "2\t4\t6\t\n",
      "8\t10\t12\t\n",
      "Accessing Matrix using index-values, like in 2D Arrays :\n",
      "1\t3\t5\t\n",
      "2\t4\t6\t\n",
      "8\t10\t12\t\n"
     ]
    }
   ],
   "source": [
    "#Nested List : Nested list is a list defined as an element of another , one can implment two-D arrays using the nested list\n",
    "# This prgm shows 3 different ways of accessing Nested Lists\n",
    "mat = [[1,3,5],[2,4,6],[8,10,12]]\n",
    "print(\"Original matrix rows:\")\n",
    "for i in mat:\n",
    "    print(i)\n",
    "\n",
    "print(\"Accessing element-wise:\")\n",
    "for i in mat:         #row\n",
    "    for j in i:       # element\n",
    "        print(j, end='\\t')\n",
    "    print()           #new line after each row\n",
    "\n",
    "print(\"Accessing Matrix using index-values, like in 2D Arrays :\")\n",
    "for i in range(len(mat)):\n",
    "    for j in range(len(mat[i])):\n",
    "        print(mat[i][j], end ='\\t')\n",
    "    print()    "
   ]
  },
  {
   "cell_type": "code",
   "execution_count": 5,
   "id": "7b93511b-70e3-49f4-9055-a139ff3f77e2",
   "metadata": {},
   "outputs": [
    {
     "name": "stdout",
     "output_type": "stream",
     "text": [
      "Enter the number of rows:\n"
     ]
    },
    {
     "name": "stdin",
     "output_type": "stream",
     "text": [
      " 3\n"
     ]
    },
    {
     "name": "stdout",
     "output_type": "stream",
     "text": [
      "Enter the number of columns:\n"
     ]
    },
    {
     "name": "stdin",
     "output_type": "stream",
     "text": [
      " 4\n"
     ]
    },
    {
     "name": "stdout",
     "output_type": "stream",
     "text": [
      "Provide values for row 0.\n"
     ]
    },
    {
     "name": "stdin",
     "output_type": "stream",
     "text": [
      "Enter the element: 23\n",
      "Enter the element: 33\n",
      "Enter the element: 21\n",
      "Enter the element: 11\n"
     ]
    },
    {
     "name": "stdout",
     "output_type": "stream",
     "text": [
      "Provide values for row 1.\n"
     ]
    },
    {
     "name": "stdin",
     "output_type": "stream",
     "text": [
      "Enter the element: 16\n",
      "Enter the element: 54\n",
      "Enter the element: 34\n",
      "Enter the element: 77\n"
     ]
    },
    {
     "name": "stdout",
     "output_type": "stream",
     "text": [
      "Provide values for row 2.\n"
     ]
    },
    {
     "name": "stdin",
     "output_type": "stream",
     "text": [
      "Enter the element: 9\n",
      "Enter the element: 80\n",
      "Enter the element: 25\n",
      "Enter the element: 31\n"
     ]
    },
    {
     "name": "stdout",
     "output_type": "stream",
     "text": [
      "Final matrix created:\n",
      "[23, 33, 21, 11]\n",
      "[16, 54, 34, 77]\n",
      "[9, 80, 25, 31]\n"
     ]
    }
   ],
   "source": [
    "# Program to create a matrix by accepting input from console\n",
    "matrix =[]\n",
    "print(\"Enter the number of rows:\")\n",
    "rows = int(input())\n",
    "print(\"Enter the number of columns:\")\n",
    "cols = int(input())\n",
    "for i in range(rows):\n",
    "    row =[]\n",
    "    print(f\"Provide values for row {i}.\")\n",
    "    for j in range(cols):\n",
    "        val = int(input(\"Enter the element:\"))\n",
    "        row.append(val)\n",
    "    matrix.append(row)\n",
    "print(\"Final matrix created:\")\n",
    "for i in matrix:\n",
    "    print(i)"
   ]
  },
  {
   "cell_type": "code",
   "execution_count": 17,
   "id": "802d1232-58e1-4e33-837e-306a931dd557",
   "metadata": {},
   "outputs": [
    {
     "name": "stdin",
     "output_type": "stream",
     "text": [
      "How many integers 5\n"
     ]
    },
    {
     "name": "stdout",
     "output_type": "stream",
     "text": [
      "Enter 5 integers:\n"
     ]
    },
    {
     "name": "stdin",
     "output_type": "stream",
     "text": [
      " 46\n",
      " 9\n",
      " 80\n",
      " 12\n",
      " 34\n"
     ]
    },
    {
     "name": "stdout",
     "output_type": "stream",
     "text": [
      "Integer list : [46, 9, 80, 12, 34]\n",
      "Total = 181\n",
      "Contribution of each element against total value:\n",
      "46 -> 25.41\n",
      "9 -> 4.97\n",
      "80 -> 44.2\n",
      "12 -> 6.63\n",
      "34 -> 18.78\n"
     ]
    }
   ],
   "source": [
    "# Program to accept N integers into a list , find the total , and print the percentage value of each element against the total value\n",
    "\n",
    "n =int(input(\"How many integers\"))\n",
    "print(f\"Enter {n} integers:\")\n",
    "total = 0\n",
    "tlist = []\n",
    "i=1\n",
    "while i<=n:\n",
    "    val = int(input())\n",
    "    tlist.append(val)\n",
    "    total +=val\n",
    "    i+=1\n",
    "print(f\"Integer list : {tlist}\")\n",
    "print(f\"Total = {total}\")\n",
    "print(\"Contribution of each element against total value:\")\n",
    "for i in tlist:\n",
    "    percent = round(i/total*100,2)\n",
    "    print(f\"{i} -> {percent}\")\n"
   ]
  },
  {
   "cell_type": "code",
   "execution_count": 47,
   "id": "7a8fe414-4957-4f4a-b576-0d0295d25e09",
   "metadata": {},
   "outputs": [
    {
     "name": "stdin",
     "output_type": "stream",
     "text": [
      "How many values? 5\n",
      " 12\n",
      " 10\n",
      " 45\n",
      " 30\n",
      " 44\n"
     ]
    },
    {
     "name": "stdout",
     "output_type": "stream",
     "text": [
      "List of values:[12, 10, 45, 30, 44]\n",
      "Average of values = 28\n",
      "Elements of list that are equal or above the average, are: \n",
      "45\t30\t44\t"
     ]
    }
   ],
   "source": [
    "# Program to accept N values into a list , find the average value and display the elements of the list that equal or above the average.\n",
    "\n",
    "n = int(input(\"How many values?\"))\n",
    "nsum = avg = 0\n",
    "nlist = []\n",
    "for i in range(n):\n",
    "    val = int(input())\n",
    "    nlist.append(val)\n",
    "    nsum +=val\n",
    "avg = nsum//n\n",
    "print(f\"List of values:{nlist}\")\n",
    "print(f\"Average of values = {avg}\")\n",
    "print(\"Elements of list that are equal or above the average, are: \")\n",
    "for i in nlist:\n",
    "    if i >= avg:\n",
    "        print(i, end='\\t')    "
   ]
  },
  {
   "cell_type": "code",
   "execution_count": 23,
   "id": "67077079-6826-4b93-95b4-3617ef217b6b",
   "metadata": {},
   "outputs": [],
   "source": [
    "fruits = [\"orange\", \"apple\", \"pear\",\"mango\",\"kiwi\"]"
   ]
  },
  {
   "cell_type": "code",
   "execution_count": 25,
   "id": "1de337bc-2a70-45ab-b180-725abff899c2",
   "metadata": {},
   "outputs": [
    {
     "name": "stdout",
     "output_type": "stream",
     "text": [
      "Sorted elements of list: ['apple', 'kiwi', 'mango', 'orange', 'pear']\n"
     ]
    }
   ],
   "source": [
    "print(\"Sorted elements of list:\", sorted(fruits))"
   ]
  },
  {
   "cell_type": "code",
   "execution_count": 27,
   "id": "62a836d4-26c6-44de-9fe6-e27c33138f17",
   "metadata": {},
   "outputs": [
    {
     "name": "stdout",
     "output_type": "stream",
     "text": [
      "Sorted list by length of each string: ['pear', 'kiwi', 'apple', 'mango', 'orange']\n"
     ]
    }
   ],
   "source": [
    "# sorts the list based on the length of each string\n",
    "new = sorted(fruits, key =len)\n",
    "print('Sorted list by length of each string:', new)"
   ]
  },
  {
   "cell_type": "code",
   "execution_count": null,
   "id": "8b918f3e-9062-46c7-9d34-16b427931268",
   "metadata": {},
   "outputs": [],
   "source": []
  }
 ],
 "metadata": {
  "kernelspec": {
   "display_name": "Python 3 (ipykernel)",
   "language": "python",
   "name": "python3"
  },
  "language_info": {
   "codemirror_mode": {
    "name": "ipython",
    "version": 3
   },
   "file_extension": ".py",
   "mimetype": "text/x-python",
   "name": "python",
   "nbconvert_exporter": "python",
   "pygments_lexer": "ipython3",
   "version": "3.12.4"
  }
 },
 "nbformat": 4,
 "nbformat_minor": 5
}
