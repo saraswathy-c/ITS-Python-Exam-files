{
 "cells": [
  {
   "cell_type": "markdown",
   "id": "a387456a-17c7-4588-bf4c-937bde9a6e08",
   "metadata": {},
   "source": [
    "**Exceptions:-**  \n",
    "Exceptions are runtime errors , that can lead to abnormal program termination.  \n",
    "Exceptions happens due to the issues associated with external resources and cannot be solved by the developer.  \n",
    "Python provides several exception handlers to overcome this issue and avoid abnormal termination of the program.  \n",
    "\n",
    "\n",
    "Exceptions are raised when some internal events occur which change the normal flow of the program.  \n",
    "**Built-in Python exceptions** : - SyntaxError, NameError, IndexError, TypeError, KeyError, ValueError, Attribute Error, IOError, ImportError, ZeroDivisionError.  \n",
    "Exceptions are raised when the program is syntactically correct, but the code results in an error. This error does not stop the execution of the program, however, it changes the normal flow of the program.  \n",
    "**A try statement can have more than one except clause, to specify handlers for different exceptions.** Please note that at most one handler will be executed.  \n",
    "In Python, you can also use the **else** clause on the try-except block which must be present after all the except clauses. The code enters the else block only if the try clause does not raise an exception.  \n",
    "Python provides a keyword **finally**, which is always executed after the try and except blocks. The code within the finally block is always executed.  \n",
    "The **raise** statement allows the programmer to force a specific exception to occur. The sole argument in raise indicates the exception to be raised. This must be either an exception instance or an exception class (a class that derives from Exception).\n",
    "\n",
    "Defining Exception Handler:  \n",
    "Option-1:  \n",
    "try:  \n",
    "    statments ...  \n",
    "    statments ....  \n",
    "except:  \n",
    "    statments ...  \n",
    "finally:  \n",
    "    statments  \n",
    "\n",
    "\n",
    "Option-2:  \n",
    "\n",
    "try:  \n",
    "    statements...  \n",
    "    statements...  \n",
    "except:  \n",
    "    statments...  \n",
    "else:  \n",
    "    statments "
   ]
  },
  {
   "cell_type": "code",
   "execution_count": 3,
   "id": "e81b853a-4ef4-4e70-a48b-435aead20d90",
   "metadata": {},
   "outputs": [
    {
     "name": "stdin",
     "output_type": "stream",
     "text": [
      "First Number: hello\n"
     ]
    },
    {
     "name": "stdout",
     "output_type": "stream",
     "text": [
      "Non numeric data, cannot process...\n",
      "Thank you\n"
     ]
    }
   ],
   "source": [
    "# Program to add two numbers , accept the numbers from the console\n",
    "\n",
    "try:\n",
    "    n1=float(input(\"First Number:\"))\n",
    "    n2=float(input(\"Second Number:\"))\n",
    "    sum=n1+n2\n",
    "    print(\"Sum of {} and {} is {}\".format(n1,n2,sum))\n",
    "except ValueError:\n",
    "    print(\"Non numeric data, cannot process...\")\n",
    "finally:\n",
    "    print(\"Thank you\")"
   ]
  },
  {
   "cell_type": "code",
   "execution_count": 9,
   "id": "41f8b878-d4df-4c71-aa80-e462ff47cc30",
   "metadata": {},
   "outputs": [
    {
     "name": "stdin",
     "output_type": "stream",
     "text": [
      "Enter length of sides: 12\n",
      "Enter breadth of sides: 4\n"
     ]
    },
    {
     "name": "stdout",
     "output_type": "stream",
     "text": [
      "Area and perimeter of the rectangle is 48.0 and 32.0 respectively.\n"
     ]
    }
   ],
   "source": [
    "# Program to find the area and perimeter of a rectangle. use exception handlers to handle non-numeric data\n",
    "try:\n",
    "    a = float(input(\"Enter length of sides:\"))\n",
    "    b = float(input(\"Enter breadth of sides:\"))\n",
    "except ValueError:\n",
    "    print(\"Non-numeric data...Pls provide valid inputs! \")\n",
    "else:\n",
    "    area = a*b\n",
    "    perimeter = 2 * (a+b)\n",
    "    print(\"Area and perimeter of the rectangle is {} and {} respectively.\".format(area, perimeter))"
   ]
  },
  {
   "cell_type": "code",
   "execution_count": 19,
   "id": "bf5e155a-6b3f-4b03-b5d5-304f8b739d0a",
   "metadata": {},
   "outputs": [
    {
     "name": "stdout",
     "output_type": "stream",
     "text": [
      "Non-numeric data enetered!\n"
     ]
    }
   ],
   "source": [
    "# Program to find the volume of a box, length and breadth, height must be accepted from the console. \n",
    "# Run from Ananconda cmd prompt, after saving it as a Python file.\n",
    "\n",
    "import sys\n",
    "try:\n",
    "    volume = float(sys.argv[1]) * float(sys.argv[2]) * float(sys.argv[3]) \n",
    "    print(\"Volume = \", volume)\n",
    "except ValueError:\n",
    "    print(\"Non-numeric data enetered!\")\n",
    "except IndexError:\n",
    "    print(\"Too few arguments..!!\")"
   ]
  },
  {
   "cell_type": "code",
   "execution_count": 39,
   "id": "66da9cbe-1599-4f4c-887b-bb64850b4062",
   "metadata": {},
   "outputs": [
    {
     "name": "stdin",
     "output_type": "stream",
     "text": [
      "Enter first marks: 33\n",
      "Enter second marks: -100\n",
      "Enter third marks: 23\n"
     ]
    },
    {
     "name": "stdout",
     "output_type": "stream",
     "text": [
      "Mark(s) are invalid or out of range!!\n",
      "\n",
      "<class 'ValueError'>\n"
     ]
    }
   ],
   "source": [
    "'''\n",
    "Program to accept name and the marks in 3 subjects for a student , calculate the total marks and result\n",
    "if total >=120 and marks in each subject >= 35 then result is \"Passed\" otherwise \"Failed\"\n",
    "Ensure the marks are between 0 and 100 , otherwise , show an error message \"Mark(s) are invalid or out of range!!\" , otherwise print the total and\n",
    "result\n",
    "'''\n",
    "total =0\n",
    "try:\n",
    "    m1 = int(input(\"Enter first marks:\"))\n",
    "    m2 = int(input(\"Enter second marks:\"))\n",
    "    m3 = int(input(\"Enter third marks:\"))\n",
    "    if m1<0 or m2<0 or m3<0 or m1>100 or m2>100 or m3>100:\n",
    "        raise ValueError\n",
    "    else:\n",
    "        total = m1+m2+m3\n",
    "        if total<120 or m1<35 or m2<35 or m3<35:\n",
    "            result=\"Failed\"\n",
    "        else:\n",
    "            result=\"Passed\"\n",
    "        print(\"Total marks are {} and You have {}\".format(total,result))    \n",
    "except ValueError as e:\n",
    "    print(\"Mark(s) are invalid or out of range!!\")\n",
    "    print(e)\n",
    "    print(type(e))"
   ]
  },
  {
   "cell_type": "code",
   "execution_count": 41,
   "id": "8ecbb38e-428a-425c-9a19-e9c5580a17eb",
   "metadata": {},
   "outputs": [
    {
     "name": "stdin",
     "output_type": "stream",
     "text": [
      "Enter first marks: 33\n",
      "Enter second marks: -100\n"
     ]
    },
    {
     "name": "stdout",
     "output_type": "stream",
     "text": [
      "Mark(s) are invalid or out of range!!\n"
     ]
    }
   ],
   "source": [
    "'''\n",
    "Program to accept name and the marks in 3 subjects for a student , calculate the total marks and result\n",
    "if total >=120 and marks in each subject >= 35 then result is \"Passed\" otherwise \"Failed\"\n",
    "Ensure the marks are between 0 and 100 , otherwise , show an error message \"Mark(s) are invalid or out of range!!\" , otherwise print the total and\n",
    "result.\n",
    "Modifying above program so that when a negative mark is entered, there itself an exception is raised!\n",
    "'''\n",
    "total =0\n",
    "try:\n",
    "    m1 = int(input(\"Enter first marks:\"))\n",
    "    if m1<0 or m1>100:\n",
    "        raise ValueError\n",
    "    m2 = int(input(\"Enter second marks:\"))\n",
    "    if m2<0 or m2>100:\n",
    "        raise ValueError\n",
    "    m3 = int(input(\"Enter third marks:\"))\n",
    "    if m3<0 or m3>100:\n",
    "        raise ValueError\n",
    "    total = m1+m2+m3\n",
    "    if total<120 or m1<35 or m2<35 or m3<35:\n",
    "        result=\"Failed\"\n",
    "    else:\n",
    "        result=\"Passed\"\n",
    "    print(\"Total marks are {} and You have {}\".format(total,result))    \n",
    "except ValueError as e:\n",
    "    print(\"Mark(s) are invalid or out of range!!\")"
   ]
  },
  {
   "cell_type": "markdown",
   "id": "62ec88a4-e169-4ddd-b8a5-94eadd27b59a",
   "metadata": {},
   "source": [
    "**The code os.listdir(\"..\") lists all files and directories in the parent directory of the current working directory.**  \n",
    "\n",
    "Explanation  \n",
    "\".\" represents the current directory.  \n",
    "\"..\" represents the parent directory (one level up from the current directory).  \n",
    "So, os.listdir(\"..\") will return a list of all items (files and directories) in the directory that is one level above the current working directory.  "
   ]
  },
  {
   "cell_type": "code",
   "execution_count": 49,
   "id": "d661cd5e-ef16-4cd5-8c8f-23f40b3e9119",
   "metadata": {},
   "outputs": [
    {
     "data": {
      "text/plain": [
       "['.ipynb_checkpoints',\n",
       " 'Blue Geometric Technology LinkedIn Banner (1).png',\n",
       " 'Coursera',\n",
       " 'Excel',\n",
       " 'Hadoop.pptx',\n",
       " 'Interview',\n",
       " 'Interview Qns_TechTip.txt',\n",
       " 'Jupyter noteboooks',\n",
       " 'Man Horz Python',\n",
       " 'Maven',\n",
       " 'PL300',\n",
       " 'PowerBI-MST_BI_31_AUG_2023_C_CERTIFICATE__13972.pdf',\n",
       " 'Python-for-Data-Analysis.pptx',\n",
       " 'Python4HPC.pptx',\n",
       " 'resume chatgpt.docx',\n",
       " 'SARASWATHY_C_263406.pdf',\n",
       " 'SQL',\n",
       " 'SQL DAtaCleaning notes.txt',\n",
       " 'Udemy',\n",
       " 'Udemy Python',\n",
       " '~$sume chatgpt.docx',\n",
       " '~WRL1457.tmp']"
      ]
     },
     "execution_count": 49,
     "metadata": {},
     "output_type": "execute_result"
    }
   ],
   "source": [
    "import os\n",
    "os.listdir(\"..\")     #return as list , all files and sub-dir in parent dir of current working dir"
   ]
  },
  {
   "cell_type": "code",
   "execution_count": 51,
   "id": "ac38e0a1-08eb-44dc-8b94-880e89c1804b",
   "metadata": {},
   "outputs": [
    {
     "data": {
      "text/plain": [
       "['.ipynb_checkpoints',\n",
       " 'ContrlStmt.ipynb',\n",
       " 'Dictionary.ipynb',\n",
       " 'exception1.py',\n",
       " 'exception2.py',\n",
       " 'exception3.py',\n",
       " 'Exceptions.ipynb',\n",
       " 'its-od-303-python-pearson.pdf',\n",
       " 'Lists.ipynb',\n",
       " 'os1.py',\n",
       " 'prgms sir',\n",
       " 'Strings.ipynb',\n",
       " 'test',\n",
       " 'Tuples.ipynb',\n",
       " 'Untitled1.ipynb']"
      ]
     },
     "execution_count": 51,
     "metadata": {},
     "output_type": "execute_result"
    }
   ],
   "source": [
    "import os\n",
    "os.listdir(\".\")   # returns as list, all files and sub-dir in current dir"
   ]
  },
  {
   "cell_type": "code",
   "execution_count": 54,
   "id": "e63fefe6-74af-441d-9344-d51230415b15",
   "metadata": {},
   "outputs": [
    {
     "name": "stdout",
     "output_type": "stream",
     "text": [
      "620\n"
     ]
    }
   ],
   "source": [
    "print(os.path.getsize(\"os1.py\"))"
   ]
  },
  {
   "cell_type": "code",
   "execution_count": 56,
   "id": "28724000-6723-4db1-b682-5ae1c41943f8",
   "metadata": {},
   "outputs": [
    {
     "name": "stdout",
     "output_type": "stream",
     "text": [
      "C:\\Users\\saras\\Personal Sara\\Saraswathy\\Work learnings\\Man Horz Python\n"
     ]
    }
   ],
   "source": [
    "print(os.getcwd())"
   ]
  },
  {
   "cell_type": "code",
   "execution_count": 58,
   "id": "e44980ef-0b23-49c5-a78a-d84c23d8d458",
   "metadata": {},
   "outputs": [
    {
     "data": {
      "text/plain": [
       "'C:\\\\Users\\\\saras\\\\Personal Sara\\\\Saraswathy\\\\Work learnings\\\\Man Horz Python'"
      ]
     },
     "execution_count": 58,
     "metadata": {},
     "output_type": "execute_result"
    }
   ],
   "source": [
    "os.getcwd()"
   ]
  },
  {
   "cell_type": "code",
   "execution_count": 66,
   "id": "9b9babd4-5d0e-43d0-93be-695e830d8d59",
   "metadata": {},
   "outputs": [
    {
     "name": "stdout",
     "output_type": "stream",
     "text": [
      ".\n"
     ]
    }
   ],
   "source": [
    "#The statement print(os.path.curdir) will print the current directory symbol used by the operating system.\n",
    "print(os.path.curdir)"
   ]
  },
  {
   "cell_type": "code",
   "execution_count": 72,
   "id": "7ad1d188-295e-4182-92b2-62897c514c15",
   "metadata": {},
   "outputs": [
    {
     "name": "stdout",
     "output_type": "stream",
     "text": [
      "Relative path: text.txt\n"
     ]
    }
   ],
   "source": [
    "relative_path = os.path.relpath(\"text.txt\", os.getcwd())\n",
    "print(\"Relative path:\", relative_path)\n"
   ]
  },
  {
   "cell_type": "code",
   "execution_count": 82,
   "id": "aa5531d5-5430-4792-93cd-e729ac442d7a",
   "metadata": {},
   "outputs": [
    {
     "name": "stdout",
     "output_type": "stream",
     "text": [
      "Relative path: Man Horz Python\\documents\\text.txt\n"
     ]
    }
   ],
   "source": [
    "relative_path = os.path.join(\"Man Horz Python\", \"documents\", \"text.txt\")  # main folder, subfolder, target file\n",
    "print(\"Relative path:\", relative_path)"
   ]
  },
  {
   "cell_type": "code",
   "execution_count": 84,
   "id": "b284a5c7-c748-4e15-8c6e-674f2811b565",
   "metadata": {},
   "outputs": [
    {
     "name": "stdout",
     "output_type": "stream",
     "text": [
      "Relative path: ..\\Links.docx\n"
     ]
    },
    {
     "data": {
      "text/plain": [
       "'C:\\\\Users\\\\saras\\\\Personal Sara\\\\Saraswathy\\\\Work learnings\\\\Interview'"
      ]
     },
     "execution_count": 84,
     "metadata": {},
     "output_type": "execute_result"
    }
   ],
   "source": [
    "# Going up one level\n",
    "os.chdir(\"C:/Users/saras/Personal Sara/Saraswathy/Work learnings/Interview\")\n",
    "relative_path = os.path.join(\"..\", \"Links.docx\")\n",
    "print(\"Relative path:\", relative_path)\n",
    "os.getcwd()"
   ]
  },
  {
   "cell_type": "code",
   "execution_count": null,
   "id": "e1d72881-42a1-4fc0-84d3-f1bca887a212",
   "metadata": {},
   "outputs": [],
   "source": []
  }
 ],
 "metadata": {
  "kernelspec": {
   "display_name": "Python 3 (ipykernel)",
   "language": "python",
   "name": "python3"
  },
  "language_info": {
   "codemirror_mode": {
    "name": "ipython",
    "version": 3
   },
   "file_extension": ".py",
   "mimetype": "text/x-python",
   "name": "python",
   "nbconvert_exporter": "python",
   "pygments_lexer": "ipython3",
   "version": "3.12.4"
  }
 },
 "nbformat": 4,
 "nbformat_minor": 5
}
