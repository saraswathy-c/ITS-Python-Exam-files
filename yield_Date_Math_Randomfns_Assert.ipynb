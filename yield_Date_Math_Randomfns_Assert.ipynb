{
 "cells": [
  {
   "cell_type": "markdown",
   "id": "74f43bc1-6e48-4653-bd55-e90ead4915ff",
   "metadata": {},
   "source": [
    "Built-in functions in Python"
   ]
  },
  {
   "cell_type": "code",
   "execution_count": 1,
   "id": "51116a39-2658-4f9d-8c16-8e0ffe97deec",
   "metadata": {},
   "outputs": [
    {
     "name": "stdout",
     "output_type": "stream",
     "text": [
      "339\n"
     ]
    }
   ],
   "source": [
    "marks = [65, 71, 68, 74, 61]\n",
    "\n",
    "# find sum of all marks\n",
    "total_marks = sum(marks)\n",
    "print(total_marks)\n",
    "\n",
    "# Output: 339"
   ]
  },
  {
   "cell_type": "code",
   "execution_count": 3,
   "id": "e4c561da-620b-47b6-8429-0bb56b0b9724",
   "metadata": {},
   "outputs": [
    {
     "name": "stdout",
     "output_type": "stream",
     "text": [
      "Sorted list: [80, 77, 53, 45, 23.56, 6]\n",
      "Sum : 284.56\n"
     ]
    }
   ],
   "source": [
    "# Sort in Desc order\n",
    "\n",
    "num = [23.56,77, 80,6, 45, 53]\n",
    "\n",
    "sort_list = sorted(num, reverse =True)\n",
    "print('Sorted list:', sort_list)\n",
    "total = sum(num)\n",
    "print('Sum :' , total)"
   ]
  },
  {
   "cell_type": "code",
   "execution_count": 5,
   "id": "f250a659-77d5-49c5-a7a3-3e6986c51a21",
   "metadata": {},
   "outputs": [
    {
     "name": "stdout",
     "output_type": "stream",
     "text": [
      "<class 'list'>\n"
     ]
    }
   ],
   "source": [
    "prime_numbers = [2, 3, 5, 7]\n",
    "\n",
    "# check type of prime_numbers\n",
    "result = type(prime_numbers)\n",
    "print(result)"
   ]
  },
  {
   "cell_type": "code",
   "execution_count": 7,
   "id": "0de9bc7a-6917-4b3d-98da-a7225e1f14b3",
   "metadata": {},
   "outputs": [
    {
     "name": "stdout",
     "output_type": "stream",
     "text": [
      "{'__name__': '__main__', '__doc__': 'Automatically created module for IPython interactive environment', '__package__': None, '__loader__': None, '__spec__': None, '__builtin__': <module 'builtins' (built-in)>, '__builtins__': <module 'builtins' (built-in)>, '_ih': ['', 'marks = [65, 71, 68, 74, 61]\\n\\n# find sum of all marks\\ntotal_marks = sum(marks)\\nprint(total_marks)\\n\\n# Output: 339', 'import json\\nimport getpass\\nimport hashlib\\n\\ndef import_pandas_safely():\\n    try:\\n        return __import__(\\'pandas\\')\\n    except ImportError:\\n        return False\\n\\n\\n__pandas = import_pandas_safely()\\n\\n\\ndef is_data_frame(v: str):\\n    obj = eval(v)\\n    if  isinstance(obj, __pandas.core.frame.DataFrame) or isinstance(obj, __pandas.core.series.Series):\\n        return True\\n\\n\\ndef dataframe_columns(var):\\n    df = eval(var)\\n    if isinstance(df, __pandas.core.series.Series):\\n        return [[df.name, str(df.dtype)]]\\n    return list(map(lambda col: [col, str(df[col].dtype)], df.columns))\\n\\n\\ndef dtypes_str(frame):\\n    return str(eval(frame).dtypes)\\n\\ndef dataframe_hash(var):\\n    # Return a hash including the column names and number of rows\\n    df = eval(var)\\n    if isinstance(df, __pandas.core.series.Series):\\n        return hashlib.sha256(f\"{var}-{df.name},{len(df)}\".encode(\\'utf-8\\')).hexdigest()\\n    return hashlib.sha256(f\"{var}-{\\',\\'.join(df.columns)},{len(df)}\".encode(\\'utf-8\\')).hexdigest()\\n\\ndef get_dataframes():\\n    if __pandas is None:\\n        return []\\n    user = getpass.getuser()\\n    values = get_ipython().run_line_magic(\\'who_ls\\', \\'\\')\\n    dataframes = [\\n        {\\n            \"name\": var,\\n            \"type\": type(eval(var)).__name__,\\n            \"hash\": dataframe_hash(var),\\n            \"cols\": dataframe_columns(var),\\n            \"dtypesStr\": dtypes_str(var),\\n        }\\n        for var in values if is_data_frame(var)\\n    ]\\n    result = {\"dataframes\": dataframes, \"user\": user}\\n    return json.dumps(result, ensure_ascii=False)\\n\\n\\nget_dataframes()', \"# Sort in Desc order\\n\\nnum = [23.56,77, 80,6, 45, 53]\\n\\nsort_list = sorted(num, reverse =True)\\nprint('Sorted list:', sort_list)\\ntotal = sum(num)\\nprint('Sum :' , total)\", 'import json\\nimport getpass\\nimport hashlib\\n\\ndef import_pandas_safely():\\n    try:\\n        return __import__(\\'pandas\\')\\n    except ImportError:\\n        return False\\n\\n\\n__pandas = import_pandas_safely()\\n\\n\\ndef is_data_frame(v: str):\\n    obj = eval(v)\\n    if  isinstance(obj, __pandas.core.frame.DataFrame) or isinstance(obj, __pandas.core.series.Series):\\n        return True\\n\\n\\ndef dataframe_columns(var):\\n    df = eval(var)\\n    if isinstance(df, __pandas.core.series.Series):\\n        return [[df.name, str(df.dtype)]]\\n    return list(map(lambda col: [col, str(df[col].dtype)], df.columns))\\n\\n\\ndef dtypes_str(frame):\\n    return str(eval(frame).dtypes)\\n\\ndef dataframe_hash(var):\\n    # Return a hash including the column names and number of rows\\n    df = eval(var)\\n    if isinstance(df, __pandas.core.series.Series):\\n        return hashlib.sha256(f\"{var}-{df.name},{len(df)}\".encode(\\'utf-8\\')).hexdigest()\\n    return hashlib.sha256(f\"{var}-{\\',\\'.join(df.columns)},{len(df)}\".encode(\\'utf-8\\')).hexdigest()\\n\\ndef get_dataframes():\\n    if __pandas is None:\\n        return []\\n    user = getpass.getuser()\\n    values = get_ipython().run_line_magic(\\'who_ls\\', \\'\\')\\n    dataframes = [\\n        {\\n            \"name\": var,\\n            \"type\": type(eval(var)).__name__,\\n            \"hash\": dataframe_hash(var),\\n            \"cols\": dataframe_columns(var),\\n            \"dtypesStr\": dtypes_str(var),\\n        }\\n        for var in values if is_data_frame(var)\\n    ]\\n    result = {\"dataframes\": dataframes, \"user\": user}\\n    return json.dumps(result, ensure_ascii=False)\\n\\n\\nget_dataframes()', 'prime_numbers = [2, 3, 5, 7]\\n\\n# check type of prime_numbers\\nresult = type(prime_numbers)\\nprint(result)', 'import json\\nimport getpass\\nimport hashlib\\n\\ndef import_pandas_safely():\\n    try:\\n        return __import__(\\'pandas\\')\\n    except ImportError:\\n        return False\\n\\n\\n__pandas = import_pandas_safely()\\n\\n\\ndef is_data_frame(v: str):\\n    obj = eval(v)\\n    if  isinstance(obj, __pandas.core.frame.DataFrame) or isinstance(obj, __pandas.core.series.Series):\\n        return True\\n\\n\\ndef dataframe_columns(var):\\n    df = eval(var)\\n    if isinstance(df, __pandas.core.series.Series):\\n        return [[df.name, str(df.dtype)]]\\n    return list(map(lambda col: [col, str(df[col].dtype)], df.columns))\\n\\n\\ndef dtypes_str(frame):\\n    return str(eval(frame).dtypes)\\n\\ndef dataframe_hash(var):\\n    # Return a hash including the column names and number of rows\\n    df = eval(var)\\n    if isinstance(df, __pandas.core.series.Series):\\n        return hashlib.sha256(f\"{var}-{df.name},{len(df)}\".encode(\\'utf-8\\')).hexdigest()\\n    return hashlib.sha256(f\"{var}-{\\',\\'.join(df.columns)},{len(df)}\".encode(\\'utf-8\\')).hexdigest()\\n\\ndef get_dataframes():\\n    if __pandas is None:\\n        return []\\n    user = getpass.getuser()\\n    values = get_ipython().run_line_magic(\\'who_ls\\', \\'\\')\\n    dataframes = [\\n        {\\n            \"name\": var,\\n            \"type\": type(eval(var)).__name__,\\n            \"hash\": dataframe_hash(var),\\n            \"cols\": dataframe_columns(var),\\n            \"dtypesStr\": dtypes_str(var),\\n        }\\n        for var in values if is_data_frame(var)\\n    ]\\n    result = {\"dataframes\": dataframes, \"user\": user}\\n    return json.dumps(result, ensure_ascii=False)\\n\\n\\nget_dataframes()', '# vars() with no argument\\nprint (vars())\\n\\n# returns __dict__  of a dictionary object\\nprint(vars(dict))'], '_oh': {2: '{\"dataframes\": [], \"user\": \"saras\"}', 4: '{\"dataframes\": [], \"user\": \"saras\"}', 6: '{\"dataframes\": [], \"user\": \"saras\"}'}, '_dh': [WindowsPath('C:/Users/saras')], 'In': ['', 'marks = [65, 71, 68, 74, 61]\\n\\n# find sum of all marks\\ntotal_marks = sum(marks)\\nprint(total_marks)\\n\\n# Output: 339', 'import json\\nimport getpass\\nimport hashlib\\n\\ndef import_pandas_safely():\\n    try:\\n        return __import__(\\'pandas\\')\\n    except ImportError:\\n        return False\\n\\n\\n__pandas = import_pandas_safely()\\n\\n\\ndef is_data_frame(v: str):\\n    obj = eval(v)\\n    if  isinstance(obj, __pandas.core.frame.DataFrame) or isinstance(obj, __pandas.core.series.Series):\\n        return True\\n\\n\\ndef dataframe_columns(var):\\n    df = eval(var)\\n    if isinstance(df, __pandas.core.series.Series):\\n        return [[df.name, str(df.dtype)]]\\n    return list(map(lambda col: [col, str(df[col].dtype)], df.columns))\\n\\n\\ndef dtypes_str(frame):\\n    return str(eval(frame).dtypes)\\n\\ndef dataframe_hash(var):\\n    # Return a hash including the column names and number of rows\\n    df = eval(var)\\n    if isinstance(df, __pandas.core.series.Series):\\n        return hashlib.sha256(f\"{var}-{df.name},{len(df)}\".encode(\\'utf-8\\')).hexdigest()\\n    return hashlib.sha256(f\"{var}-{\\',\\'.join(df.columns)},{len(df)}\".encode(\\'utf-8\\')).hexdigest()\\n\\ndef get_dataframes():\\n    if __pandas is None:\\n        return []\\n    user = getpass.getuser()\\n    values = get_ipython().run_line_magic(\\'who_ls\\', \\'\\')\\n    dataframes = [\\n        {\\n            \"name\": var,\\n            \"type\": type(eval(var)).__name__,\\n            \"hash\": dataframe_hash(var),\\n            \"cols\": dataframe_columns(var),\\n            \"dtypesStr\": dtypes_str(var),\\n        }\\n        for var in values if is_data_frame(var)\\n    ]\\n    result = {\"dataframes\": dataframes, \"user\": user}\\n    return json.dumps(result, ensure_ascii=False)\\n\\n\\nget_dataframes()', \"# Sort in Desc order\\n\\nnum = [23.56,77, 80,6, 45, 53]\\n\\nsort_list = sorted(num, reverse =True)\\nprint('Sorted list:', sort_list)\\ntotal = sum(num)\\nprint('Sum :' , total)\", 'import json\\nimport getpass\\nimport hashlib\\n\\ndef import_pandas_safely():\\n    try:\\n        return __import__(\\'pandas\\')\\n    except ImportError:\\n        return False\\n\\n\\n__pandas = import_pandas_safely()\\n\\n\\ndef is_data_frame(v: str):\\n    obj = eval(v)\\n    if  isinstance(obj, __pandas.core.frame.DataFrame) or isinstance(obj, __pandas.core.series.Series):\\n        return True\\n\\n\\ndef dataframe_columns(var):\\n    df = eval(var)\\n    if isinstance(df, __pandas.core.series.Series):\\n        return [[df.name, str(df.dtype)]]\\n    return list(map(lambda col: [col, str(df[col].dtype)], df.columns))\\n\\n\\ndef dtypes_str(frame):\\n    return str(eval(frame).dtypes)\\n\\ndef dataframe_hash(var):\\n    # Return a hash including the column names and number of rows\\n    df = eval(var)\\n    if isinstance(df, __pandas.core.series.Series):\\n        return hashlib.sha256(f\"{var}-{df.name},{len(df)}\".encode(\\'utf-8\\')).hexdigest()\\n    return hashlib.sha256(f\"{var}-{\\',\\'.join(df.columns)},{len(df)}\".encode(\\'utf-8\\')).hexdigest()\\n\\ndef get_dataframes():\\n    if __pandas is None:\\n        return []\\n    user = getpass.getuser()\\n    values = get_ipython().run_line_magic(\\'who_ls\\', \\'\\')\\n    dataframes = [\\n        {\\n            \"name\": var,\\n            \"type\": type(eval(var)).__name__,\\n            \"hash\": dataframe_hash(var),\\n            \"cols\": dataframe_columns(var),\\n            \"dtypesStr\": dtypes_str(var),\\n        }\\n        for var in values if is_data_frame(var)\\n    ]\\n    result = {\"dataframes\": dataframes, \"user\": user}\\n    return json.dumps(result, ensure_ascii=False)\\n\\n\\nget_dataframes()', 'prime_numbers = [2, 3, 5, 7]\\n\\n# check type of prime_numbers\\nresult = type(prime_numbers)\\nprint(result)', 'import json\\nimport getpass\\nimport hashlib\\n\\ndef import_pandas_safely():\\n    try:\\n        return __import__(\\'pandas\\')\\n    except ImportError:\\n        return False\\n\\n\\n__pandas = import_pandas_safely()\\n\\n\\ndef is_data_frame(v: str):\\n    obj = eval(v)\\n    if  isinstance(obj, __pandas.core.frame.DataFrame) or isinstance(obj, __pandas.core.series.Series):\\n        return True\\n\\n\\ndef dataframe_columns(var):\\n    df = eval(var)\\n    if isinstance(df, __pandas.core.series.Series):\\n        return [[df.name, str(df.dtype)]]\\n    return list(map(lambda col: [col, str(df[col].dtype)], df.columns))\\n\\n\\ndef dtypes_str(frame):\\n    return str(eval(frame).dtypes)\\n\\ndef dataframe_hash(var):\\n    # Return a hash including the column names and number of rows\\n    df = eval(var)\\n    if isinstance(df, __pandas.core.series.Series):\\n        return hashlib.sha256(f\"{var}-{df.name},{len(df)}\".encode(\\'utf-8\\')).hexdigest()\\n    return hashlib.sha256(f\"{var}-{\\',\\'.join(df.columns)},{len(df)}\".encode(\\'utf-8\\')).hexdigest()\\n\\ndef get_dataframes():\\n    if __pandas is None:\\n        return []\\n    user = getpass.getuser()\\n    values = get_ipython().run_line_magic(\\'who_ls\\', \\'\\')\\n    dataframes = [\\n        {\\n            \"name\": var,\\n            \"type\": type(eval(var)).__name__,\\n            \"hash\": dataframe_hash(var),\\n            \"cols\": dataframe_columns(var),\\n            \"dtypesStr\": dtypes_str(var),\\n        }\\n        for var in values if is_data_frame(var)\\n    ]\\n    result = {\"dataframes\": dataframes, \"user\": user}\\n    return json.dumps(result, ensure_ascii=False)\\n\\n\\nget_dataframes()', '# vars() with no argument\\nprint (vars())\\n\\n# returns __dict__  of a dictionary object\\nprint(vars(dict))'], 'Out': {2: '{\"dataframes\": [], \"user\": \"saras\"}', 4: '{\"dataframes\": [], \"user\": \"saras\"}', 6: '{\"dataframes\": [], \"user\": \"saras\"}'}, 'get_ipython': <bound method InteractiveShell.get_ipython of <ipykernel.zmqshell.ZMQInteractiveShell object at 0x00000145DA555C40>>, 'exit': <IPython.core.autocall.ZMQExitAutocall object at 0x00000145DA5A1BB0>, 'quit': <IPython.core.autocall.ZMQExitAutocall object at 0x00000145DA5A1BB0>, 'open': <function open at 0x00000145D820F6A0>, '_': '{\"dataframes\": [], \"user\": \"saras\"}', '__': '{\"dataframes\": [], \"user\": \"saras\"}', '___': '{\"dataframes\": [], \"user\": \"saras\"}', '__session__': 'C:\\\\Users\\\\saras\\\\Untitled1.ipynb', '_i': '\\nimport json\\nimport getpass\\nimport hashlib\\n\\ndef import_pandas_safely():\\n    try:\\n        return __import__(\\'pandas\\')\\n    except ImportError:\\n        return False\\n\\n\\n__pandas = import_pandas_safely()\\n\\n\\ndef is_data_frame(v: str):\\n    obj = eval(v)\\n    if  isinstance(obj, __pandas.core.frame.DataFrame) or isinstance(obj, __pandas.core.series.Series):\\n        return True\\n\\n\\ndef dataframe_columns(var):\\n    df = eval(var)\\n    if isinstance(df, __pandas.core.series.Series):\\n        return [[df.name, str(df.dtype)]]\\n    return list(map(lambda col: [col, str(df[col].dtype)], df.columns))\\n\\n\\ndef dtypes_str(frame):\\n    return str(eval(frame).dtypes)\\n\\ndef dataframe_hash(var):\\n    # Return a hash including the column names and number of rows\\n    df = eval(var)\\n    if isinstance(df, __pandas.core.series.Series):\\n        return hashlib.sha256(f\"{var}-{df.name},{len(df)}\".encode(\\'utf-8\\')).hexdigest()\\n    return hashlib.sha256(f\"{var}-{\\',\\'.join(df.columns)},{len(df)}\".encode(\\'utf-8\\')).hexdigest()\\n\\ndef get_dataframes():\\n    if __pandas is None:\\n        return []\\n    user = getpass.getuser()\\n    values = %who_ls\\n    dataframes = [\\n        {\\n            \"name\": var,\\n            \"type\": type(eval(var)).__name__,\\n            \"hash\": dataframe_hash(var),\\n            \"cols\": dataframe_columns(var),\\n            \"dtypesStr\": dtypes_str(var),\\n        }\\n        for var in values if is_data_frame(var)\\n    ]\\n    result = {\"dataframes\": dataframes, \"user\": user}\\n    return json.dumps(result, ensure_ascii=False)\\n\\n\\nget_dataframes()', '_ii': 'prime_numbers = [2, 3, 5, 7]\\n\\n# check type of prime_numbers\\nresult = type(prime_numbers)\\nprint(result)', '_iii': '\\nimport json\\nimport getpass\\nimport hashlib\\n\\ndef import_pandas_safely():\\n    try:\\n        return __import__(\\'pandas\\')\\n    except ImportError:\\n        return False\\n\\n\\n__pandas = import_pandas_safely()\\n\\n\\ndef is_data_frame(v: str):\\n    obj = eval(v)\\n    if  isinstance(obj, __pandas.core.frame.DataFrame) or isinstance(obj, __pandas.core.series.Series):\\n        return True\\n\\n\\ndef dataframe_columns(var):\\n    df = eval(var)\\n    if isinstance(df, __pandas.core.series.Series):\\n        return [[df.name, str(df.dtype)]]\\n    return list(map(lambda col: [col, str(df[col].dtype)], df.columns))\\n\\n\\ndef dtypes_str(frame):\\n    return str(eval(frame).dtypes)\\n\\ndef dataframe_hash(var):\\n    # Return a hash including the column names and number of rows\\n    df = eval(var)\\n    if isinstance(df, __pandas.core.series.Series):\\n        return hashlib.sha256(f\"{var}-{df.name},{len(df)}\".encode(\\'utf-8\\')).hexdigest()\\n    return hashlib.sha256(f\"{var}-{\\',\\'.join(df.columns)},{len(df)}\".encode(\\'utf-8\\')).hexdigest()\\n\\ndef get_dataframes():\\n    if __pandas is None:\\n        return []\\n    user = getpass.getuser()\\n    values = %who_ls\\n    dataframes = [\\n        {\\n            \"name\": var,\\n            \"type\": type(eval(var)).__name__,\\n            \"hash\": dataframe_hash(var),\\n            \"cols\": dataframe_columns(var),\\n            \"dtypesStr\": dtypes_str(var),\\n        }\\n        for var in values if is_data_frame(var)\\n    ]\\n    result = {\"dataframes\": dataframes, \"user\": user}\\n    return json.dumps(result, ensure_ascii=False)\\n\\n\\nget_dataframes()', '_i1': 'marks = [65, 71, 68, 74, 61]\\n\\n# find sum of all marks\\ntotal_marks = sum(marks)\\nprint(total_marks)\\n\\n# Output: 339', 'marks': [65, 71, 68, 74, 61], 'total_marks': 339, '_i2': '\\nimport json\\nimport getpass\\nimport hashlib\\n\\ndef import_pandas_safely():\\n    try:\\n        return __import__(\\'pandas\\')\\n    except ImportError:\\n        return False\\n\\n\\n__pandas = import_pandas_safely()\\n\\n\\ndef is_data_frame(v: str):\\n    obj = eval(v)\\n    if  isinstance(obj, __pandas.core.frame.DataFrame) or isinstance(obj, __pandas.core.series.Series):\\n        return True\\n\\n\\ndef dataframe_columns(var):\\n    df = eval(var)\\n    if isinstance(df, __pandas.core.series.Series):\\n        return [[df.name, str(df.dtype)]]\\n    return list(map(lambda col: [col, str(df[col].dtype)], df.columns))\\n\\n\\ndef dtypes_str(frame):\\n    return str(eval(frame).dtypes)\\n\\ndef dataframe_hash(var):\\n    # Return a hash including the column names and number of rows\\n    df = eval(var)\\n    if isinstance(df, __pandas.core.series.Series):\\n        return hashlib.sha256(f\"{var}-{df.name},{len(df)}\".encode(\\'utf-8\\')).hexdigest()\\n    return hashlib.sha256(f\"{var}-{\\',\\'.join(df.columns)},{len(df)}\".encode(\\'utf-8\\')).hexdigest()\\n\\ndef get_dataframes():\\n    if __pandas is None:\\n        return []\\n    user = getpass.getuser()\\n    values = %who_ls\\n    dataframes = [\\n        {\\n            \"name\": var,\\n            \"type\": type(eval(var)).__name__,\\n            \"hash\": dataframe_hash(var),\\n            \"cols\": dataframe_columns(var),\\n            \"dtypesStr\": dtypes_str(var),\\n        }\\n        for var in values if is_data_frame(var)\\n    ]\\n    result = {\"dataframes\": dataframes, \"user\": user}\\n    return json.dumps(result, ensure_ascii=False)\\n\\n\\nget_dataframes()', 'json': <module 'json' from 'C:\\\\Users\\\\saras\\\\anaconda3\\\\Lib\\\\json\\\\__init__.py'>, 'getpass': <module 'getpass' from 'C:\\\\Users\\\\saras\\\\anaconda3\\\\Lib\\\\getpass.py'>, 'hashlib': <module 'hashlib' from 'C:\\\\Users\\\\saras\\\\anaconda3\\\\Lib\\\\hashlib.py'>, 'import_pandas_safely': <function import_pandas_safely at 0x00000145DA5AF880>, '__pandas': <module 'pandas' from 'C:\\\\Users\\\\saras\\\\anaconda3\\\\Lib\\\\site-packages\\\\pandas\\\\__init__.py'>, 'is_data_frame': <function is_data_frame at 0x00000145DA5AEFC0>, 'dataframe_columns': <function dataframe_columns at 0x00000145DA5AFA60>, 'dtypes_str': <function dtypes_str at 0x00000145DA5AF9C0>, 'dataframe_hash': <function dataframe_hash at 0x00000145DA5AF740>, 'get_dataframes': <function get_dataframes at 0x00000145DA5AFB00>, '_2': '{\"dataframes\": [], \"user\": \"saras\"}', '_i3': \"# Sort in Desc order\\n\\nnum = [23.56,77, 80,6, 45, 53]\\n\\nsort_list = sorted(num, reverse =True)\\nprint('Sorted list:', sort_list)\\ntotal = sum(num)\\nprint('Sum :' , total)\", 'num': [23.56, 77, 80, 6, 45, 53], 'sort_list': [80, 77, 53, 45, 23.56, 6], 'total': 284.56, '_i4': '\\nimport json\\nimport getpass\\nimport hashlib\\n\\ndef import_pandas_safely():\\n    try:\\n        return __import__(\\'pandas\\')\\n    except ImportError:\\n        return False\\n\\n\\n__pandas = import_pandas_safely()\\n\\n\\ndef is_data_frame(v: str):\\n    obj = eval(v)\\n    if  isinstance(obj, __pandas.core.frame.DataFrame) or isinstance(obj, __pandas.core.series.Series):\\n        return True\\n\\n\\ndef dataframe_columns(var):\\n    df = eval(var)\\n    if isinstance(df, __pandas.core.series.Series):\\n        return [[df.name, str(df.dtype)]]\\n    return list(map(lambda col: [col, str(df[col].dtype)], df.columns))\\n\\n\\ndef dtypes_str(frame):\\n    return str(eval(frame).dtypes)\\n\\ndef dataframe_hash(var):\\n    # Return a hash including the column names and number of rows\\n    df = eval(var)\\n    if isinstance(df, __pandas.core.series.Series):\\n        return hashlib.sha256(f\"{var}-{df.name},{len(df)}\".encode(\\'utf-8\\')).hexdigest()\\n    return hashlib.sha256(f\"{var}-{\\',\\'.join(df.columns)},{len(df)}\".encode(\\'utf-8\\')).hexdigest()\\n\\ndef get_dataframes():\\n    if __pandas is None:\\n        return []\\n    user = getpass.getuser()\\n    values = %who_ls\\n    dataframes = [\\n        {\\n            \"name\": var,\\n            \"type\": type(eval(var)).__name__,\\n            \"hash\": dataframe_hash(var),\\n            \"cols\": dataframe_columns(var),\\n            \"dtypesStr\": dtypes_str(var),\\n        }\\n        for var in values if is_data_frame(var)\\n    ]\\n    result = {\"dataframes\": dataframes, \"user\": user}\\n    return json.dumps(result, ensure_ascii=False)\\n\\n\\nget_dataframes()', '_4': '{\"dataframes\": [], \"user\": \"saras\"}', '_i5': 'prime_numbers = [2, 3, 5, 7]\\n\\n# check type of prime_numbers\\nresult = type(prime_numbers)\\nprint(result)', 'prime_numbers': [2, 3, 5, 7], 'result': <class 'list'>, '_i6': '\\nimport json\\nimport getpass\\nimport hashlib\\n\\ndef import_pandas_safely():\\n    try:\\n        return __import__(\\'pandas\\')\\n    except ImportError:\\n        return False\\n\\n\\n__pandas = import_pandas_safely()\\n\\n\\ndef is_data_frame(v: str):\\n    obj = eval(v)\\n    if  isinstance(obj, __pandas.core.frame.DataFrame) or isinstance(obj, __pandas.core.series.Series):\\n        return True\\n\\n\\ndef dataframe_columns(var):\\n    df = eval(var)\\n    if isinstance(df, __pandas.core.series.Series):\\n        return [[df.name, str(df.dtype)]]\\n    return list(map(lambda col: [col, str(df[col].dtype)], df.columns))\\n\\n\\ndef dtypes_str(frame):\\n    return str(eval(frame).dtypes)\\n\\ndef dataframe_hash(var):\\n    # Return a hash including the column names and number of rows\\n    df = eval(var)\\n    if isinstance(df, __pandas.core.series.Series):\\n        return hashlib.sha256(f\"{var}-{df.name},{len(df)}\".encode(\\'utf-8\\')).hexdigest()\\n    return hashlib.sha256(f\"{var}-{\\',\\'.join(df.columns)},{len(df)}\".encode(\\'utf-8\\')).hexdigest()\\n\\ndef get_dataframes():\\n    if __pandas is None:\\n        return []\\n    user = getpass.getuser()\\n    values = %who_ls\\n    dataframes = [\\n        {\\n            \"name\": var,\\n            \"type\": type(eval(var)).__name__,\\n            \"hash\": dataframe_hash(var),\\n            \"cols\": dataframe_columns(var),\\n            \"dtypesStr\": dtypes_str(var),\\n        }\\n        for var in values if is_data_frame(var)\\n    ]\\n    result = {\"dataframes\": dataframes, \"user\": user}\\n    return json.dumps(result, ensure_ascii=False)\\n\\n\\nget_dataframes()', '_6': '{\"dataframes\": [], \"user\": \"saras\"}', '_i7': '# vars() with no argument\\nprint (vars())\\n\\n# returns __dict__  of a dictionary object\\nprint(vars(dict))'}\n",
      "{'__new__': <built-in method __new__ of type object at 0x00007FF887BC5400>, '__repr__': <slot wrapper '__repr__' of 'dict' objects>, '__hash__': None, '__getattribute__': <slot wrapper '__getattribute__' of 'dict' objects>, '__lt__': <slot wrapper '__lt__' of 'dict' objects>, '__le__': <slot wrapper '__le__' of 'dict' objects>, '__eq__': <slot wrapper '__eq__' of 'dict' objects>, '__ne__': <slot wrapper '__ne__' of 'dict' objects>, '__gt__': <slot wrapper '__gt__' of 'dict' objects>, '__ge__': <slot wrapper '__ge__' of 'dict' objects>, '__iter__': <slot wrapper '__iter__' of 'dict' objects>, '__init__': <slot wrapper '__init__' of 'dict' objects>, '__or__': <slot wrapper '__or__' of 'dict' objects>, '__ror__': <slot wrapper '__ror__' of 'dict' objects>, '__ior__': <slot wrapper '__ior__' of 'dict' objects>, '__len__': <slot wrapper '__len__' of 'dict' objects>, '__getitem__': <method '__getitem__' of 'dict' objects>, '__setitem__': <slot wrapper '__setitem__' of 'dict' objects>, '__delitem__': <slot wrapper '__delitem__' of 'dict' objects>, '__contains__': <method '__contains__' of 'dict' objects>, '__sizeof__': <method '__sizeof__' of 'dict' objects>, 'get': <method 'get' of 'dict' objects>, 'setdefault': <method 'setdefault' of 'dict' objects>, 'pop': <method 'pop' of 'dict' objects>, 'popitem': <method 'popitem' of 'dict' objects>, 'keys': <method 'keys' of 'dict' objects>, 'items': <method 'items' of 'dict' objects>, 'values': <method 'values' of 'dict' objects>, 'update': <method 'update' of 'dict' objects>, 'fromkeys': <method 'fromkeys' of 'dict' objects>, 'clear': <method 'clear' of 'dict' objects>, 'copy': <method 'copy' of 'dict' objects>, '__reversed__': <method '__reversed__' of 'dict' objects>, '__class_getitem__': <method '__class_getitem__' of 'dict' objects>, '__doc__': \"dict() -> new empty dictionary\\ndict(mapping) -> new dictionary initialized from a mapping object's\\n    (key, value) pairs\\ndict(iterable) -> new dictionary initialized as if via:\\n    d = {}\\n    for k, v in iterable:\\n        d[k] = v\\ndict(**kwargs) -> new dictionary initialized with the name=value pairs\\n    in the keyword argument list.  For example:  dict(one=1, two=2)\"}\n"
     ]
    }
   ],
   "source": [
    "# vars() with no argument\n",
    "print (vars())\n",
    "\n",
    "# returns __dict__  of a dictionary object\n",
    "#returns __dict__ attribute (dictionary mapping) of given object\n",
    "print(vars(dict))"
   ]
  },
  {
   "cell_type": "code",
   "execution_count": 9,
   "id": "7ecd83f9-8f79-46c7-b8be-0111e3eff139",
   "metadata": {},
   "outputs": [
    {
     "name": "stdout",
     "output_type": "stream",
     "text": [
      "slice(None, 3, None)\n",
      "slice(1, 5, 2)\n"
     ]
    }
   ],
   "source": [
    "# contains indices (0, 1, 2)\n",
    "result1 = slice(3)\n",
    "print(result1)\n",
    "\n",
    "# contains indices (1, 3)\n",
    "result2 = slice(1, 5, 2)\n",
    "print(slice(1, 5, 2))"
   ]
  },
  {
   "cell_type": "code",
   "execution_count": 18,
   "id": "fa0efad0-5ddb-4c7d-bcf2-3ea4c401ff31",
   "metadata": {},
   "outputs": [
    {
     "name": "stdout",
     "output_type": "stream",
     "text": [
      "Python\n",
      "Python\n"
     ]
    }
   ],
   "source": [
    "text = 'Python Programing'\n",
    "\n",
    "# get slice object to slice Python\n",
    "sliced_text = slice(6)\n",
    "print(text[sliced_text])\n",
    "# Output: Python\n",
    "\n",
    "#Using indexing syntax for slicing\n",
    "print(text[0:6])\n",
    "\n",
    "#Syntax : slice(start, stop, step)\n",
    "# Only stop parameter is mandatory, rest are optional."
   ]
  },
  {
   "cell_type": "code",
   "execution_count": 15,
   "id": "b239683c-f393-4912-9ee0-65a2d73d75d0",
   "metadata": {},
   "outputs": [
    {
     "name": "stdout",
     "output_type": "stream",
     "text": [
      "0\n",
      "1\n",
      "1\n",
      "2\n",
      "3\n"
     ]
    }
   ],
   "source": [
    "'''\n",
    "yield :\n",
    "yield is a keyword similar to return. When return statement is encountered, the function will stop the execution completly and program control returns\n",
    "to the calling program. But when yield is encountered, the value is returned to the calling program , but the control lies within the function itself.\n",
    "\n",
    "Program to generate Fibanocci Series of N terms using function\n",
    "0 1 1 2 3 5 8 13 21 34 55 ....\n",
    "'''\n",
    "def fibonacci(n):     #n = no. of fib terms\n",
    "    a=0\n",
    "    b=1\n",
    "    for i in range(n):\n",
    "        print(a)\n",
    "        temp =a\n",
    "        a=b\n",
    "        b = b + temp\n",
    "\n",
    "fibonacci(5)\n",
    "\n",
    "# Instead of using a Temporary variable, you could write:          a,b = b, a+b     in a single line."
   ]
  },
  {
   "cell_type": "code",
   "execution_count": 21,
   "id": "4a21f81d-2d2f-4a1a-a6da-60c93108e93d",
   "metadata": {},
   "outputs": [
    {
     "name": "stdout",
     "output_type": "stream",
     "text": [
      "0\n",
      "1\n",
      "1\n",
      "2\n",
      "3\n",
      "5\n",
      "8\n",
      "13\n",
      "21\n",
      "34\n",
      "[0, 1, 1, 2, 3, 5, 8, 13, 21, 34]\n"
     ]
    }
   ],
   "source": [
    "def fibonacci(n):\n",
    "    a=0\n",
    "    b=1\n",
    "    for i in range(n):\n",
    "        yield a\n",
    "        a, b = b , a+b\n",
    "\n",
    "for number in fibonacci(10):\n",
    "    print(number)\n",
    "\n",
    "# OR convert generator object into list and get ouptut:\n",
    "print(list(fibonacci(10)))"
   ]
  },
  {
   "cell_type": "code",
   "execution_count": 27,
   "id": "cbc1133d-5eb3-4869-a618-4849e571eb77",
   "metadata": {},
   "outputs": [
    {
     "name": "stdout",
     "output_type": "stream",
     "text": [
      "5\n",
      "7\n",
      "9\n",
      "11\n",
      "13\n",
      "15\n"
     ]
    }
   ],
   "source": [
    "'''\n",
    "Program to generate an iterable series of odd numbers\n",
    "from M to N , using yield keyword\n",
    "'''\n",
    "\n",
    "def oddNum(m,n):\n",
    "    for i in range(m,n+1):\n",
    "        if i%2 !=0:\n",
    "            yield i\n",
    "\n",
    "for number in oddNum(5,15):\n",
    "    print(number)"
   ]
  },
  {
   "cell_type": "code",
   "execution_count": 35,
   "id": "fecdbb35-f063-4afc-96de-42ba00d06d42",
   "metadata": {},
   "outputs": [
    {
     "name": "stdout",
     "output_type": "stream",
     "text": [
      "5\n",
      "7\n",
      "9\n",
      "11\n",
      "13\n",
      "15\n"
     ]
    }
   ],
   "source": [
    "def oddNum(m,n):\n",
    "    if m>n:\n",
    "        m,n = n,m\n",
    "    if m%2 == 0:\n",
    "        m= m+1\n",
    "    for i in range(m,n+1,2):\n",
    "        yield i\n",
    "\n",
    "for number in oddNum(4,15):\n",
    "    print(number)"
   ]
  },
  {
   "cell_type": "code",
   "execution_count": 41,
   "id": "110899c7-ae82-4064-84ee-b389b25fcebc",
   "metadata": {},
   "outputs": [
    {
     "name": "stdout",
     "output_type": "stream",
     "text": [
      "14\n",
      "16\n",
      "18\n",
      "20\n",
      "22\n",
      "24\n",
      "26\n",
      "28\n",
      "30\n",
      "32\n",
      "34\n"
     ]
    }
   ],
   "source": [
    "\n",
    "'''\n",
    "Program to Generate even numbers from M to N , create an iterable \n",
    "function'evennumbers(M,N)' with return the value on each \n",
    "iteration\n",
    "'''\n",
    "\n",
    "def evenNum(m,n):\n",
    "    if m>n:\n",
    "        m,n = n,m\n",
    "    if m%2 !=0:\n",
    "        m+=1\n",
    "    for i in range(m,n+1,2):\n",
    "        yield i\n",
    "\n",
    "for number in evenNum(14,35):\n",
    "    print(number)"
   ]
  },
  {
   "cell_type": "code",
   "execution_count": 45,
   "id": "fbaf6374-9f1c-417c-863c-84193cb15c0a",
   "metadata": {},
   "outputs": [
    {
     "name": "stdout",
     "output_type": "stream",
     "text": [
      "Current TimeStamp: 2024-11-03 11:56:14.624713\n"
     ]
    }
   ],
   "source": [
    "from datetime import datetime\n",
    "\n",
    "today = datetime.now()\n",
    "print(\"Current TimeStamp:\", today)"
   ]
  },
  {
   "cell_type": "code",
   "execution_count": 47,
   "id": "de2d4564-7bcc-496d-adce-e5e06aa5b042",
   "metadata": {},
   "outputs": [
    {
     "name": "stdout",
     "output_type": "stream",
     "text": [
      "Day: 3\n",
      "Month: 11\n",
      "Year: 2024\n",
      "Hour: 11\n",
      "Minute: 56\n",
      "Second: 14\n",
      "Timestamp Information: time.struct_time(tm_year=2024, tm_mon=11, tm_mday=3, tm_hour=11, tm_min=56, tm_sec=14, tm_wday=6, tm_yday=308, tm_isdst=-1)\n"
     ]
    }
   ],
   "source": [
    "print(\"Day:\" , today.day)\n",
    "print(\"Month:\" , today.month)\n",
    "print(\"Year:\" , today.year)\n",
    "print(\"Hour:\" , today.hour)\n",
    "print(\"Minute:\" , today.minute)\n",
    "print(\"Second:\" , today.second)\n",
    "print(\"Timestamp Information:\", today.timetuple())"
   ]
  },
  {
   "cell_type": "code",
   "execution_count": 49,
   "id": "d6c74f0f-a3b2-48d2-bd99-dc74aa9076da",
   "metadata": {},
   "outputs": [
    {
     "data": {
      "text/plain": [
       "11"
      ]
     },
     "execution_count": 49,
     "metadata": {},
     "output_type": "execute_result"
    }
   ],
   "source": [
    "mytuple = today.timetuple()\n",
    "mytuple[1]"
   ]
  },
  {
   "cell_type": "code",
   "execution_count": 57,
   "id": "a84c8823-2441-490e-9e90-cd5f4d8f256d",
   "metadata": {},
   "outputs": [
    {
     "name": "stdout",
     "output_type": "stream",
     "text": [
      "Date: 03-November-24\n"
     ]
    }
   ],
   "source": [
    "print(\"Date:\", today.strftime(\"%d-%B-%y\"))"
   ]
  },
  {
   "cell_type": "code",
   "execution_count": 59,
   "id": "229f9e5a-b96b-40be-aeea-a749e9fa49c3",
   "metadata": {},
   "outputs": [
    {
     "name": "stdout",
     "output_type": "stream",
     "text": [
      "Date: 3-November-24\n"
     ]
    }
   ],
   "source": [
    "print(\"Date:\", today.strftime(\"%d-%B-%y\").lstrip(\"0\"))"
   ]
  },
  {
   "cell_type": "code",
   "execution_count": 61,
   "id": "4c3c7f65-48b2-4f22-b513-8e45a9afda56",
   "metadata": {},
   "outputs": [
    {
     "name": "stdout",
     "output_type": "stream",
     "text": [
      "Date: 03-Nov-2024\n"
     ]
    }
   ],
   "source": [
    "print(\"Date:\", today.strftime(\"%d-%b-%Y\"))"
   ]
  },
  {
   "cell_type": "code",
   "execution_count": 67,
   "id": "29e88b65-bc1d-418f-9976-5d9022f7283f",
   "metadata": {},
   "outputs": [
    {
     "name": "stdout",
     "output_type": "stream",
     "text": [
      "Time: 11:56:14 AM\n"
     ]
    }
   ],
   "source": [
    "print(\"Time:\", today.strftime(\"%H:%M:%S %p\"))"
   ]
  },
  {
   "cell_type": "code",
   "execution_count": 99,
   "id": "44e23ecc-7bc5-4d81-97f1-ed98081d3c37",
   "metadata": {},
   "outputs": [
    {
     "name": "stdout",
     "output_type": "stream",
     "text": [
      "2024-12-30\n",
      "1 , Monday, 365, 52\n"
     ]
    }
   ],
   "source": [
    "from datetime import date\n",
    "mydate = date(2024, 12,30)   # accepts date in YYYY-MM-DD format; all arguments must be Integers\n",
    "print(mydate)\n",
    "print(mydate.strftime(\"%w , %A, %j, %U\"))  # week number, weekday, day of the year, week number of the year"
   ]
  },
  {
   "cell_type": "code",
   "execution_count": 79,
   "id": "fde72da4-a73a-4b17-84f1-9e198d7e8ca0",
   "metadata": {},
   "outputs": [
    {
     "name": "stdout",
     "output_type": "stream",
     "text": [
      "14:05:30.000045\n"
     ]
    }
   ],
   "source": [
    "from datetime import time\n",
    "mytime = time(14,5,30,45)\n",
    "print(mytime)"
   ]
  },
  {
   "cell_type": "code",
   "execution_count": 81,
   "id": "306c375a-826c-4f50-8544-8d6560131175",
   "metadata": {},
   "outputs": [
    {
     "name": "stdout",
     "output_type": "stream",
     "text": [
      "14:05:30 PM\n"
     ]
    }
   ],
   "source": [
    "print(mytime.strftime(\"%H:%M:%S %p\"))"
   ]
  },
  {
   "cell_type": "code",
   "execution_count": 95,
   "id": "97781825-c92f-4de9-b717-649e4f88380c",
   "metadata": {},
   "outputs": [
    {
     "name": "stdout",
     "output_type": "stream",
     "text": [
      "02:05:30 PM\n"
     ]
    }
   ],
   "source": [
    "print(mytime.strftime(\"%I:%M:%S %p\"))   # I -> 12hr format time, H -> 24hr format"
   ]
  },
  {
   "cell_type": "code",
   "execution_count": 103,
   "id": "e8249e33-d070-4aac-b8e5-2fbb0f6eb0bc",
   "metadata": {},
   "outputs": [
    {
     "name": "stdin",
     "output_type": "stream",
     "text": [
      "What is your Date of Birth? Give in MM/DD/YYYY format 06/15/1989\n"
     ]
    },
    {
     "name": "stdout",
     "output_type": "stream",
     "text": [
      "Your DOB is: 1989-06-15\n",
      "You were born on Thursday of June of 1989.\n"
     ]
    }
   ],
   "source": [
    "\n",
    "'''\n",
    "Write a program to accept your date of birth in MM/DD/YYYY format\n",
    "from the console , find and print the name of weekday when you where born\n",
    "'''\n",
    "from datetime import date\n",
    "\n",
    "text = input(\"What is your Date of Birth? Give in MM/DD/YYYY format\")\n",
    "m,d,y = text.split(\"/\")\n",
    "m=int(m)\n",
    "d=int(d)\n",
    "y = int(y)\n",
    "dtext = date(y,m,d)\n",
    "print(\"Your DOB is:\", dtext)\n",
    "weekday = dtext.strftime(\"%A\")\n",
    "month = dtext.strftime(\"%B\")\n",
    "print(\"You were born on {} of {} of {}.\".format(weekday, month, y))\n"
   ]
  },
  {
   "cell_type": "code",
   "execution_count": 109,
   "id": "daab8617-8b33-4ffa-b5ca-f4aed82615d2",
   "metadata": {},
   "outputs": [
    {
     "name": "stdin",
     "output_type": "stream",
     "text": [
      "What is your Date of Birth? Give in MM/DD/YY format 9/14/17\n"
     ]
    },
    {
     "name": "stdout",
     "output_type": "stream",
     "text": [
      "Your DOB is: 2017-09-14\n",
      "You were born on Thursday of September of 2017.\n"
     ]
    }
   ],
   "source": [
    "'''\n",
    "Write a program to accept your date of birth in MM/DD/YY format\n",
    "from the console , find and print the name of weekday when you where born.\n",
    "Handle year in 2 digit format. Assume 00-99 is in the range of years 1900-2099. If y is between 0 and 99, we interpret it as part of either the 1900s or 2000s. \n",
    "Here, years 00 to 29 are assumed to be 2000–2029, and years 30 to 99 are interpreted as 1930–1999.\n",
    "'''\n",
    "from datetime import date\n",
    "\n",
    "text = input(\"What is your Date of Birth? Give in MM/DD/YY format\")\n",
    "m,d,y = text.split(\"/\")\n",
    "m=int(m)\n",
    "d=int(d)\n",
    "y = int(y)\n",
    "\n",
    "if y>=0 and y<=99:\n",
    "    if y<=29:\n",
    "        y+=2000\n",
    "    else:\n",
    "        y+=1900\n",
    "\n",
    "dtext = date(y,m,d)\n",
    "print(\"Your DOB is:\", dtext)\n",
    "weekday = dtext.strftime(\"%A\")\n",
    "month = dtext.strftime(\"%B\")\n",
    "print(\"You were born on {} of {} of {}.\".format(weekday, month, y))"
   ]
  },
  {
   "cell_type": "code",
   "execution_count": 111,
   "id": "b8b7012a-88f5-42cc-8db7-f87183abb128",
   "metadata": {},
   "outputs": [
    {
     "name": "stdout",
     "output_type": "stream",
     "text": [
      "Current timestamp: 2024-11-03 17:13:30.053184\n",
      "Time after 30 min:  2024-11-03 17:43:30.053184\n"
     ]
    }
   ],
   "source": [
    "from datetime import datetime, timedelta\n",
    "\n",
    "today = datetime.now()\n",
    "print(\"Current timestamp:\", today)\n",
    "print(\"Time after 30 min: \", today + timedelta(minutes=30))"
   ]
  },
  {
   "cell_type": "code",
   "execution_count": 113,
   "id": "a4477b02-0410-4e11-a388-41c066fcc2a4",
   "metadata": {},
   "outputs": [
    {
     "name": "stdout",
     "output_type": "stream",
     "text": [
      "Date after one year: 2025-11-03 17:13:30.053184\n"
     ]
    }
   ],
   "source": [
    "print(\"Date after one year:\", today + timedelta(days=365))"
   ]
  },
  {
   "cell_type": "code",
   "execution_count": 115,
   "id": "3e0e1abf-7aa4-4a5f-9d5c-e3b2394c59e8",
   "metadata": {},
   "outputs": [
    {
     "data": {
      "text/plain": [
       "'Monday'"
      ]
     },
     "execution_count": 115,
     "metadata": {},
     "output_type": "execute_result"
    }
   ],
   "source": [
    "ad = today + timedelta(days=365)\n",
    "ad.strftime(\"%A\")"
   ]
  },
  {
   "cell_type": "code",
   "execution_count": 119,
   "id": "63bacd5a-0487-47d6-847a-dcd81261e7e7",
   "metadata": {},
   "outputs": [
    {
     "name": "stdout",
     "output_type": "stream",
     "text": [
      "Date after 4 weeks: 2024-12-01 17:13:30.053184\n"
     ]
    }
   ],
   "source": [
    "print(\"Date after 4 weeks:\", today + timedelta(weeks=4))"
   ]
  },
  {
   "cell_type": "code",
   "execution_count": 121,
   "id": "46e531d2-0e2b-4d90-aad5-3b7d62c41e54",
   "metadata": {},
   "outputs": [
    {
     "name": "stdout",
     "output_type": "stream",
     "text": [
      "Date before 4 weeks: 2024-10-06 17:13:30.053184\n"
     ]
    }
   ],
   "source": [
    "print(\"Date before 4 weeks:\", today - timedelta(weeks=4))"
   ]
  },
  {
   "cell_type": "code",
   "execution_count": 123,
   "id": "27dc3688-5748-44c8-8784-6f68170f8740",
   "metadata": {},
   "outputs": [
    {
     "name": "stdout",
     "output_type": "stream",
     "text": [
      "Date before 10 hours: 2024-11-03 07:13:30.053184\n"
     ]
    }
   ],
   "source": [
    "print(\"Date before 10 hours:\", today - timedelta(hours=10))"
   ]
  },
  {
   "cell_type": "code",
   "execution_count": 127,
   "id": "8b8eeaec-7616-443e-88b2-077a1f23f4f9",
   "metadata": {},
   "outputs": [
    {
     "name": "stdout",
     "output_type": "stream",
     "text": [
      "Date before 10 days: 2024-10-24 17:13:30.053184\n"
     ]
    }
   ],
   "source": [
    "print(\"Date before 10 days:\", today - timedelta(days=10))"
   ]
  },
  {
   "cell_type": "code",
   "execution_count": 135,
   "id": "da0d1507-b455-4122-8d5d-200ecdfd390b",
   "metadata": {},
   "outputs": [
    {
     "name": "stdout",
     "output_type": "stream",
     "text": [
      "Square root of 15: 3.87\n"
     ]
    }
   ],
   "source": [
    "import math\n",
    "\n",
    "print(\"Square root of 15:\", round(math.sqrt(15),2))"
   ]
  },
  {
   "cell_type": "code",
   "execution_count": 149,
   "id": "f16b3b5c-0003-4c5d-9db3-c44209746a8e",
   "metadata": {},
   "outputs": [
    {
     "name": "stdout",
     "output_type": "stream",
     "text": [
      "4th power of 3: 81.0\n",
      "Value of pi: 3.14\n",
      "Factorial of 6: 720\n",
      "Absolute  value of -123 =  123.0\n",
      "Greatest Common Divisor: 4\n",
      "Ceiling a Number: 5\n",
      "Floor value of a Number: 4\n"
     ]
    }
   ],
   "source": [
    "print(\"4th power of 3:\",math.pow(3,4)) #3*3*3*3=81\n",
    "print(\"Value of pi:\",round(math.pi,2)) #value of pi\n",
    "print(\"Factorial of 6:\", math.factorial(6)) #built-in method the find the factorial\n",
    "print(\"Absolute  value of -123 = \",math.fabs(-123)) #function to find the absolute value\n",
    "print(\"Greatest Common Divisor:\", math.gcd(64,44)) #find the greatest common divisor of 2 numbers\n",
    "print(\"Ceiling a Number:\",math.ceil(4.02)) #rounds to the next integer\n",
    "print(\"Floor value of a Number:\", math.floor(4.77)) #extracts the integer part"
   ]
  },
  {
   "cell_type": "code",
   "execution_count": 145,
   "id": "63efa8b1-735d-4b70-ac25-e7348947511c",
   "metadata": {},
   "outputs": [
    {
     "data": {
      "text/plain": [
       "5040"
      ]
     },
     "execution_count": 145,
     "metadata": {},
     "output_type": "execute_result"
    }
   ],
   "source": [
    "math.factorial(7)"
   ]
  },
  {
   "cell_type": "code",
   "execution_count": 147,
   "id": "4be40732-3279-435c-ab79-846fed05e219",
   "metadata": {},
   "outputs": [
    {
     "data": {
      "text/plain": [
       "111.0"
      ]
     },
     "execution_count": 147,
     "metadata": {},
     "output_type": "execute_result"
    }
   ],
   "source": [
    "math.fabs(-111)"
   ]
  },
  {
   "cell_type": "code",
   "execution_count": 151,
   "id": "f0201d5d-a812-4963-bde2-a2b0e2e9ab03",
   "metadata": {},
   "outputs": [
    {
     "data": {
      "text/plain": [
       "17"
      ]
     },
     "execution_count": 151,
     "metadata": {},
     "output_type": "execute_result"
    }
   ],
   "source": [
    "math.gcd(17,34)"
   ]
  },
  {
   "cell_type": "code",
   "execution_count": 153,
   "id": "ea0a4b3c-4c28-42fa-977d-9dbaf6dc9e27",
   "metadata": {},
   "outputs": [
    {
     "data": {
      "text/plain": [
       "10"
      ]
     },
     "execution_count": 153,
     "metadata": {},
     "output_type": "execute_result"
    }
   ],
   "source": [
    "math.gcd(20,30)"
   ]
  },
  {
   "cell_type": "code",
   "execution_count": 155,
   "id": "f7c29f39-641d-4906-b26e-8442dbbe20ae",
   "metadata": {},
   "outputs": [
    {
     "data": {
      "text/plain": [
       "1"
      ]
     },
     "execution_count": 155,
     "metadata": {},
     "output_type": "execute_result"
    }
   ],
   "source": [
    "math.gcd(17,35)"
   ]
  },
  {
   "cell_type": "code",
   "execution_count": 157,
   "id": "5327c025-7a40-4ff3-813b-63f3e1f73c1a",
   "metadata": {},
   "outputs": [
    {
     "data": {
      "text/plain": [
       "128.0"
      ]
     },
     "execution_count": 157,
     "metadata": {},
     "output_type": "execute_result"
    }
   ],
   "source": [
    "math.pow(2,7)"
   ]
  },
  {
   "cell_type": "code",
   "execution_count": 165,
   "id": "b7a3c378-1132-47ce-a868-703ef7efca0d",
   "metadata": {},
   "outputs": [
    {
     "data": {
      "text/plain": [
       "-12"
      ]
     },
     "execution_count": 165,
     "metadata": {},
     "output_type": "execute_result"
    }
   ],
   "source": [
    "math.ceil(-12.8)  # Smallest integer greater than or equal to given integer"
   ]
  },
  {
   "cell_type": "code",
   "execution_count": 167,
   "id": "05c76163-22f9-42a3-a25d-194d6da96a57",
   "metadata": {},
   "outputs": [
    {
     "data": {
      "text/plain": [
       "4"
      ]
     },
     "execution_count": 167,
     "metadata": {},
     "output_type": "execute_result"
    }
   ],
   "source": [
    "math.ceil(3.6)"
   ]
  },
  {
   "cell_type": "code",
   "execution_count": 169,
   "id": "6f36e314-b906-4745-8b97-d1b0a17dbfc7",
   "metadata": {},
   "outputs": [
    {
     "data": {
      "text/plain": [
       "9"
      ]
     },
     "execution_count": 169,
     "metadata": {},
     "output_type": "execute_result"
    }
   ],
   "source": [
    "math.ceil(8.3)"
   ]
  },
  {
   "cell_type": "code",
   "execution_count": 174,
   "id": "693391e1-b80c-435d-bd07-4b82e77c1400",
   "metadata": {},
   "outputs": [
    {
     "data": {
      "text/plain": [
       "4"
      ]
     },
     "execution_count": 174,
     "metadata": {},
     "output_type": "execute_result"
    }
   ],
   "source": [
    "math.floor(4.5) # largest integer that is still less than or equal to the input value, regardless of whether the number is positive or negative."
   ]
  },
  {
   "cell_type": "code",
   "execution_count": 176,
   "id": "fb20f667-e714-48bd-ae13-8155b14fbe10",
   "metadata": {},
   "outputs": [
    {
     "data": {
      "text/plain": [
       "-13"
      ]
     },
     "execution_count": 176,
     "metadata": {},
     "output_type": "execute_result"
    }
   ],
   "source": [
    "math.floor(-12.8)"
   ]
  },
  {
   "cell_type": "code",
   "execution_count": 178,
   "id": "99c340ff-a3b4-436d-94d1-872a131d4b9e",
   "metadata": {},
   "outputs": [
    {
     "data": {
      "text/plain": [
       "-4"
      ]
     },
     "execution_count": 178,
     "metadata": {},
     "output_type": "execute_result"
    }
   ],
   "source": [
    "math.floor(-4)"
   ]
  },
  {
   "cell_type": "code",
   "execution_count": 180,
   "id": "b021dae6-4049-46de-99a1-197ce201c60a",
   "metadata": {},
   "outputs": [
    {
     "data": {
      "text/plain": [
       "-7"
      ]
     },
     "execution_count": 180,
     "metadata": {},
     "output_type": "execute_result"
    }
   ],
   "source": [
    "math.ceil(-7)"
   ]
  },
  {
   "cell_type": "code",
   "execution_count": 182,
   "id": "e72a2c29-7398-43cb-8179-99df5295a8e2",
   "metadata": {},
   "outputs": [
    {
     "data": {
      "text/plain": [
       "3"
      ]
     },
     "execution_count": 182,
     "metadata": {},
     "output_type": "execute_result"
    }
   ],
   "source": [
    "math.floor(3.6)"
   ]
  },
  {
   "cell_type": "code",
   "execution_count": 184,
   "id": "a4f23a3e-ab0a-4e89-9d7f-b0690ac13810",
   "metadata": {},
   "outputs": [
    {
     "name": "stdout",
     "output_type": "stream",
     "text": [
      "3\n",
      "-3\n"
     ]
    }
   ],
   "source": [
    "import math\n",
    "\n",
    "print(math.trunc(3.9))   # Output: 3, no rounding, only truncates the decimal part, similar to int(x)\n",
    "print(math.trunc(-3.9))  # Output: -3, no rounding"
   ]
  },
  {
   "cell_type": "code",
   "execution_count": 186,
   "id": "5ccde312-6be1-434e-874c-72a86ec2cb69",
   "metadata": {},
   "outputs": [
    {
     "name": "stdout",
     "output_type": "stream",
     "text": [
      "1.2999999999999998\n",
      "-1.2999999999999998\n"
     ]
    }
   ],
   "source": [
    "#Returns the remainder of dividing x by y, but it differs from the % operator. fmod keeps the sign of the dividend (x) and is useful for floating-point numbers.\n",
    "\n",
    "print(math.fmod(5.3, 2))   # Output: 1.3\n",
    "print(math.fmod(-5.3, 2))  # Output: -1.3"
   ]
  },
  {
   "cell_type": "code",
   "execution_count": 188,
   "id": "131f6f6a-6f1e-47f5-b219-0a7e92dbc24f",
   "metadata": {},
   "outputs": [
    {
     "data": {
      "text/plain": [
       "-0.0"
      ]
     },
     "execution_count": 188,
     "metadata": {},
     "output_type": "execute_result"
    }
   ],
   "source": [
    "math.fmod(-9,3)"
   ]
  },
  {
   "cell_type": "code",
   "execution_count": 190,
   "id": "33de1e6b-6b1a-4402-811b-8c205b6e6de1",
   "metadata": {},
   "outputs": [
    {
     "data": {
      "text/plain": [
       "-1.0"
      ]
     },
     "execution_count": 190,
     "metadata": {},
     "output_type": "execute_result"
    }
   ],
   "source": [
    "math.fmod(-9,4)"
   ]
  },
  {
   "cell_type": "code",
   "execution_count": 192,
   "id": "ee7c00be-99c8-422e-8df7-3e139dcfe544",
   "metadata": {},
   "outputs": [
    {
     "data": {
      "text/plain": [
       "1.0"
      ]
     },
     "execution_count": 192,
     "metadata": {},
     "output_type": "execute_result"
    }
   ],
   "source": [
    "math.fmod(3,2)"
   ]
  },
  {
   "cell_type": "code",
   "execution_count": 194,
   "id": "eb8eaaf8-2965-4e4d-bdfc-d2138ba4bfc2",
   "metadata": {},
   "outputs": [
    {
     "name": "stdout",
     "output_type": "stream",
     "text": [
      "3\n"
     ]
    }
   ],
   "source": [
    "print(-9%4)"
   ]
  },
  {
   "cell_type": "code",
   "execution_count": 226,
   "id": "620f0c32-f20a-4049-a140-4654e153e2ff",
   "metadata": {},
   "outputs": [
    {
     "name": "stdout",
     "output_type": "stream",
     "text": [
      "(0.5, 4)\n"
     ]
    }
   ],
   "source": [
    "'''\n",
    "math.frexp(x)\n",
    "Purpose: Breaks x into a mantissa m and an exponent e such that x = m * 2**e. The result is a tuple (m, e),\n",
    "where m is a float in the range 0.5 <= abs(m) < 1.\n",
    "'''\n",
    "print(math.frexp(8))"
   ]
  },
  {
   "cell_type": "code",
   "execution_count": 202,
   "id": "94bdf00a-f1b2-4b15-97d0-33889f574c67",
   "metadata": {},
   "outputs": [
    {
     "name": "stdout",
     "output_type": "stream",
     "text": [
      "(0.5625, 4)\n"
     ]
    }
   ],
   "source": [
    "print(math.frexp(9))"
   ]
  },
  {
   "cell_type": "code",
   "execution_count": 206,
   "id": "4c54c963-c5e9-4a9d-bb01-89ef3a4aabe0",
   "metadata": {},
   "outputs": [
    {
     "name": "stdout",
     "output_type": "stream",
     "text": [
      "9.0\n"
     ]
    }
   ],
   "source": [
    "print(16*0.5625)   # 9 = 0.5625 * 2**4 = 0.5625 * 16"
   ]
  },
  {
   "cell_type": "code",
   "execution_count": 212,
   "id": "d19dd7e9-8366-495f-bd89-51b38124d6a7",
   "metadata": {},
   "outputs": [
    {
     "name": "stdout",
     "output_type": "stream",
     "text": [
      "nan\n",
      "False\n"
     ]
    }
   ],
   "source": [
    "'''\n",
    "math.nan()\n",
    "Represents a NaN (Not a Number) value. It's used to define an undefined or unrepresentable value, especially in floating-point calculations.\n",
    "NaN is used in cases where a calculation cannot produce a valid result, like 0/0.\n",
    "'''\n",
    "import math\n",
    "\n",
    "nan_value = math.nan\n",
    "print(nan_value)          # Output: nan\n",
    "print(nan_value == nan_value)  # Output: False (NaN is not equal to itself)"
   ]
  },
  {
   "cell_type": "code",
   "execution_count": 210,
   "id": "3ee22024-2bc7-4e14-92e5-b72c9c58d709",
   "metadata": {},
   "outputs": [
    {
     "name": "stdout",
     "output_type": "stream",
     "text": [
      "nan\n"
     ]
    }
   ],
   "source": [
    "print(math.nan)"
   ]
  },
  {
   "cell_type": "code",
   "execution_count": 214,
   "id": "26f5260b-4bc1-4725-ba66-784e041c82f5",
   "metadata": {},
   "outputs": [
    {
     "name": "stdout",
     "output_type": "stream",
     "text": [
      "False\n"
     ]
    }
   ],
   "source": [
    "'''\n",
    "math.isnan(x)\n",
    "Purpose: Checks if the value x is NaN. Returns True if x is NaN, otherwise False.\n",
    "Useful in data validation and error-checking to handle cases where a result is undefined.\n",
    "'''\n",
    "print(math.isnan(23))"
   ]
  },
  {
   "cell_type": "code",
   "execution_count": 216,
   "id": "dafa03a7-ff4a-4d1d-a207-a69826a0f378",
   "metadata": {},
   "outputs": [
    {
     "name": "stdout",
     "output_type": "stream",
     "text": [
      "True\n"
     ]
    }
   ],
   "source": [
    "print(math.isnan(math.nan))"
   ]
  },
  {
   "cell_type": "code",
   "execution_count": 220,
   "id": "efcb4b17-154a-4bda-b0ab-e071c67b78c4",
   "metadata": {},
   "outputs": [
    {
     "name": "stdout",
     "output_type": "stream",
     "text": [
      "Math sqrt 4.0\n",
      "Math isqrt:  4\n"
     ]
    }
   ],
   "source": [
    "'''\n",
    "math.isqrt(x)\n",
    "Purpose: Calculates the integer square root of a non-negative integer x, which is the largest integer i such that i * i <= x.\n",
    "Unlike math.sqrt, isqrt always returns an integer and does not produce a float, making it suitable for exact arithmetic where floating-point precision issues are unwanted.\n",
    "'''\n",
    "print(\"Math sqrt\",math.sqrt(16))\n",
    "print(\"Math isqrt: \", math.isqrt(16))  # 4 * 4 <=16"
   ]
  },
  {
   "cell_type": "code",
   "execution_count": 224,
   "id": "d13b955c-40e9-471f-a429-8a6ccb88cdc2",
   "metadata": {},
   "outputs": [
    {
     "data": {
      "text/plain": [
       "3"
      ]
     },
     "execution_count": 224,
     "metadata": {},
     "output_type": "execute_result"
    }
   ],
   "source": [
    "math.isqrt(10)  # 3*3<=10 and 4*4 >10"
   ]
  },
  {
   "cell_type": "code",
   "execution_count": 228,
   "id": "aef4217f-7171-4018-8c5e-111ba52f7042",
   "metadata": {},
   "outputs": [
    {
     "data": {
      "text/plain": [
       "-3"
      ]
     },
     "execution_count": 228,
     "metadata": {},
     "output_type": "execute_result"
    }
   ],
   "source": [
    "math.ceil(-3.5)"
   ]
  },
  {
   "cell_type": "code",
   "execution_count": 230,
   "id": "8fa3b689-329f-4b94-8c37-04812de5de4d",
   "metadata": {},
   "outputs": [
    {
     "data": {
      "text/plain": [
       "-4"
      ]
     },
     "execution_count": 230,
     "metadata": {},
     "output_type": "execute_result"
    }
   ],
   "source": [
    "math.floor(-3.5)"
   ]
  },
  {
   "cell_type": "code",
   "execution_count": 232,
   "id": "e16f93ec-4d95-4560-8a0a-9f9af64bf596",
   "metadata": {},
   "outputs": [
    {
     "data": {
      "text/plain": [
       "-4"
      ]
     },
     "execution_count": 232,
     "metadata": {},
     "output_type": "execute_result"
    }
   ],
   "source": [
    "math.floor(-3.9)"
   ]
  },
  {
   "cell_type": "code",
   "execution_count": 234,
   "id": "9e9612c4-0a0c-4304-9c6c-9bd2cbf28184",
   "metadata": {},
   "outputs": [
    {
     "data": {
      "text/plain": [
       "-3"
      ]
     },
     "execution_count": 234,
     "metadata": {},
     "output_type": "execute_result"
    }
   ],
   "source": [
    "math.ceil(-3.9)"
   ]
  },
  {
   "cell_type": "code",
   "execution_count": 244,
   "id": "9e876c89-9b3b-4729-901a-9945519281dc",
   "metadata": {},
   "outputs": [
    {
     "name": "stdin",
     "output_type": "stream",
     "text": [
      "Enter base of triangle: 2.1\n",
      "Enter altitude: 4\n"
     ]
    },
    {
     "name": "stdout",
     "output_type": "stream",
     "text": [
      "Hypotenuse of triangle is: 4.517742799230607\n"
     ]
    }
   ],
   "source": [
    "base = float(input(\"Enter base of triangle:\"))\n",
    "alt = float(input(\"Enter altitude:\"))\n",
    "x = math.pow(base,2)\n",
    "y=math.pow(alt,2)\n",
    "hyp = math.sqrt(x+y)\n",
    "print(\"Hypotenuse of triangle is:\", hyp)"
   ]
  },
  {
   "cell_type": "code",
   "execution_count": 246,
   "id": "56327cba-7e12-4177-916b-81b7a5c70275",
   "metadata": {},
   "outputs": [],
   "source": [
    "import random"
   ]
  },
  {
   "cell_type": "code",
   "execution_count": 248,
   "id": "8ae6fc02-c1b0-4c5f-bc60-6c3fde3f67ca",
   "metadata": {},
   "outputs": [
    {
     "data": {
      "text/plain": [
       "0.7250926778239664"
      ]
     },
     "execution_count": 248,
     "metadata": {},
     "output_type": "execute_result"
    }
   ],
   "source": [
    "random.random()"
   ]
  },
  {
   "cell_type": "code",
   "execution_count": 250,
   "id": "c7767ee5-a798-4114-9f5e-e1417ca7e87e",
   "metadata": {},
   "outputs": [
    {
     "data": {
      "text/plain": [
       "17"
      ]
     },
     "execution_count": 250,
     "metadata": {},
     "output_type": "execute_result"
    }
   ],
   "source": [
    "random.randint(10,20)"
   ]
  },
  {
   "cell_type": "code",
   "execution_count": 252,
   "id": "68ebae0d-7c9f-4c19-a0be-6adead4f7551",
   "metadata": {},
   "outputs": [
    {
     "name": "stdout",
     "output_type": "stream",
     "text": [
      "10\n",
      "10\n",
      "10\n",
      "11\n",
      "16\n"
     ]
    }
   ],
   "source": [
    "for i in range(5):\n",
    "    print(random.randint(10,20))"
   ]
  },
  {
   "cell_type": "code",
   "execution_count": 256,
   "id": "ac9c7898-81c5-4cbf-b501-3d82845ed6cd",
   "metadata": {},
   "outputs": [
    {
     "name": "stdout",
     "output_type": "stream",
     "text": [
      "18.06146126073547\n",
      "14.546342359818324\n",
      "13.474243605231866\n",
      "12.495838326254123\n",
      "16.189443182745087\n"
     ]
    }
   ],
   "source": [
    "for i in range(5):\n",
    "    print(random.uniform(10,20))"
   ]
  },
  {
   "cell_type": "code",
   "execution_count": 258,
   "id": "c4abe434-89f7-4025-b894-5d1763db4a23",
   "metadata": {},
   "outputs": [
    {
     "data": {
      "text/plain": [
       "'hi'"
      ]
     },
     "execution_count": 258,
     "metadata": {},
     "output_type": "execute_result"
    }
   ],
   "source": [
    "random.choice((3,'tum','hi',4.5,60))"
   ]
  },
  {
   "cell_type": "code",
   "execution_count": 260,
   "id": "25ece28a-5ca2-4bf3-9759-9c5b03f977e3",
   "metadata": {},
   "outputs": [
    {
     "data": {
      "text/plain": [
       "3"
      ]
     },
     "execution_count": 260,
     "metadata": {},
     "output_type": "execute_result"
    }
   ],
   "source": [
    "random.choice((3,'tum','hi',4.5,60))"
   ]
  },
  {
   "cell_type": "code",
   "execution_count": 262,
   "id": "db869fd9-2d7e-428f-b76c-c6bd1faad246",
   "metadata": {},
   "outputs": [
    {
     "data": {
      "text/plain": [
       "60"
      ]
     },
     "execution_count": 262,
     "metadata": {},
     "output_type": "execute_result"
    }
   ],
   "source": [
    "random.choice((3,'tum','hi',4.5,60))"
   ]
  },
  {
   "cell_type": "code",
   "execution_count": 264,
   "id": "1de1eaf4-32ac-4db3-88c0-394885115525",
   "metadata": {},
   "outputs": [
    {
     "data": {
      "text/plain": [
       "[60, 3]"
      ]
     },
     "execution_count": 264,
     "metadata": {},
     "output_type": "execute_result"
    }
   ],
   "source": [
    "random.sample((3,'tum','hi',4.5,60),2)"
   ]
  },
  {
   "cell_type": "code",
   "execution_count": 266,
   "id": "3b56b5fa-0b55-4315-b78f-3d4e6745d0c6",
   "metadata": {},
   "outputs": [
    {
     "data": {
      "text/plain": [
       "[2.3, 10]"
      ]
     },
     "execution_count": 266,
     "metadata": {},
     "output_type": "execute_result"
    }
   ],
   "source": [
    "random.sample([10,2.3,\"hello\",(3,4),44,3.3],2)"
   ]
  },
  {
   "cell_type": "code",
   "execution_count": 268,
   "id": "d955b091-c121-406d-80d4-591c4bbbb948",
   "metadata": {},
   "outputs": [
    {
     "data": {
      "text/plain": [
       "[2.3, 3.3]"
      ]
     },
     "execution_count": 268,
     "metadata": {},
     "output_type": "execute_result"
    }
   ],
   "source": [
    "random.sample([10,2.3,\"hello\",(3,4),44,3.3],2)"
   ]
  },
  {
   "cell_type": "code",
   "execution_count": 288,
   "id": "5e939ac2-b35e-427e-88cf-f6b0b823f0ec",
   "metadata": {},
   "outputs": [
    {
     "name": "stdout",
     "output_type": "stream",
     "text": [
      "Assertion passed, continuing execution\n"
     ]
    }
   ],
   "source": [
    "x=4\n",
    "y=20\n",
    "assert x<y, \"Test failed\"\n",
    "print(\"Assertion passed, continuing execution\")"
   ]
  },
  {
   "cell_type": "code",
   "execution_count": 274,
   "id": "45217064-c90b-414a-9933-8382200fb0a5",
   "metadata": {},
   "outputs": [
    {
     "ename": "AssertionError",
     "evalue": "Test failed",
     "output_type": "error",
     "traceback": [
      "\u001b[1;31m---------------------------------------------------------------------------\u001b[0m",
      "\u001b[1;31mAssertionError\u001b[0m                            Traceback (most recent call last)",
      "Cell \u001b[1;32mIn[274], line 3\u001b[0m\n\u001b[0;32m      1\u001b[0m x\u001b[38;5;241m=\u001b[39m\u001b[38;5;241m44\u001b[39m\n\u001b[0;32m      2\u001b[0m y\u001b[38;5;241m=\u001b[39m\u001b[38;5;241m20\u001b[39m\n\u001b[1;32m----> 3\u001b[0m \u001b[38;5;28;01massert\u001b[39;00m x\u001b[38;5;241m<\u001b[39my, \u001b[38;5;124m\"\u001b[39m\u001b[38;5;124mTest failed\u001b[39m\u001b[38;5;124m\"\u001b[39m\n\u001b[0;32m      4\u001b[0m \u001b[38;5;28mprint\u001b[39m(\u001b[38;5;124m\"\u001b[39m\u001b[38;5;124mTest done\u001b[39m\u001b[38;5;124m\"\u001b[39m)\n",
      "\u001b[1;31mAssertionError\u001b[0m: Test failed"
     ]
    }
   ],
   "source": [
    "x=44\n",
    "y=20\n",
    "assert x<y, \"Test failed\"\n",
    "print(\"Test done\")"
   ]
  },
  {
   "cell_type": "code",
   "execution_count": 292,
   "id": "e79d9af8-6749-4945-86e4-5c2e89819d7d",
   "metadata": {},
   "outputs": [
    {
     "name": "stdout",
     "output_type": "stream",
     "text": [
      "x is not less than y. Assertion failed, stopping execution and error caught\n"
     ]
    }
   ],
   "source": [
    "x=44\n",
    "y=20\n",
    "try:\n",
    "    assert x<y, \"Test failed\"\n",
    "    print(\"Test done\")\n",
    "except AssertionError:\n",
    "    print(\"x is not less than y. Assertion failed, stopping execution and error caught\")"
   ]
  },
  {
   "cell_type": "code",
   "execution_count": 282,
   "id": "6551bb2f-f8f2-43a8-ba92-933d4ea36a74",
   "metadata": {},
   "outputs": [
    {
     "name": "stdout",
     "output_type": "stream",
     "text": [
      "1 Tested Okay\n",
      "2 Tested Okay\n",
      "3 Tested Okay\n"
     ]
    }
   ],
   "source": [
    "def large3(n1,n2,n3):\n",
    "    if n1>n2 and n1 > n3:\n",
    "        return n1\n",
    "    elif n2 > n1 and n2 > n3:\n",
    "        return n2\n",
    "    else:\n",
    "        return n3\n",
    "\n",
    "#automatic testing of the code using python\n",
    "i=1 #test counter\n",
    "try:\n",
    "    assert large3(15,7,8)==15,\"Test is false\"\n",
    "    print(i, \"Tested Okay\")\n",
    "    i+=1\n",
    "    assert large3(7,15,8)==15,\"Test is false\"\n",
    "    print(i, \"Tested Okay\")\n",
    "    i += 1\n",
    "    assert large3(7,8,15)==15,\"Test is false\"\n",
    "    print(i, \"Tested Okay\")\n",
    "except AssertionError:\n",
    "    print(i, \"Test failed ....\")\n"
   ]
  },
  {
   "cell_type": "code",
   "execution_count": 284,
   "id": "62182a13-69fb-484e-9a84-711c5d879741",
   "metadata": {},
   "outputs": [
    {
     "name": "stdout",
     "output_type": "stream",
     "text": [
      "1 Tested Okay\n",
      "2 Test failed ....\n"
     ]
    }
   ],
   "source": [
    "def large3(n1,n2,n3):\n",
    "    if n1>n2 and n1 > n3:\n",
    "        return n1\n",
    "    elif n2 > n1 and n2 > n3:\n",
    "        return n2\n",
    "    else:\n",
    "        return n3\n",
    "\n",
    "#automatic testing of the code using python\n",
    "i=1 #test counter\n",
    "try:\n",
    "    assert large3(15,7,8)==15,\"Test is false\"\n",
    "    print(i, \"Tested Okay\")\n",
    "    i+=1\n",
    "    assert large3(7,15,8)==8,\"Test is false\"\n",
    "    print(i, \"Tested Okay\")\n",
    "    i += 1\n",
    "    assert large3(7,8,15)==15,\"Test is false\"\n",
    "    print(i, \"Tested Okay\")\n",
    "except AssertionError:\n",
    "    print(i, \"Test failed ....\")\n"
   ]
  },
  {
   "cell_type": "code",
   "execution_count": 286,
   "id": "41053523-de5f-4a94-8251-fc2bc07a3ea1",
   "metadata": {},
   "outputs": [
    {
     "name": "stdout",
     "output_type": "stream",
     "text": [
      "1 Tested Okay\n",
      "2 Tested Okay\n",
      "3 Test failed ....\n"
     ]
    }
   ],
   "source": [
    "def large3(n1,n2,n3):\n",
    "    if n1>n2 and n1 > n3:\n",
    "        return n1\n",
    "    elif n2 > n1 and n2 > n3:\n",
    "        return n2\n",
    "    else:\n",
    "        return n3\n",
    "\n",
    "#automatic testing of the code using python\n",
    "i=1 #test counter\n",
    "try:\n",
    "    assert large3(15,7,8)==15,\"Test is false\"\n",
    "    print(i, \"Tested Okay\")\n",
    "    i+=1\n",
    "    assert large3(7,15,8)==15,\"Test is false\"\n",
    "    print(i, \"Tested Okay\")\n",
    "    i += 1\n",
    "    assert large3(7,8,15)==7,\"Test is false\"\n",
    "    print(i, \"Tested Okay\")\n",
    "except AssertionError:\n",
    "    print(i, \"Test failed ....\")\n"
   ]
  },
  {
   "cell_type": "code",
   "execution_count": null,
   "id": "e915db75-89dc-4734-8188-5222cd35c476",
   "metadata": {},
   "outputs": [],
   "source": []
  }
 ],
 "metadata": {
  "kernelspec": {
   "display_name": "Python 3 (ipykernel)",
   "language": "python",
   "name": "python3"
  },
  "language_info": {
   "codemirror_mode": {
    "name": "ipython",
    "version": 3
   },
   "file_extension": ".py",
   "mimetype": "text/x-python",
   "name": "python",
   "nbconvert_exporter": "python",
   "pygments_lexer": "ipython3",
   "version": "3.12.4"
  }
 },
 "nbformat": 4,
 "nbformat_minor": 5
}
